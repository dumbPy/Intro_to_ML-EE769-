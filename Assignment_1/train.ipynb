{
 "cells": [
  {
   "cell_type": "markdown",
   "metadata": {},
   "source": [
    "#                          Intro to Machine Learning [EE769]  \n",
    "##                                            Assignment 1 Report\n",
    "### gfmgdfgvdh,dmfsgfdslhgvmdfhsvmgk\n"
   ]
  },
  {
   "cell_type": "markdown",
   "metadata": {},
   "source": [
    "Importing all the Dependencies here"
   ]
  },
  {
   "cell_type": "code",
   "execution_count": 10,
   "metadata": {
    "collapsed": true
   },
   "outputs": [],
   "source": [
    "import pandas as pd\n",
    "from sklearn.model_selection import train_test_split\n",
    "from sklearn.ensemble import RandomForestClassifier, GradientBoostingClassifier\n",
    "from sklearn.metrics import accuracy_score\n",
    "from sklearn.model_selection import GridSearchCV\n",
    "import numpy as np\n",
    "from sklearn.model_selection import cross_val_score\n",
    "from matplotlib.pyplot import subplots, show\n",
    "from sklearn.tree import DecisionTreeClassifier\n",
    "from sklearn.svm import SVC\n",
    "from sklearn.externals import joblib\n",
    "from sklearn.neural_network import MLPClassifier"
   ]
  },
  {
   "cell_type": "markdown",
   "metadata": {},
   "source": [
    "***readCSV()*** Function reads the ***filename*** datafile and cleans it of NaN values.  \n",
    "Drops all the NaN Value containing rows to get most accurate training data.  \n",
    "Returns this cleaned datafile.  \n"
   ]
  },
  {
   "cell_type": "code",
   "execution_count": 11,
   "metadata": {
    "collapsed": true
   },
   "outputs": [],
   "source": [
    "def readCSV(filename, index_column):\n",
    "    #Data imported in dataframe and Id column set to Index\n",
    "    df = pd.read_csv(filename, index_col = index_column)\n",
    "    df.isnull().any()\n",
    "    df = df.dropna()\n",
    "    #df = df.fillna(method='ffill')\n",
    "    return df"
   ]
  },
  {
   "cell_type": "markdown",
   "metadata": {},
   "source": [
    "***dumpToFile()*** function is used to export the model and selected features to pickle file"
   ]
  },
  {
   "cell_type": "code",
   "execution_count": 12,
   "metadata": {
    "collapsed": true
   },
   "outputs": [],
   "source": [
    "def dumpToFile(classifier, Data, fileName):\n",
    "    feature_list = list(Xandy(Data)[0])\n",
    "    joblib.dump((classifier, feature_list), fileName)"
   ]
  },
  {
   "cell_type": "markdown",
   "metadata": {},
   "source": [
    "***crossValidation()*** function takes a trained *model, X, y values* and prints the cross validation score"
   ]
  },
  {
   "cell_type": "code",
   "execution_count": 13,
   "metadata": {
    "collapsed": true
   },
   "outputs": [],
   "source": [
    "def crossValidation(model, X, y, cv=5):\n",
    "    scores = cross_val_score(model, X, y, cv=cv)\n",
    "    print(\"Average CrossValidation Score of %0.2f runs: %0.5f\\n\" %(cv, scores.mean()*100))"
   ]
  },
  {
   "cell_type": "markdown",
   "metadata": {},
   "source": [
    "Given a Dataframe *Data*, ***Xandy()*** function seperates *X* and *y*  \n",
    "*X* is first **One Hot Encoded** by *X=pd.get_dummies(X)*(returns 105 features). *X* is then Normalized  \n",
    "*y* is kept as is rather than *One Hot Encoding* that was tried initially  \n",
    "as most classifier take *y* as vector only rather than *array-like*\n",
    "*X* and *y* are split into *X_train, X_test, y_train, y_test.*  "
   ]
  },
  {
   "cell_type": "code",
   "execution_count": 14,
   "metadata": {
    "collapsed": true
   },
   "outputs": [],
   "source": [
    "def Xandy(Data, verbose=False, testSize=0.2):\n",
    "    X = Data.iloc[:, 0:-1]\n",
    "    X = pd.get_dummies(X)\n",
    "    X = (X - X.mean())/(X.max()-X.min())    #X Normalized\n",
    "    y = Data.iloc[:, -1]\n",
    "    X_train, X_test, y_train, y_test = train_test_split(X, y, test_size=testSize)\n",
    "\n",
    "    # Train and Test dataset size details\n",
    "    if verbose==True:\n",
    "        print (\"Train_x Shape :: \", X_train.shape)\n",
    "        print (\"Train_y Shape :: \", y_train.shape)\n",
    "        print (\"Test_x Shape :: \", X_test.shape)\n",
    "        print (\"Test_y Shape :: \", y_test.shape)\n",
    "    return X, y, X_train, X_test, y_train, y_test "
   ]
  },
  {
   "cell_type": "markdown",
   "metadata": {},
   "source": [
    "***tune*** Function applies parameter tuning and plots graphs for each parameter tuned.  \n",
    "It returns best parameters to be used for training the final model."
   ]
  },
  {
   "cell_type": "code",
   "execution_count": 15,
   "metadata": {
    "collapsed": true
   },
   "outputs": [],
   "source": [
    "def tune(testData, classifier, param_grid, verbose=False):\n",
    "    \"\"\"\n",
    "    Input: testData\n",
    "    Uses this testData to call randomsearchCV for tuning parameters.\n",
    "    output: Trained model, best_parameters\n",
    "    \"\"\"\n",
    "    \n",
    "    #print('Tuning Parameters for : '+str(classifier))\n",
    "    grid = param_grid\n",
    "    \n",
    "    X, y, X_train, X_test, y_train, y_test = Xandy(testData,verbose = verbose, testSize=0.2)\n",
    "    clf = classifier()\n",
    "    numericParameters = [i for i in grid.keys() if type(grid[i][0])==int]\n",
    "    bestParameters = {}\n",
    "    plot_rows = int(np.sqrt(len(numericParameters)))\n",
    "    fig, axes = subplots(plot_rows, int(len(numericParameters)/plot_rows))\n",
    "    ax = axes.flatten()\n",
    "    for key in grid:\n",
    "        grid2 = {key:grid[key]}\n",
    "        Search = GridSearchCV(clf, param_grid=grid2, n_jobs=-1, return_train_score=True, cv=3, verbose=verbose)\n",
    "        Search.fit(X, y)\n",
    "        searchResults = pd.DataFrame(Search.cv_results_)\n",
    "        bestParameters.update(Search.best_params_)\n",
    "        if verbose:\n",
    "            print(searchResults)\n",
    "\n",
    "        if key in numericParameters:\n",
    "            key_index = numericParameters.index(key)\n",
    "            ax[key_index].plot(grid2[key], searchResults.loc[:, 'mean_test_score'])\n",
    "            ax[key_index].set_xlabel(\"%s\"%(key))\n",
    "            ax[key_index].set_ylabel('Accuracy Score')\n",
    "    fig.tight_layout()\n",
    "    show()\n",
    "    print('******************************************************')\n",
    "    print('Best Parameters decided by Parameter Tuning: ')\n",
    "    print(\"\")\n",
    "    print(pd.DataFrame(list(bestParameters.items()), columns = ['Parameter', 'Value']))\n",
    "    return (bestParameters)"
   ]
  },
  {
   "cell_type": "markdown",
   "metadata": {},
   "source": [
    "***Classify()*** function takes dataframe and any classifier module as input. Parameters as Input is optional.  \n",
    "It ***calls Xandy()*** function above to get the required inputs for training and testing the classifier.  \n",
    "It can drop features optionally by ***featureDropFlag=True*** (works only with classifiers from *sklearn.ensemble* or others that have *classifier.feature\\_importances\\_ parameter*.  \n",
    "It uses *classifier.feature\\_importances\\_* to get feature importance score, sorts features accordingly.  \n",
    "calling it with **featureDropFlag=True** reduces features and returns trained classifier and reduced testData.  \n",
    "Top ***n*** features can be selected by ***featureSize*** (default = 10) (ignored if ***featureDropFlag=False***)"
   ]
  },
  {
   "cell_type": "code",
   "execution_count": 16,
   "metadata": {
    "collapsed": true
   },
   "outputs": [],
   "source": [
    "def Classify(testData, classifier, parameters=False, featureDropFlag = False, cvFlag = True, featureSize = 10,\n",
    "             verbose=False, testSize = 0.2):\n",
    "    \"\"\"\n",
    "    Classify()\n",
    "    Input:   testData, classifier to use, featureDropFlag(optional)(limited to ensemble classifiers)\n",
    "             verbose (optional) to print metadata\n",
    "    Prints:  Accuracy score\n",
    "    Returns: trained model clf, testData(features dropped if applicable)\n",
    "    \"\"\"\n",
    "    print('******************************************************')\n",
    "\n",
    "    X, y, X_train, X_test, y_train, y_test = Xandy(testData,verbose = verbose, testSize=testSize)\n",
    "\n",
    "    if parameters:\n",
    "        clf = classifier(**parameters)\n",
    "        clf_untrained = classifier(**parameters) #crossValidation needs untrained classifier\n",
    "    else:\n",
    "        clf = classifier()\n",
    "        clf_untrained = classifier()\n",
    "    clf = clf.fit(X_train, y_train)\n",
    "    predictions = clf.predict(X_test)\n",
    "    print (\"Features Selected :: \", len(X.columns))\n",
    "    print (\"Train Accuracy    :: \", accuracy_score(y_train, clf.predict(X_train)))\n",
    "    print (\"Test Accuracy     :: \", accuracy_score(y_test, predictions))\n",
    "    if cvFlag==True:\n",
    "        crossValidation(clf_untrained, X, y)\n",
    "    if featureDropFlag==True:\n",
    "        print('******************************************************')\n",
    "        print(\"      Dropping Features by feature_importances_\")\n",
    "        #Print Feature Importance\n",
    "        head = [\"name\", \"score\"]\n",
    "        featureImportances = sorted(zip(X_train.columns, clf.feature_importances_), key=lambda x: x[1] * -1)\n",
    "        if verbose==True:\n",
    "            print(pd.DataFrame(featureImportances, columns = head))\n",
    "\n",
    "        #update testData after feature Drop and return it.\n",
    "        if featureDropFlag==True:\n",
    "            X = X[list(pd.DataFrame(featureImportances[:featureSize])[0])]\n",
    "        else:\n",
    "            X = X[list(pd.DataFrame(featureImportances[:])[0])]\n",
    "    testData = pd.concat([X, y], axis = 1)\n",
    "    return(clf, testData)"
   ]
  },
  {
   "cell_type": "markdown",
   "metadata": {},
   "source": [
    "***main()*** function starts here.  \n",
    "*train.csv* is read and a copy is kept in *df*  \n",
    "***Classify()*** function is called for all the classifiers.\n",
    "returned *model* is trained and *testData* is feature dropped if applicable  \n",
    "*param_grid_xx* is given as parameters for tuning to ***tune()*** function  \n",
    "*Model* is again trained by calling ***Classify()***  \n",
    "returned model is dumped to file by calling ***dumpToFile()*** method.\n"
   ]
  },
  {
   "cell_type": "code",
   "execution_count": 17,
   "metadata": {
    "scrolled": false
   },
   "outputs": [
    {
     "name": "stdout",
     "output_type": "stream",
     "text": [
      "******************************************************\n",
      "Model = Random Forest Classifier\n",
      "******************************************************\n",
      "******************************************************\n",
      "Features Selected ::  105\n",
      "Train Accuracy    ::  0.991788321168\n",
      "Test Accuracy     ::  0.909090909091\n",
      "Average CrossValidation Score of 5.00 runs: 92.19900\n",
      "\n",
      "******************************************************\n",
      "      Dropping Features by feature_importances_\n",
      "          Training after Feature Drop\n",
      "******************************************************\n",
      "Features Selected ::  10\n",
      "Train Accuracy    ::  0.996350364964\n",
      "Test Accuracy     ::  0.941818181818\n",
      "Average CrossValidation Score of 5.00 runs: 93.80220\n",
      "\n",
      "Tuning Parameters.. ETA 1Mins... Wait....\n"
     ]
    },
    {
     "data": {
      "image/png": "[encoded data removed]",
      "text/plain": [
       "<matplotlib.figure.Figure at 0x7f2d6806eac8>"
      ]
     },
     "metadata": {},
     "output_type": "display_data"
    },
    {
     "name": "stdout",
     "output_type": "stream",
     "text": [
      "******************************************************\n",
      "Best Parameters decided by Parameter Tuning: \n",
      "\n",
      "           Parameter  Value\n",
      "0       n_estimators    673\n",
      "1       max_features   auto\n",
      "2          max_depth    174\n",
      "3  min_samples_split      6\n",
      "4   min_samples_leaf      3\n",
      "5          bootstrap  False\n",
      "Training Model after Feature Drop and Hyperparameter Tuning\n",
      "******************************************************\n",
      "Features Selected ::  10\n",
      "Train Accuracy    ::  0.98996350365\n",
      "Test Accuracy     ::  0.96\n",
      "Average CrossValidation Score of 5.00 runs: 95.47865\n",
      "\n",
      "******************************************************\n",
      "Model = Gradient Boosting Classifier\n",
      "******************************************************\n",
      "\n",
      "******************************************************\n",
      "Features Selected ::  105\n",
      "Train Accuracy    ::  0.998175182482\n",
      "Test Accuracy     ::  0.967272727273\n",
      "Average CrossValidation Score of 5.00 runs: 97.59307\n",
      "\n",
      "******************************************************\n",
      "      Dropping Features by feature_importances_\n",
      "          Training after Feature Drop\n",
      "******************************************************\n",
      "Features Selected ::  10\n",
      "Train Accuracy    ::  0.997262773723\n",
      "Test Accuracy     ::  0.970909090909\n",
      "Average CrossValidation Score of 5.00 runs: 98.17596\n",
      "\n",
      "Tuning Parameters.. ETA 1Mins... Wait....\n"
     ]
    },
    {
     "data": {
      "image/png": "[encoded data removed]",
      "text/plain": [
       "<matplotlib.figure.Figure at 0x7f2d625e7128>"
      ]
     },
     "metadata": {},
     "output_type": "display_data"
    },
    {
     "name": "stdout",
     "output_type": "stream",
     "text": [
      "******************************************************\n",
      "Best Parameters decided by Parameter Tuning: \n",
      "\n",
      "           Parameter Value\n",
      "0       n_estimators   114\n",
      "1       max_features  auto\n",
      "2          max_depth    25\n",
      "3  min_samples_split    10\n",
      "4   min_samples_leaf     3\n",
      "Training Model after Feature Drop and Hyperparameter Tuning\n",
      "******************************************************\n",
      "Features Selected ::  10\n",
      "Train Accuracy    ::  1.0\n",
      "Test Accuracy     ::  0.985454545455\n",
      "Average CrossValidation Score of 5.00 runs: 98.17596\n",
      "\n",
      "\n",
      "  Training on 10 best Features from Here On.\n",
      "\n",
      "******************************************************\n",
      "                     Model = SVC\n",
      "******************************************************\n",
      "******************************************************\n",
      "Features Selected ::  10\n",
      "Train Accuracy    ::  0.526459854015\n",
      "Test Accuracy     ::  0.585454545455\n",
      "Average CrossValidation Score of 5.00 runs: 53.82937\n",
      "\n",
      "******************************************************\n",
      "Model =Decision Tree Classifier\n",
      "******************************************************\n",
      "******************************************************\n",
      "Features Selected ::  10\n",
      "Train Accuracy    ::  1.0\n",
      "Test Accuracy     ::  0.967272727273\n",
      "Average CrossValidation Score of 5.00 runs: 96.49897\n",
      "\n",
      "******************************************************\n",
      "Features Selected ::  10\n",
      "Train Accuracy    ::  0.982664233577\n",
      "Test Accuracy     ::  0.996363636364\n",
      "Average CrossValidation Score of 5.00 runs: 97.73746\n",
      "\n"
     ]
    }
   ],
   "source": [
    "def main():\n",
    "    df = readCSV(\"train.csv\", index_column = 'Id')\n",
    "\n",
    "    testData = df   \n",
    "    print('******************************************************')\n",
    "    print('Model = Random Forest Classifier')\n",
    "    print('******************************************************')  \n",
    "\n",
    "    #Fit, Test and Drop Features\n",
    "    model, testData = Classify(testData,classifier=RandomForestClassifier, featureDropFlag=True,\n",
    "                               featureSize=10, verbose=False)\n",
    "    \n",
    "    print(\"          Training after Feature Drop\")\n",
    "    model, testData = Classify(testData, classifier=RandomForestClassifier)\n",
    "\n",
    "    #Parameter Tuning    \n",
    "    param_grid_rf =    {'n_estimators': [int(x) for x in np.linspace(start = 10, stop = 2000, num = 10)],\n",
    "                        'max_features': ['auto', 'sqrt'],\n",
    "                        'max_depth': [int(x) for x in np.linspace(2, 1000, num = 30)],\n",
    "                        'min_samples_split': [int(x) for x in np.linspace(2, 20, num = 10)],\n",
    "                        'min_samples_leaf': [int(x) for x in np.linspace(1, 10, num = 10)],\n",
    "                        'bootstrap': [True, False]\n",
    "                        }\n",
    "    print('Tuning Parameters.. ETA 1Mins... Wait....')\n",
    "    bestParameters_rf = tune(testData, classifier=RandomForestClassifier, param_grid = param_grid_rf)\n",
    "    \n",
    "    #Final training with tuned parameters\n",
    "    print(\"Training Model after Feature Drop and Hyperparameter Tuning\")\n",
    "    final_model_rf, testData = Classify(testData, classifier=RandomForestClassifier,\n",
    "                                        parameters=bestParameters_rf, cvFlag=True)\n",
    "    #exporting to file\n",
    "    dumpToFile(final_model_rf, testData, 'model_RForest.pkl')\n",
    "    \n",
    "    \n",
    "    print('******************************************************')\n",
    "    print('Model = Gradient Boosting Classifier')\n",
    "    print('******************************************************\\n')\n",
    "    #Fit, Test and Drop Features for Gradient Boosting\n",
    "    testData = df\n",
    "    model, testData = Classify(testData, classifier=GradientBoostingClassifier,\n",
    "                               featureDropFlag=True, featureSize=10, cvFlag=True,verbose=2)\n",
    "    \n",
    "    print(\"          Training after Feature Drop\")\n",
    "    model, testData = Classify(testData, classifier=GradientBoostingClassifier, cvFlag=True)\n",
    "    \n",
    "    #Parameter Tuning for Gradient Boosting\n",
    "    param_grid_gb =    {'n_estimators': [int(x) for x in np.linspace(start = 10, stop = 2000, num = 20)],\n",
    "                        'max_features': ['auto', 'sqrt'],\n",
    "                        'max_depth': [int(x) for x in np.linspace(1, 100, num = 5)],\n",
    "                        'min_samples_split': [int(x) for x in np.linspace(2, 20, num = 10)],\n",
    "                        'min_samples_leaf': [int(x) for x in np.linspace(1, 10, num = 5)],\n",
    "                        }\n",
    "    print('Tuning Parameters.. ETA 1Mins... Wait....')\n",
    "    bestParameters_gb = tune(testData, classifier=GradientBoostingClassifier,\n",
    "                             param_grid = param_grid_gb, verbose=False)\n",
    "    \n",
    "    print(\"Training Model after Feature Drop and Hyperparameter Tuning\")\n",
    "    final_model_gb, testData = Classify(testData, classifier=GradientBoostingClassifier,\n",
    "                                        parameters=bestParameters_gb, cvFlag=True)\n",
    "    dumpToFile(final_model_gb, testData, 'model_GBoosting.pkl')\n",
    "    \n",
    "    \"\"\"\n",
    "    To Use TestData cleaned by above Model\n",
    "    'if 0:' to train models on all features.\n",
    "    \"\"\"\n",
    "    if 1:\n",
    "        df=testData\n",
    "        print('\\n  Training on 10 best Features from Here On.\\n')\n",
    "    \n",
    "    print('******************************************************')\n",
    "    print('                     Model = SVC'                      )\n",
    "    print('******************************************************')\n",
    "    \"\"\"\n",
    "    Hyperparameter tuning for SVM seemed to hang at kernel.\n",
    "    With kernel set to default, accuracy is around 55% for unseen data (overfitting)\n",
    "    Hence: default values of SVM were used-\n",
    "    except for 'gamma' : np.exp(-16.75), that was found by manual binary search\n",
    "    \"\"\"\n",
    "    testData=df\n",
    "    parameters = {'C' : 10000, 'gamma' : np.exp(-16.75), 'degree': 3, 'kernel': 'rbf'}\n",
    "    final_model_svc, testData = Classify(testData, classifier=SVC, parameters=parameters)\n",
    "    dumpToFile(final_model_svc, testData, 'model_SVC.pkl')\n",
    "    print('******************************************************')\n",
    "    print('Model =Decision Tree Classifier'                       )\n",
    "    print('******************************************************')    \n",
    "    testData=df\n",
    "    final_model_dtc, testData = Classify(testData,classifier=DecisionTreeClassifier, cvFlag=True, verbose=False)\n",
    "    dumpToFile(final_model_dtc, testData, 'model_DTC.pkl')\n",
    "    \"\"\"\"\n",
    "    print('******************************************************')\n",
    "    print('       Model = Multi Layer Perceptron')\n",
    "    print('******************************************************')    \n",
    "\n",
    "    using Neural Network Classifier\n",
    "    Input:   testData, parameters(oprional)\n",
    "    Prints:  Accuracy score\n",
    "    Returns: trained model clf, testData(features dropped)\n",
    "    \"\"\"\n",
    "    testData=df\n",
    "    parameters = {'max_iter': 5000}  #Used to avoid non-convergence of optimization warning\n",
    "    final_model_mlp, testData = Classify(testData, classifier=MLPClassifier, parameters=parameters)\n",
    "    dumpToFile(final_model_mlp, testData, 'model_MLP.pkl')\n",
    "    \n",
    "main()"
   ]
  }
 ],
 "metadata": {
  "kernelspec": {
   "display_name": "Python 3",
   "language": "python",
   "name": "python3"
  },
  "language_info": {
   "codemirror_mode": {
    "name": "ipython",
    "version": 3
   },
   "file_extension": ".py",
   "mimetype": "text/x-python",
   "name": "python",
   "nbconvert_exporter": "python",
   "pygments_lexer": "ipython3",
   "version": "3.6.3"
  }
 },
 "nbformat": 4,
 "nbformat_minor": 2
}
