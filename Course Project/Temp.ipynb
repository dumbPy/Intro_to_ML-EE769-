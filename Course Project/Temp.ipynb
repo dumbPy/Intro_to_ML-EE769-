{
 "cells": [
  {
   "cell_type": "code",
   "execution_count": 1,
   "metadata": {},
   "outputs": [],
   "source": [
    "import os"
   ]
  },
  {
   "cell_type": "code",
   "execution_count": null,
   "metadata": {},
   "outputs": [],
   "source": [
    "import os\n",
    "import random\n",
    "HOME=os.getenv(\"HOME\")\n",
    "PATH = f'{HOME}/data'\n",
    "TRAIN = f'{PATH}/train'\n",
    "EXTRA = f'{PATH}/extra'\n",
    "dir_list = os.listdir(f'{PATH}/train')\n",
    "for some_dir in dir_list:\n",
    "    files = os.path.listdir(f'{PATH}/train/{some_dir}')\n",
    "    if len(files)>30:\n",
    "        for file in files[30:]:\n",
    "            os.renames(f'{TRAIN}/{some_dir}/file', f'{EXTRA}/{some_dir}/file')\n",
    "    elif len(files)<30:\n",
    "        count=len(files)\n",
    "        while count <30:\n",
    "            for file in files:\n",
    "                if count<30:  \n",
    "                    os.link(file, \n",
    "                        f\"{TRAIN}/{some_dir}/{'%020x' % random.randrange(16**20)}.jpg\")\n",
    "                    count+=1\n",
    "    "
   ]
  },
  {
   "cell_type": "code",
   "execution_count": 9,
   "metadata": {},
   "outputs": [
    {
     "name": "stdout",
     "output_type": "stream",
     "text": [
      "b3f216bf88ff442baca799ca43bae4\n"
     ]
    }
   ],
   "source": [
    "import random\n",
    "print('%030x' % random.randrange(16**30))"
   ]
  },
  {
   "cell_type": "code",
   "execution_count": 12,
   "metadata": {},
   "outputs": [
    {
     "data": {
      "text/plain": [
       "'3db4108976ee33e414bb77de24e93a'"
      ]
     },
     "execution_count": 12,
     "metadata": {},
     "output_type": "execute_result"
    }
   ],
   "source": [
    "'%030x' % random.randrange(16**30)"
   ]
  },
  {
   "cell_type": "code",
   "execution_count": 25,
   "metadata": {},
   "outputs": [
    {
     "data": {
      "text/plain": [
       "'a359bf113fcc593f1033.jpg'"
      ]
     },
     "execution_count": 25,
     "metadata": {},
     "output_type": "execute_result"
    }
   ],
   "source": [
    "f\"{'%020x' % random.randrange(16**20)}.jpg\""
   ]
  },
  {
   "cell_type": "code",
   "execution_count": null,
   "metadata": {},
   "outputs": [],
   "source": []
  }
 ],
 "metadata": {
  "kernelspec": {
   "display_name": "Python 3",
   "language": "python",
   "name": "python3"
  },
  "language_info": {
   "codemirror_mode": {
    "name": "ipython",
    "version": 3
   },
   "file_extension": ".py",
   "mimetype": "text/x-python",
   "name": "python",
   "nbconvert_exporter": "python",
   "pygments_lexer": "ipython3",
   "version": "3.6.4"
  }
 },
 "nbformat": 4,
 "nbformat_minor": 2
}
