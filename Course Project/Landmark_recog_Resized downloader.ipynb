{
 "cells": [
  {
   "cell_type": "markdown",
   "metadata": {
    "colab_type": "text",
    "id": "175xt6mpE-tq"
   },
   "source": [
    "# Kaggle Image Recognition Challenge\n",
    "# Data Downloading Notebook"
   ]
  },
  {
   "cell_type": "markdown",
   "metadata": {
    "colab_type": "text",
    "id": "ntxdOjHTZkzc"
   },
   "source": [
    "# Downloading Kaggle Data CSV\n",
    "The Train data is highly skewed as shown by [this](http://forums.fast.ai/t/how-to-download-data-for-lesson-2-from-kaggle-for-planet-competition/7684) notebook.  \n",
    "\n"
   ]
  },
  {
   "cell_type": "code",
   "execution_count": 1,
   "metadata": {},
   "outputs": [
    {
     "data": {
      "text/plain": [
       "'/home/tinkerman'"
      ]
     },
     "execution_count": 1,
     "metadata": {},
     "output_type": "execute_result"
    }
   ],
   "source": [
    "import os\n",
    "os.getenv(\"HOME\")"
   ]
  },
  {
   "cell_type": "markdown",
   "metadata": {},
   "source": [
    "### Data Downloader Script\n",
    "CSV File Downloading Script.\n",
    "Kaggle CLI is installed and used to access competition and download the required csv files.\n"
   ]
  },
  {
   "cell_type": "code",
   "execution_count": 7,
   "metadata": {
    "colab": {
     "autoexec": {
      "startup": false,
      "wait_interval": 0
     },
     "base_uri": "https://localhost:8080/",
     "height": 719
    },
    "colab_type": "code",
    "executionInfo": {
     "elapsed": 21654,
     "status": "ok",
     "timestamp": 1524957031936,
     "user": {
      "displayName": "Sufiyan Adhikari",
      "photoUrl": "//lh3.googleusercontent.com/-5v7VMxmmv1Q/AAAAAAAAAAI/AAAAAAAAAWE/402P87Q3Mm8/s50-c-k-no/photo.jpg",
      "userId": "109884950391033451317"
     },
     "user_tz": -330
    },
    "id": "-RzBdCi0ZqE9",
    "outputId": "31426b70-3f9a-480d-c8ae-00ec22e3232c",
    "scrolled": true
   },
   "outputs": [
    {
     "name": "stdout",
     "output_type": "stream",
     "text": [
      "Requirement already satisfied: kaggle-cli in ./anaconda3/envs/fastai/lib/python3.6/site-packages\n",
      "Requirement already satisfied: cliff<2.9,>=2.8.0 in ./anaconda3/envs/fastai/lib/python3.6/site-packages (from kaggle-cli)\n",
      "Requirement already satisfied: lxml<4.1,>=4.0.0 in ./anaconda3/envs/fastai/lib/python3.6/site-packages (from kaggle-cli)\n",
      "Requirement already satisfied: configparser in ./anaconda3/envs/fastai/lib/python3.6/site-packages (from kaggle-cli)\n",
      "Requirement already satisfied: beautifulsoup4<4.7,>=4.6.0 in ./anaconda3/envs/fastai/lib/python3.6/site-packages (from kaggle-cli)\n",
      "Requirement already satisfied: cssselect<1.1,>=1.0.1 in ./anaconda3/envs/fastai/lib/python3.6/site-packages (from kaggle-cli)\n",
      "Requirement already satisfied: progressbar2<3.35,>=3.34.3 in ./anaconda3/envs/fastai/lib/python3.6/site-packages (from kaggle-cli)\n",
      "Requirement already satisfied: MechanicalSoup<0.9,>=0.7.0 in ./anaconda3/envs/fastai/lib/python3.6/site-packages (from kaggle-cli)\n",
      "Requirement already satisfied: cmd2>=0.6.7 in ./anaconda3/envs/fastai/lib/python3.6/site-packages (from cliff<2.9,>=2.8.0->kaggle-cli)\n",
      "Requirement already satisfied: six>=1.9.0 in ./anaconda3/envs/fastai/lib/python3.6/site-packages (from cliff<2.9,>=2.8.0->kaggle-cli)\n",
      "Requirement already satisfied: pyparsing>=2.1.0 in ./anaconda3/envs/fastai/lib/python3.6/site-packages (from cliff<2.9,>=2.8.0->kaggle-cli)\n",
      "Requirement already satisfied: PyYAML>=3.10.0 in ./anaconda3/envs/fastai/lib/python3.6/site-packages (from cliff<2.9,>=2.8.0->kaggle-cli)\n",
      "Requirement already satisfied: stevedore>=1.20.0 in ./anaconda3/envs/fastai/lib/python3.6/site-packages (from cliff<2.9,>=2.8.0->kaggle-cli)\n",
      "Requirement already satisfied: pbr!=2.1.0,>=2.0.0 in ./anaconda3/envs/fastai/lib/python3.6/site-packages (from cliff<2.9,>=2.8.0->kaggle-cli)\n",
      "Requirement already satisfied: PrettyTable<0.8,>=0.7.1 in ./anaconda3/envs/fastai/lib/python3.6/site-packages (from cliff<2.9,>=2.8.0->kaggle-cli)\n",
      "Requirement already satisfied: python-utils>=2.1.0 in ./anaconda3/envs/fastai/lib/python3.6/site-packages (from progressbar2<3.35,>=3.34.3->kaggle-cli)\n",
      "Requirement already satisfied: requests>=2.0 in ./anaconda3/envs/fastai/lib/python3.6/site-packages (from MechanicalSoup<0.9,>=0.7.0->kaggle-cli)\n",
      "Requirement already satisfied: pyperclip in ./anaconda3/envs/fastai/lib/python3.6/site-packages (from cmd2>=0.6.7->cliff<2.9,>=2.8.0->kaggle-cli)\n",
      "Requirement already satisfied: wcwidth; sys_platform != \"win32\" in ./anaconda3/envs/fastai/lib/python3.6/site-packages (from cmd2>=0.6.7->cliff<2.9,>=2.8.0->kaggle-cli)\n",
      "Requirement already satisfied: chardet<3.1.0,>=3.0.2 in ./anaconda3/envs/fastai/lib/python3.6/site-packages (from requests>=2.0->MechanicalSoup<0.9,>=0.7.0->kaggle-cli)\n",
      "Requirement already satisfied: idna<2.7,>=2.5 in ./anaconda3/envs/fastai/lib/python3.6/site-packages (from requests>=2.0->MechanicalSoup<0.9,>=0.7.0->kaggle-cli)\n",
      "Requirement already satisfied: urllib3<1.23,>=1.21.1 in ./anaconda3/envs/fastai/lib/python3.6/site-packages (from requests>=2.0->MechanicalSoup<0.9,>=0.7.0->kaggle-cli)\n",
      "Requirement already satisfied: certifi>=2017.4.17 in ./anaconda3/envs/fastai/lib/python3.6/site-packages (from requests>=2.0->MechanicalSoup<0.9,>=0.7.0->kaggle-cli)\n",
      "\u001b[33mYou are using pip version 9.0.3, however version 10.0.1 is available.\n",
      "You should consider upgrading via the 'pip install --upgrade pip' command.\u001b[0m\n",
      "Enter Kaggle Username: dumbPy\n",
      "Enter Kagle Password : ········\n",
      "downloading https://www.kaggle.com/c/landmark-recognition-challenge/download/test.csv.zip\n",
      "\n",
      "test.csv.zip already downloaded !\n",
      "downloading https://www.kaggle.com/c/landmark-recognition-challenge/download/train.csv.zip\n",
      "\n",
      "train.csv.zip already downloaded !\n",
      "downloading https://www.kaggle.com/c/landmark-recognition-challenge/download/sample_submission.csv.zip\n",
      "\n",
      "sample_submission.csv.zip already downloaded !\n",
      "sample_submission.csv\t   test.csv\t train.csv\n",
      "sample_submission.csv.zip  test.csv.zip  train.csv.zip\n"
     ]
    }
   ],
   "source": [
    "import os\n",
    "!pip install kaggle-cli\n",
    "username = input(\"Enter Kaggle Username: \")\n",
    "import getpass\n",
    "password = getpass.getpass(\"Enter Kagle Password : \")\n",
    "!kg config -u {username} -p {password} -c landmark-recognition-challenge\n",
    "HOME = os.getenv(\"HOME\")\n",
    "os.makedirs(f'{HOME}/data', exist_ok=True)\n",
    "os.chdir(f'{HOME}/data')\n",
    "!kg download\n",
    "if not os.path.exists(\"train.csv\"):\n",
    "    !unzip -q sample_submission.csv.zip && unzip -q test.csv.zip && unzip -q train.csv.zip\n",
    "!ls\n",
    "os.chdir(HOME)"
   ]
  },
  {
   "cell_type": "code",
   "execution_count": 8,
   "metadata": {},
   "outputs": [
    {
     "name": "stdout",
     "output_type": "stream",
     "text": [
      "sample_submission.csv\t   test.csv\t train.csv\r\n",
      "sample_submission.csv.zip  test.csv.zip  train.csv.zip\r\n"
     ]
    }
   ],
   "source": [
    "!ls data"
   ]
  },
  {
   "cell_type": "code",
   "execution_count": 2,
   "metadata": {
    "colab": {
     "autoexec": {
      "startup": false,
      "wait_interval": 0
     },
     "base_uri": "https://localhost:8080/",
     "height": 204
    },
    "colab_type": "code",
    "executionInfo": {
     "elapsed": 4138,
     "status": "ok",
     "timestamp": 1524957045541,
     "user": {
      "displayName": "Sufiyan Adhikari",
      "photoUrl": "//lh3.googleusercontent.com/-5v7VMxmmv1Q/AAAAAAAAAAI/AAAAAAAAAWE/402P87Q3Mm8/s50-c-k-no/photo.jpg",
      "userId": "109884950391033451317"
     },
     "user_tz": -330
    },
    "id": "lZ2hxBSimgm0",
    "outputId": "15128a7e-5543-42f8-fef2-4c6e3da4e7d9"
   },
   "outputs": [
    {
     "data": {
      "text/html": [
       "<div>\n",
       "<style scoped>\n",
       "    .dataframe tbody tr th:only-of-type {\n",
       "        vertical-align: middle;\n",
       "    }\n",
       "\n",
       "    .dataframe tbody tr th {\n",
       "        vertical-align: top;\n",
       "    }\n",
       "\n",
       "    .dataframe thead th {\n",
       "        text-align: right;\n",
       "    }\n",
       "</style>\n",
       "<table border=\"1\" class=\"dataframe\">\n",
       "  <thead>\n",
       "    <tr style=\"text-align: right;\">\n",
       "      <th></th>\n",
       "      <th>id</th>\n",
       "      <th>url</th>\n",
       "      <th>landmark_id</th>\n",
       "    </tr>\n",
       "  </thead>\n",
       "  <tbody>\n",
       "    <tr>\n",
       "      <th>0</th>\n",
       "      <td>cacf8152e2d2ae60</td>\n",
       "      <td>http://static.panoramio.com/photos/original/70...</td>\n",
       "      <td>4676</td>\n",
       "    </tr>\n",
       "    <tr>\n",
       "      <th>1</th>\n",
       "      <td>0a58358a2afd3e4e</td>\n",
       "      <td>http://lh6.ggpht.com/-igpT6wu0mIA/ROV8HnUuABI/...</td>\n",
       "      <td>6651</td>\n",
       "    </tr>\n",
       "    <tr>\n",
       "      <th>2</th>\n",
       "      <td>6b2bb500b6a38aa0</td>\n",
       "      <td>http://lh6.ggpht.com/-vKr5G5MEusk/SR6r6SJi6mI/...</td>\n",
       "      <td>11284</td>\n",
       "    </tr>\n",
       "    <tr>\n",
       "      <th>3</th>\n",
       "      <td>b399f09dee9c3c67</td>\n",
       "      <td>https://lh3.googleusercontent.com/-LOW2cjAqubA...</td>\n",
       "      <td>8429</td>\n",
       "    </tr>\n",
       "    <tr>\n",
       "      <th>4</th>\n",
       "      <td>19ace29d77a5be66</td>\n",
       "      <td>https://lh5.googleusercontent.com/-tnmSXwQcWL8...</td>\n",
       "      <td>6231</td>\n",
       "    </tr>\n",
       "  </tbody>\n",
       "</table>\n",
       "</div>"
      ],
      "text/plain": [
       "                 id                                                url  \\\n",
       "0  cacf8152e2d2ae60  http://static.panoramio.com/photos/original/70...   \n",
       "1  0a58358a2afd3e4e  http://lh6.ggpht.com/-igpT6wu0mIA/ROV8HnUuABI/...   \n",
       "2  6b2bb500b6a38aa0  http://lh6.ggpht.com/-vKr5G5MEusk/SR6r6SJi6mI/...   \n",
       "3  b399f09dee9c3c67  https://lh3.googleusercontent.com/-LOW2cjAqubA...   \n",
       "4  19ace29d77a5be66  https://lh5.googleusercontent.com/-tnmSXwQcWL8...   \n",
       "\n",
       "   landmark_id  \n",
       "0         4676  \n",
       "1         6651  \n",
       "2        11284  \n",
       "3         8429  \n",
       "4         6231  "
      ]
     },
     "execution_count": 2,
     "metadata": {},
     "output_type": "execute_result"
    }
   ],
   "source": [
    "import pandas as pd\n",
    "train = pd.read_csv(\"data/train.csv\")\n",
    "train.head()"
   ]
  },
  {
   "cell_type": "markdown",
   "metadata": {},
   "source": [
    "### Data Downloader Script\n",
    "Whole Data is downloded to a lower resolution of *299* rather than *1600* to speed up the downoading process, and also because the data was in excess of 350 GB.  \n",
    "This idea was taken from [this](https://www.kaggle.com/c/landmark-recognition-challenge/discussion/53594) post and the initial download script was taken from [here](https://www.kaggle.com/anokas/python3-dataset-downloader-with-progress-bar) but was changed to take arguments to the function rather than sys.arg\\[\\]"
   ]
  },
  {
   "cell_type": "code",
   "execution_count": 4,
   "metadata": {
    "colab": {
     "autoexec": {
      "startup": false,
      "wait_interval": 0
     },
     "base_uri": "https://localhost:8080/",
     "height": 2530
    },
    "colab_type": "code",
    "executionInfo": {
     "elapsed": 54952,
     "status": "error",
     "timestamp": 1524957209359,
     "user": {
      "displayName": "Sufiyan Adhikari",
      "photoUrl": "//lh3.googleusercontent.com/-5v7VMxmmv1Q/AAAAAAAAAAI/AAAAAAAAAWE/402P87Q3Mm8/s50-c-k-no/photo.jpg",
      "userId": "109884950391033451317"
     },
     "user_tz": -330
    },
    "id": "dYi4MPc7KpTG",
    "outputId": "daa70e08-a842-4c8b-f599-604692d1a429"
   },
   "outputs": [
    {
     "name": "stderr",
     "output_type": "stream",
     "text": [
      "100%|██████████| 1217714/1217714 [00:52<00:00, 23310.99it/s]\n"
     ]
    },
    {
     "name": "stdout",
     "output_type": "stream",
     "text": [
      "Total number of download failures: 0\n"
     ]
    },
    {
     "name": "stderr",
     "output_type": "stream",
     "text": [
      "100%|██████████| 117703/117703 [00:15<00:00, 7655.36it/s]"
     ]
    },
    {
     "name": "stdout",
     "output_type": "stream",
     "text": [
      "Total number of download failures: 2229\n"
     ]
    },
    {
     "name": "stderr",
     "output_type": "stream",
     "text": [
      "\n"
     ]
    }
   ],
   "source": [
    "import os\n",
    "HOME = os.getenv(\"HOME\")\n",
    "DATA = f'{HOME}/data/'\n",
    "output_dirs = [f'{DATA}train', f'{DATA}test']\n",
    "files = [f'{DATA}train.csv', f'{DATA}test.csv']\n",
    "\n",
    "\n",
    "import sys, os, multiprocessing, csv\n",
    "from urllib import request, error\n",
    "from PIL import Image\n",
    "from io import BytesIO\n",
    "import tqdm\n",
    "from functools import partial\n",
    "missing_file_index = []\n",
    "def parse_data(data_file):\n",
    "    csvfile = open(data_file, 'r')\n",
    "    csvreader = csv.reader(csvfile)\n",
    "    key_url_list = [line[:2] for line in csvreader]\n",
    "    return key_url_list[1:]  # Chop off header\n",
    "\n",
    "\n",
    "def download_image(key_url, out_dir):\n",
    "    \n",
    "    (key, url) = key_url\n",
    "    filename = os.path.join(out_dir, '{}.jpg'.format(key))\n",
    "\n",
    "    if os.path.exists(filename):\n",
    "        #print('Image {} already exists. Skipping download.'.format(filename))\n",
    "        return 0\n",
    "\n",
    "    try:\n",
    "        if url[-6:-1] == 's1600': url = url[0:-6] + 's299/'\n",
    "        response = request.urlopen(url)\n",
    "        image_data = response.read()\n",
    "    except:\n",
    "        #print('Warning: Could not download image {} from {}'.format(key, url))\n",
    "        missing_file_index.append(key)\n",
    "        return 1\n",
    "\n",
    "    try:\n",
    "        pil_image = Image.open(BytesIO(image_data))\n",
    "    except:\n",
    "        #print('Warning: Failed to parse image {}'.format(key))\n",
    "        return 1\n",
    "\n",
    "    try:\n",
    "        pil_image_rgb = pil_image.convert('RGB')\n",
    "    except:\n",
    "        #print('Warning: Failed to convert image {} to RGB'.format(key))\n",
    "        return 1\n",
    "\n",
    "    try:\n",
    "        pil_image_rgb.save(filename, format='JPEG')\n",
    "    except:\n",
    "        #print('Warning: Failed to save image {}'.format(filename))\n",
    "        return 1\n",
    "    \n",
    "    return 0\n",
    "\n",
    "\n",
    "\n",
    "def loader(data_file, out_dir):\n",
    "    if not os.path.exists(out_dir):\n",
    "        os.mkdir(out_dir)\n",
    "    \n",
    "    key_url_list = parse_data(data_file)\n",
    "    pool = multiprocessing.Pool(processes=40)  # Num of CPUs\n",
    "    failures = sum(tqdm.tqdm(pool.imap_unordered(partial(download_image, out_dir=out_dir), key_url_list), total=len(key_url_list)))\n",
    "    print('Total number of download failures:', failures)\n",
    "    pool.close()\n",
    "    pool.terminate()\n",
    "\n",
    "    \n",
    "for i in [0, 1]:\n",
    "    loader(data_file=files[i], out_dir=output_dirs[i])\n"
   ]
  },
  {
   "cell_type": "markdown",
   "metadata": {},
   "source": [
    "The Above Script was run multiple times to make sure no photo was missed, hence the small run time as it skipped trying for the already downloaded photos.\n",
    "\n",
    "The actual data download took more than 3 hours."
   ]
  },
  {
   "cell_type": "code",
   "execution_count": null,
   "metadata": {},
   "outputs": [],
   "source": []
  }
 ],
 "metadata": {
  "colab": {
   "collapsed_sections": [],
   "default_view": {},
   "name": "Landmark_recog_Resized downloader.ipynb",
   "provenance": [
    {
     "file_id": "1cQIOzcTx4Z6XBEbNhxwJ466wE8J37NMv",
     "timestamp": 1524943805114
    }
   ],
   "version": "0.3.2",
   "views": {}
  },
  "kernelspec": {
   "display_name": "Python 3",
   "language": "python",
   "name": "python3"
  },
  "language_info": {
   "codemirror_mode": {
    "name": "ipython",
    "version": 3
   },
   "file_extension": ".py",
   "mimetype": "text/x-python",
   "name": "python",
   "nbconvert_exporter": "python",
   "pygments_lexer": "ipython3",
   "version": "3.6.5"
  }
 },
 "nbformat": 4,
 "nbformat_minor": 1
}
