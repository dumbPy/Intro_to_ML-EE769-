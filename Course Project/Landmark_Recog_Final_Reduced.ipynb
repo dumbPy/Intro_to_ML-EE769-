{
 "cells": [
  {
   "cell_type": "markdown",
   "metadata": {
    "colab": {
     "autoexec": {
      "startup": false,
      "wait_interval": 0
     }
    },
    "colab_type": "code",
    "id": "hiino7HiyD8w"
   },
   "source": [
    "\n",
    "# Google Landmark Recognition Challenge\n",
    "\n",
    "### by-\n",
    "   ### Sufiyan Adhikari (173190009)\n",
    "   ### Jaswant Singh    (173190020)\n",
    "   ### Khyati Thakkar   (173194001)\n"
   ]
  },
  {
   "cell_type": "code",
   "execution_count": 1,
   "metadata": {},
   "outputs": [],
   "source": [
    "%reload_ext autoreload\n",
    "%autoreload 2\n",
    "%matplotlib inline"
   ]
  },
  {
   "cell_type": "code",
   "execution_count": 2,
   "metadata": {
    "colab": {
     "autoexec": {
      "startup": false,
      "wait_interval": 0
     },
     "base_uri": "https://localhost:8080/",
     "height": 204
    },
    "colab_type": "code",
    "deletable": false,
    "editable": false,
    "executionInfo": {
     "elapsed": 4156,
     "status": "ok",
     "timestamp": 1525074838486,
     "user": {
      "displayName": "Sufiyan Adhikari",
      "photoUrl": "//lh3.googleusercontent.com/-5v7VMxmmv1Q/AAAAAAAAAAI/AAAAAAAAAWE/402P87Q3Mm8/s50-c-k-no/photo.jpg",
      "userId": "109884950391033451317"
     },
     "user_tz": -330
    },
    "id": "lZ2hxBSimgm0",
    "outputId": "c84bb975-a15f-401c-b178-e6fd476bd7a7",
    "run_control": {
     "frozen": true
    },
    "scrolled": true
   },
   "outputs": [
    {
     "data": {
      "text/html": [
       "<div>\n",
       "<style scoped>\n",
       "    .dataframe tbody tr th:only-of-type {\n",
       "        vertical-align: middle;\n",
       "    }\n",
       "\n",
       "    .dataframe tbody tr th {\n",
       "        vertical-align: top;\n",
       "    }\n",
       "\n",
       "    .dataframe thead th {\n",
       "        text-align: right;\n",
       "    }\n",
       "</style>\n",
       "<table border=\"1\" class=\"dataframe\">\n",
       "  <thead>\n",
       "    <tr style=\"text-align: right;\">\n",
       "      <th></th>\n",
       "      <th>id</th>\n",
       "      <th>url</th>\n",
       "      <th>landmark_id</th>\n",
       "    </tr>\n",
       "  </thead>\n",
       "  <tbody>\n",
       "    <tr>\n",
       "      <th>0</th>\n",
       "      <td>cacf8152e2d2ae60</td>\n",
       "      <td>http://static.panoramio.com/photos/original/70...</td>\n",
       "      <td>4676</td>\n",
       "    </tr>\n",
       "    <tr>\n",
       "      <th>1</th>\n",
       "      <td>0a58358a2afd3e4e</td>\n",
       "      <td>http://lh6.ggpht.com/-igpT6wu0mIA/ROV8HnUuABI/...</td>\n",
       "      <td>6651</td>\n",
       "    </tr>\n",
       "    <tr>\n",
       "      <th>2</th>\n",
       "      <td>6b2bb500b6a38aa0</td>\n",
       "      <td>http://lh6.ggpht.com/-vKr5G5MEusk/SR6r6SJi6mI/...</td>\n",
       "      <td>11284</td>\n",
       "    </tr>\n",
       "    <tr>\n",
       "      <th>3</th>\n",
       "      <td>b399f09dee9c3c67</td>\n",
       "      <td>https://lh3.googleusercontent.com/-LOW2cjAqubA...</td>\n",
       "      <td>8429</td>\n",
       "    </tr>\n",
       "    <tr>\n",
       "      <th>4</th>\n",
       "      <td>19ace29d77a5be66</td>\n",
       "      <td>https://lh5.googleusercontent.com/-tnmSXwQcWL8...</td>\n",
       "      <td>6231</td>\n",
       "    </tr>\n",
       "  </tbody>\n",
       "</table>\n",
       "</div>"
      ],
      "text/plain": [
       "                 id                                                url  \\\n",
       "0  cacf8152e2d2ae60  http://static.panoramio.com/photos/original/70...   \n",
       "1  0a58358a2afd3e4e  http://lh6.ggpht.com/-igpT6wu0mIA/ROV8HnUuABI/...   \n",
       "2  6b2bb500b6a38aa0  http://lh6.ggpht.com/-vKr5G5MEusk/SR6r6SJi6mI/...   \n",
       "3  b399f09dee9c3c67  https://lh3.googleusercontent.com/-LOW2cjAqubA...   \n",
       "4  19ace29d77a5be66  https://lh5.googleusercontent.com/-tnmSXwQcWL8...   \n",
       "\n",
       "   landmark_id  \n",
       "0         4676  \n",
       "1         6651  \n",
       "2        11284  \n",
       "3         8429  \n",
       "4         6231  "
      ]
     },
     "execution_count": 2,
     "metadata": {},
     "output_type": "execute_result"
    }
   ],
   "source": [
    "import pandas as pd\n",
    "train = pd.read_csv(\"data/train.csv\")\n",
    "train.head()"
   ]
  },
  {
   "cell_type": "markdown",
   "metadata": {
    "colab_type": "text",
    "id": "vIpvUwBrspFG"
   },
   "source": [
    "# Data Handling"
   ]
  },
  {
   "cell_type": "markdown",
   "metadata": {
    "colab_type": "text",
    "id": "1Y3NtqpjnmXa"
   },
   "source": [
    "### Data Sampling\n",
    "\n",
    "As Data size is Huge and Data is [Highly Skewed](https://www.kaggle.com/codename007/a-very-extensive-landmark-exploratory-analysis),  \n",
    "Sampling was required to make sure everything works before training on whole data.\n",
    "\n",
    "train: 336 GB with 1,220,165 images \n",
    "test: 34.9 GB with 116,163 images\n",
    "\n",
    "Data was downloaded [with]() this script, reducing the resolution to *299* from *1600*\n",
    "as demonstrated "
   ]
  },
  {
   "cell_type": "code",
   "execution_count": 2,
   "metadata": {
    "colab": {
     "autoexec": {
      "startup": false,
      "wait_interval": 0
     },
     "base_uri": "https://localhost:8080/",
     "height": 204
    },
    "colab_type": "code",
    "deletable": false,
    "editable": false,
    "executionInfo": {
     "elapsed": 1177,
     "status": "ok",
     "timestamp": 1525077981271,
     "user": {
      "displayName": "Sufiyan Adhikari",
      "photoUrl": "//lh3.googleusercontent.com/-5v7VMxmmv1Q/AAAAAAAAAAI/AAAAAAAAAWE/402P87Q3Mm8/s50-c-k-no/photo.jpg",
      "userId": "109884950391033451317"
     },
     "user_tz": -330
    },
    "id": "iYaHFEzCrqaK",
    "outputId": "a7ba3274-5401-4656-b677-f87844aaf0a3",
    "run_control": {
     "frozen": true
    },
    "scrolled": true
   },
   "outputs": [
    {
     "name": "stdout",
     "output_type": "stream",
     "text": [
      "Landmark IDs with Very Few Photos: \n",
      "\n",
      "   Photos  Id Count\n",
      "0       1       159\n",
      "1       2       291\n",
      "2       3       631\n",
      "3       4       999\n",
      "4       5      1314\n",
      "\n",
      "\n",
      "Landmarks IDs with Very High Number of Photos \n",
      "\n",
      "     Photos  Id Count\n",
      "759   13271         1\n",
      "760   18471         1\n",
      "761   23415         1\n",
      "762   50148         1\n",
      "763   50337         1\n"
     ]
    }
   ],
   "source": [
    "def show_count(train):\n",
    "    temp = pd.DataFrame(train.landmark_id.value_counts())\n",
    "    temp.reset_index(inplace=True)\n",
    "    temp.columns = ['landmark_id','count1']\n",
    "    temp = pd.DataFrame(temp.count1.value_counts())\n",
    "    temp = temp.sort_index()\n",
    "    temp.reset_index(inplace=True)\n",
    "    temp.columns = [\"Photos\",\"Id Count\"]\n",
    "    print(\"Landmark IDs with Very Few Photos: \\n\")\n",
    "    print(temp.head())\n",
    "    print(\"\\n\\nLandmarks IDs with Very High Number of Photos \\n\")\n",
    "    print(temp.tail())\n",
    "show_count(train)"
   ]
  },
  {
   "cell_type": "code",
   "execution_count": 2,
   "metadata": {
    "deletable": false,
    "editable": false,
    "run_control": {
     "frozen": true
    },
    "scrolled": true
   },
   "outputs": [
    {
     "name": "stdout",
     "output_type": "stream",
     "text": [
      "models\t\t\t   test\t\t test_n.csv  train.csv\t    valid\r\n",
      "sample_submission.csv\t   test.csv\t tmp\t     train.csv.zip\r\n",
      "sample_submission.csv.zip  test.csv.zip  train\t     train_n.csv\r\n"
     ]
    }
   ],
   "source": [
    "!ls data"
   ]
  },
  {
   "cell_type": "code",
   "execution_count": 2,
   "metadata": {
    "colab": {
     "autoexec": {
      "startup": false,
      "wait_interval": 0
     }
    },
    "colab_type": "code",
    "id": "Td0TFnOxr88B"
   },
   "outputs": [],
   "source": [
    "import os\n",
    "HOME = os.getenv(\"HOME\")\n",
    "os.chdir(HOME)"
   ]
  },
  {
   "cell_type": "markdown",
   "metadata": {
    "colab": {
     "autoexec": {
      "startup": false,
      "wait_interval": 0
     }
    },
    "colab_type": "code",
    "id": "rhaZXPo3nIic"
   },
   "source": [
    "### Reducing Train Data and Extracting Validation Data\n",
    "As we can see above, 159 Landmark IDs have only 1 photo, 259 have only 2 photos, etc.\n",
    "where as, a few IDs have photos in excess of several thousand.\n",
    "The Below function was written to take in the original train.csv file and reduce it to include maximum *trn_sz* photos of each landmark for training, and also generate maximum *val_sz* of validation photo indexes of each landmark if it has more than *trn*sz* photos and save it in a python list as required by **fastai** library\n",
    "\n",
    "It Dumps these into a pickle file with name train_val_<trn_sz>_<val_sz>.pkl\n",
    "\n",
    "and can be imported as *train, val_idxs = joblib.load(filename)*"
   ]
  },
  {
   "cell_type": "code",
   "execution_count": null,
   "metadata": {
    "deletable": false,
    "editable": false,
    "run_control": {
     "frozen": true
    }
   },
   "outputs": [],
   "source": [
    "#Was written to check the photos in train dataset, not downloaded.\n",
    "\n",
    "missing_in_train = []\n",
    "for i, row in train.iterrows():\n",
    "    filename = f'{HOME}/data/train/{row[\"id\"]}.jpg'\n",
    "    if not os.path.exists(filename): \n",
    "        missing_in_train.append(i)\n",
    "    elif 0 == os.path.getsize(filename):\n",
    "        #Deleting the empty files\n",
    "        os.unlink(filename)\n",
    "        missing_in_train.append(i)\n",
    "print(\"Number of Photos Not Downloaded: \", len(missing_in_train))"
   ]
  },
  {
   "cell_type": "markdown",
   "metadata": {},
   "source": [
    "os.chdir(HOME)\n",
    "train.drop(index=missing_in_train, inplace=True)\n",
    "train.to_csv(\"data/train.csv\", index=False)"
   ]
  },
  {
   "cell_type": "code",
   "execution_count": 5,
   "metadata": {
    "deletable": false,
    "editable": false,
    "run_control": {
     "frozen": true
    }
   },
   "outputs": [
    {
     "name": "stdout",
     "output_type": "stream",
     "text": [
      "Actual Training Data Size:  (1225029, 3)\n"
     ]
    }
   ],
   "source": [
    "os.chdir(\"data\")\n",
    "train_data = pd.read_csv('train.csv')\n",
    "print(\"Actual Training Data Size: \",train_data.shape)\n",
    "temp=pd.DataFrame(train_data.landmark_id.value_counts())\n",
    "temp.reset_index(inplace=True)\n",
    "temp.columns = ['landmark_id','count']\n",
    "os.chdir(HOME)"
   ]
  },
  {
   "cell_type": "code",
   "execution_count": 6,
   "metadata": {
    "deletable": false,
    "editable": false,
    "run_control": {
     "frozen": true
    },
    "scrolled": true
   },
   "outputs": [
    {
     "name": "stdout",
     "output_type": "stream",
     "text": [
      "Actual Training Data Size:  (1225029, 3)\n"
     ]
    },
    {
     "data": {
      "text/html": [
       "<div>\n",
       "<style scoped>\n",
       "    .dataframe tbody tr th:only-of-type {\n",
       "        vertical-align: middle;\n",
       "    }\n",
       "\n",
       "    .dataframe tbody tr th {\n",
       "        vertical-align: top;\n",
       "    }\n",
       "\n",
       "    .dataframe thead th {\n",
       "        text-align: right;\n",
       "    }\n",
       "</style>\n",
       "<table border=\"1\" class=\"dataframe\">\n",
       "  <thead>\n",
       "    <tr style=\"text-align: right;\">\n",
       "      <th></th>\n",
       "      <th>landmark_id</th>\n",
       "      <th>count</th>\n",
       "    </tr>\n",
       "  </thead>\n",
       "  <tbody>\n",
       "    <tr>\n",
       "      <th>0</th>\n",
       "      <td>9633</td>\n",
       "      <td>50337</td>\n",
       "    </tr>\n",
       "    <tr>\n",
       "      <th>1</th>\n",
       "      <td>6051</td>\n",
       "      <td>50148</td>\n",
       "    </tr>\n",
       "    <tr>\n",
       "      <th>2</th>\n",
       "      <td>6599</td>\n",
       "      <td>23415</td>\n",
       "    </tr>\n",
       "    <tr>\n",
       "      <th>3</th>\n",
       "      <td>9779</td>\n",
       "      <td>18471</td>\n",
       "    </tr>\n",
       "    <tr>\n",
       "      <th>4</th>\n",
       "      <td>2061</td>\n",
       "      <td>13271</td>\n",
       "    </tr>\n",
       "  </tbody>\n",
       "</table>\n",
       "</div>"
      ],
      "text/plain": [
       "   landmark_id  count\n",
       "0         9633  50337\n",
       "1         6051  50148\n",
       "2         6599  23415\n",
       "3         9779  18471\n",
       "4         2061  13271"
      ]
     },
     "execution_count": 6,
     "metadata": {},
     "output_type": "execute_result"
    }
   ],
   "source": [
    "train_data = pd.read_csv('data/train.csv')\n",
    "print(\"Actual Training Data Size: \",train_data.shape)\n",
    "temp=pd.DataFrame(train_data.landmark_id.value_counts())\n",
    "temp.reset_index(inplace=True)\n",
    "temp.columns = ['landmark_id','count']\n",
    "temp.head()"
   ]
  },
  {
   "cell_type": "markdown",
   "metadata": {},
   "source": [
    "## Training Starts Here"
   ]
  },
  {
   "cell_type": "code",
   "execution_count": 13,
   "metadata": {
    "deletable": false,
    "editable": false,
    "run_control": {
     "frozen": true
    }
   },
   "outputs": [],
   "source": [
    "#Fastai Labrary is used and all codes for the library are used from \n",
    "#fast.ai's Deep Learning course 1 v2 2018\n",
    "\n",
    "\n",
    "#To add fastai to system path\n",
    "import sys\n",
    "sys.path.append(f'{HOME}/fastai')\n",
    "\n",
    "\n",
    "\n",
    "# This file contains all the main external libs we'll use\n",
    "from fastai.imports import *\n",
    "\n",
    "from fastai.transforms import *\n",
    "from fastai.conv_learner import *\n",
    "from fastai.model import *\n",
    "from fastai.dataset import *\n",
    "from fastai.sgdr import *\n",
    "from fastai.plots import *\n",
    "\n",
    "PATH = f'{HOME}/data/'\n",
    "sz=64\n",
    "arch = resnext50\n",
    "bs=64\n"
   ]
  },
  {
   "cell_type": "code",
   "execution_count": 9,
   "metadata": {
    "deletable": false,
    "editable": false,
    "run_control": {
     "frozen": true
    }
   },
   "outputs": [
    {
     "data": {
      "text/plain": [
       "True"
      ]
     },
     "execution_count": 9,
     "metadata": {},
     "output_type": "execute_result"
    }
   ],
   "source": [
    "torch.cuda.is_available()"
   ]
  },
  {
   "cell_type": "code",
   "execution_count": 6,
   "metadata": {
    "deletable": false,
    "editable": false,
    "run_control": {
     "frozen": true
    }
   },
   "outputs": [],
   "source": [
    "os.chdir(f'{PATH}train')"
   ]
  },
  {
   "cell_type": "code",
   "execution_count": 11,
   "metadata": {
    "deletable": false,
    "editable": false,
    "run_control": {
     "frozen": true
    },
    "scrolled": true
   },
   "outputs": [
    {
     "name": "stdout",
     "output_type": "stream",
     "text": [
      "100%|██████████| 18563/18563 [38:23<00:00,  8.06it/s]\n",
      "100%|██████████| 155/155 [00:19<00:00,  7.78it/s]\n"
     ]
    }
   ],
   "source": [
    "tfms = tfms_from_model(arch, sz, aug_tfms=transforms_side_on, max_zoom=1.1)\n",
    "data = ImageClassifierData.from_paths(PATH, tfms=tfms, bs=bs, num_workers=8)\n",
    "learn = ConvLearner.pretrained(arch, data, precompute=True, xtra_fc=[5000])\n",
    "    "
   ]
  },
  {
   "cell_type": "code",
   "execution_count": 12,
   "metadata": {
    "deletable": false,
    "editable": false,
    "run_control": {
     "frozen": true
    },
    "scrolled": true
   },
   "outputs": [
    {
     "data": {
      "application/vnd.jupyter.widget-view+json": {
       "model_id": "ba5466eda2524ed18d42fcd13c966f87",
       "version_major": 2,
       "version_minor": 0
      },
      "text/plain": [
       "HBox(children=(IntProgress(value=0, description='Epoch', max=1), HTML(value='')))"
      ]
     },
     "metadata": {},
     "output_type": "display_data"
    },
    {
     "name": "stdout",
     "output_type": "stream",
     "text": [
      " 80%|███████▉  | 14828/18563 [10:29<02:38, 23.56it/s, loss=23.1]"
     ]
    },
    {
     "data": {
      "image/png": "[encoded data removed]",
      "text/plain": [
       "<Figure size 432x288 with 1 Axes>"
      ]
     },
     "metadata": {},
     "output_type": "display_data"
    }
   ],
   "source": [
    "lrf=learn.lr_find()\n",
    "learn.sched.plot()"
   ]
  },
  {
   "cell_type": "markdown",
   "metadata": {},
   "source": [
    "We Select an optimal Learning Rate of 0.05 from the above plot"
   ]
  },
  {
   "cell_type": "code",
   "execution_count": 13,
   "metadata": {
    "deletable": false,
    "editable": false,
    "run_control": {
     "frozen": true
    }
   },
   "outputs": [],
   "source": [
    "lr = 0.05"
   ]
  },
  {
   "cell_type": "code",
   "execution_count": 14,
   "metadata": {
    "deletable": false,
    "editable": false,
    "run_control": {
     "frozen": true
    },
    "scrolled": true
   },
   "outputs": [
    {
     "data": {
      "application/vnd.jupyter.widget-view+json": {
       "model_id": "e45e197f1b06401f96a1292058e77c16",
       "version_major": 2,
       "version_minor": 0
      },
      "text/plain": [
       "HBox(children=(IntProgress(value=0, description='Epoch', max=1), HTML(value='')))"
      ]
     },
     "metadata": {},
     "output_type": "display_data"
    },
    {
     "name": "stdout",
     "output_type": "stream",
     "text": [
      "  2%|▏         | 434/18563 [00:07<05:27, 55.33it/s, loss=8.35]\n",
      "epoch      trn_loss   val_loss   accuracy                       \n",
      "    0      4.990365   11.734937  0.000101  \n",
      "\n"
     ]
    },
    {
     "data": {
      "text/plain": [
       "[array([11.73494]), 0.00010082677959265981]"
      ]
     },
     "execution_count": 14,
     "metadata": {},
     "output_type": "execute_result"
    }
   ],
   "source": [
    "learn.fit(lr, 1)"
   ]
  },
  {
   "cell_type": "code",
   "execution_count": 15,
   "metadata": {
    "deletable": false,
    "editable": false,
    "run_control": {
     "frozen": true
    }
   },
   "outputs": [],
   "source": [
    "learn.save(f'model_{sz}_1')"
   ]
  },
  {
   "cell_type": "code",
   "execution_count": 16,
   "metadata": {
    "deletable": false,
    "editable": false,
    "run_control": {
     "frozen": true
    },
    "scrolled": false
   },
   "outputs": [
    {
     "data": {
      "application/vnd.jupyter.widget-view+json": {
       "model_id": "bb7b44afa0b143acb348779269f70b6e",
       "version_major": 2,
       "version_minor": 0
      },
      "text/plain": [
       "HBox(children=(IntProgress(value=0, description='Epoch', max=2), HTML(value='')))"
      ]
     },
     "metadata": {},
     "output_type": "display_data"
    },
    {
     "name": "stdout",
     "output_type": "stream",
     "text": [
      "epoch      trn_loss   val_loss   accuracy                       \n",
      "    0      4.84581    12.167926  0.000101  \n",
      "    1      4.616157   12.441432  0.000101                       \n",
      "\n"
     ]
    }
   ],
   "source": [
    "learn.precompute=False\n",
    "learn.fit(lr, 2, cycle_len=1)\n",
    "learn.save(f'model_{sz}_2')"
   ]
  },
  {
   "cell_type": "markdown",
   "metadata": {
    "deletable": false,
    "editable": false,
    "run_control": {
     "frozen": true
    }
   },
   "source": [
    "### OverFitting Model\n",
    "We can see from above that the model is overfitting.\n",
    "This is probably due to some landmarks have a lot more photos that the others.\n",
    "Skewed Dataset needs to be handelled.\n",
    "Our Solution:\n",
    "Limiting max photos of each landmark to 30\n",
    "Creating *hard links* of photos if photos of a landmark are below 30."
   ]
  },
  {
   "cell_type": "code",
   "execution_count": 34,
   "metadata": {
    "deletable": false,
    "editable": false,
    "run_control": {
     "frozen": true
    },
    "scrolled": false
   },
   "outputs": [
    {
     "name": "stderr",
     "output_type": "stream",
     "text": [
      "\n",
      "  0%|          | 0/14951 [00:00<?, ?it/s]\u001b[A\n",
      "  2%|▏         | 339/14951 [00:00<00:04, 3315.32it/s]\u001b[A\n",
      "  6%|▌         | 878/14951 [00:00<00:03, 4338.89it/s]\u001b[A\n",
      "  9%|▊         | 1273/14951 [00:00<00:03, 4209.02it/s]\u001b[A\n",
      " 10%|█         | 1555/14951 [00:00<00:03, 3833.74it/s]\u001b[A\n",
      " 13%|█▎        | 1896/14951 [00:00<00:03, 3736.25it/s]\u001b[A\n",
      " 18%|█▊        | 2720/14951 [00:00<00:02, 4424.70it/s]\u001b[A\n",
      " 25%|██▍       | 3674/14951 [00:00<00:02, 5116.67it/s]\u001b[A\n",
      " 31%|███       | 4669/14951 [00:00<00:01, 5710.69it/s]\u001b[A\n",
      " 41%|████      | 6069/14951 [00:00<00:01, 6593.05it/s]\u001b[A\n",
      " 50%|████▉     | 7424/14951 [00:01<00:01, 7280.68it/s]\u001b[A\n",
      " 57%|█████▋    | 8463/14951 [00:01<00:00, 6713.07it/s]\u001b[A\n",
      " 62%|██████▏   | 9320/14951 [00:01<00:00, 6438.37it/s]\u001b[A\n",
      " 67%|██████▋   | 10058/14951 [00:01<00:00, 6325.91it/s]\u001b[A\n",
      " 73%|███████▎  | 10931/14951 [00:01<00:00, 6431.68it/s]\u001b[A\n",
      " 80%|███████▉  | 11893/14951 [00:01<00:00, 6608.41it/s]\u001b[A\n",
      " 97%|█████████▋| 14518/14951 [00:01<00:00, 7642.56it/s]\u001b[A\n",
      "100%|██████████| 14951/14951 [00:01<00:00, 7804.04it/s]\u001b[A"
     ]
    },
    {
     "name": "stdout",
     "output_type": "stream",
     "text": [
      "Total Directories Sorted: 14951\n",
      "Done Setting Data!\n",
      "Total Empty Directory: 0\n"
     ]
    }
   ],
   "source": [
    "import os\n",
    "import random\n",
    "import multiprocessing\n",
    "import tqdm\n",
    "from shutil import copyfile, move\n",
    "\n",
    "empty_dir = []\n",
    "def sort_dir(some_dir):\n",
    "    if os.path.isdir(f'{PATH}/train/{some_dir}'):\n",
    "        files = os.listdir(f'{PATH}/train/{some_dir}')\n",
    "        if len(files)>30:\n",
    "            if len(files)<60:\n",
    "                for file in files[30:]:\n",
    "                    os.renames(f'{TRAIN}/{some_dir}/{file}', f'{EXTRA}/{some_dir}/{file}')\n",
    "    #                 !mv f'{TRAIN}/{some_dir}/{file}' f'{EXTRA}/{some_dir}/{file}'\n",
    "            else:\n",
    "                move(f'{TRAIN}/{some_dir}', f'{EXTRA}')\n",
    "                for file in files[30:]:\n",
    "                    os.renames(f'{EXTRA}/{some_dir}/{file}', f'{TRAIN}/{some_dir}/{file}')\n",
    "        elif len(files)<30 and len(files)>=1:\n",
    "            count=len(files)\n",
    "            while count <30:\n",
    "                for file in files:\n",
    "                    if count<30:  \n",
    "                        copyfile(f'{TRAIN}/{some_dir}/{file}', \n",
    "                            f\"{TRAIN}/{some_dir}/{'%020x' % random.randrange(16**20)}.jpg\")\n",
    "    #                     !ln f'{TRAIN}/{some_dir}/{file}' f\"{TRAIN}/{some_dir}/{'%020x' % random.randrange(16**20)}.jpg\"\n",
    "                        count+=1\n",
    "        elif len(files)==0:\n",
    "            empty_dir.append(some_dir)\n",
    "    return 1              \n",
    "                    \n",
    "                    \n",
    "HOME=os.getenv(\"HOME\")\n",
    "PATH = f'{HOME}/data'\n",
    "TRAIN = f'{PATH}/train'\n",
    "EXTRA = f'{PATH}/extra'\n",
    "dir_list = os.listdir(f'{PATH}/train')\n",
    "pool = multiprocessing.Pool(processes=8) #no. of parallel processes\n",
    "total = sum(tqdm.tqdm(pool.imap_unordered(sort_dir , dir_list), total=len(dir_list)))\n",
    "print(f\"Total Directories Sorted: {total}\")                    \n",
    "print(\"Done Setting Data!\")\n",
    "print(f\"Total Empty Directory: {len(empty_dir)}\")"
   ]
  },
  {
   "cell_type": "markdown",
   "metadata": {},
   "source": [
    "### Now We Define the Model Again\n",
    "Here, We define the model again and train it on the modified dataset.\n",
    "As we said above, we are making all the landmark_id s to have around 30 images each to avoid overfitting problem faced above."
   ]
  },
  {
   "cell_type": "code",
   "execution_count": 35,
   "metadata": {
    "deletable": false,
    "editable": false,
    "run_control": {
     "frozen": true
    },
    "scrolled": false
   },
   "outputs": [],
   "source": [
    "tfms = tfms_from_model(arch, sz, aug_tfms=transforms_side_on, max_zoom=1.1)\n",
    "data = ImageClassifierData.from_paths(PATH, tfms=tfms, bs=bs, num_workers=8)\n",
    "learn = ConvLearner.pretrained(arch, data, precompute=True, xtra_fc=[5000])"
   ]
  },
  {
   "cell_type": "code",
   "execution_count": 16,
   "metadata": {
    "deletable": false,
    "editable": false,
    "run_control": {
     "frozen": true
    }
   },
   "outputs": [
    {
     "data": {
      "application/vnd.jupyter.widget-view+json": {
       "model_id": "7d0aa06cc9a54513b15fd97a2e6b9675",
       "version_major": 2,
       "version_minor": 0
      },
      "text/plain": [
       "HBox(children=(IntProgress(value=0, description='Epoch', max=1), HTML(value='')))"
      ]
     },
     "metadata": {},
     "output_type": "display_data"
    },
    {
     "name": "stdout",
     "output_type": "stream",
     "text": [
      " 87%|████████▋ | 5175/5929 [02:20<00:20, 36.77it/s, loss=31.6]"
     ]
    },
    {
     "data": {
      "image/png": "[encoded data removed]",
      "text/plain": [
       "<Figure size 432x288 with 1 Axes>"
      ]
     },
     "metadata": {},
     "output_type": "display_data"
    },
    {
     "name": "stdout",
     "output_type": "stream",
     "text": [
      "\r",
      " 87%|████████▋ | 5175/5929 [02:40<00:23, 32.33it/s, loss=31.6]"
     ]
    }
   ],
   "source": [
    "lrf=learn.lr_find()\n",
    "learn.sched.plot()"
   ]
  },
  {
   "cell_type": "code",
   "execution_count": 36,
   "metadata": {
    "deletable": false,
    "editable": false,
    "run_control": {
     "frozen": true
    }
   },
   "outputs": [],
   "source": [
    "lr = 0.001"
   ]
  },
  {
   "cell_type": "code",
   "execution_count": null,
   "metadata": {
    "deletable": false,
    "editable": false,
    "run_control": {
     "frozen": true
    },
    "scrolled": true
   },
   "outputs": [
    {
     "data": {
      "application/vnd.jupyter.widget-view+json": {
       "model_id": "df362f0a4aad4f5a9e59504d1dad704b",
       "version_major": 2,
       "version_minor": 0
      },
      "text/plain": [
       "HBox(children=(IntProgress(value=0, description='Epoch', max=6), HTML(value='')))"
      ]
     },
     "metadata": {},
     "output_type": "display_data"
    },
    {
     "name": "stdout",
     "output_type": "stream",
     "text": [
      "100%|█████████▉| 5927/5929 [02:39<00:00, 37.14it/s, loss=9.67]"
     ]
    }
   ],
   "source": [
    "learn.fit(lr, n_cycle=1, cycle_len=6)\n"
   ]
  },
  {
   "cell_type": "markdown",
   "metadata": {},
   "source": [
    "# Still Overfitting \n",
    "The model is overfitting even after making number of photos of each label 30.\n"
   ]
  },
  {
   "cell_type": "markdown",
   "metadata": {},
   "source": [
    "# Reducing Labels\n",
    "After contacting Amit Sethi Sir, I am reducing the number of labels to only 240, taking landmarks that have more than 700 photos each.\n",
    "680 photos are used in Train Set, 20 each in Validation set and upto 100 (above 600 util 700) are used in Test set."
   ]
  },
  {
   "cell_type": "code",
   "execution_count": 2,
   "metadata": {},
   "outputs": [],
   "source": [
    "#Data changed as above.\n",
    "#Fastai Labrary is used and all codes for the library are used from \n",
    "#fast.ai's Deep Learning course 1 v2 2018\n",
    "\n",
    "#To add fastai to system path\n",
    "import sys\n",
    "import os\n",
    "HOME = os.getenv(\"HOME\")\n",
    "sys.path.append(f'{HOME}/fastai')\n",
    "\n",
    "\n",
    "\n",
    "# This file contains all the main external libs we'll use\n",
    "from fastai.imports import *\n",
    "\n",
    "from fastai.transforms import *\n",
    "from fastai.conv_learner import *\n",
    "from fastai.model import *\n",
    "from fastai.dataset import *\n",
    "from fastai.sgdr import *\n",
    "from fastai.plots import *\n",
    "\n",
    "PATH = f'{HOME}/data/'\n",
    "sz=299\n",
    "arch = resnext50\n",
    "bs=64"
   ]
  },
  {
   "cell_type": "code",
   "execution_count": 5,
   "metadata": {
    "deletable": false,
    "editable": false,
    "run_control": {
     "frozen": true
    },
    "scrolled": true
   },
   "outputs": [
    {
     "name": "stdout",
     "output_type": "stream",
     "text": [
      "100%|██████████| 2166/2166 [46:17<00:00,  1.28s/it]\n",
      "100%|██████████| 75/75 [01:35<00:00,  1.27s/it]\n"
     ]
    }
   ],
   "source": [
    "tfms = tfms_from_model(arch, sz, aug_tfms=transforms_side_on, max_zoom=1.1)\n",
    "data = ImageClassifierData.from_paths(PATH, tfms=tfms, bs=bs, num_workers=8)\n",
    "learn = ConvLearner.pretrained(arch, data, precompute=True)"
   ]
  },
  {
   "cell_type": "code",
   "execution_count": 6,
   "metadata": {
    "deletable": false,
    "editable": false,
    "run_control": {
     "frozen": true
    }
   },
   "outputs": [
    {
     "data": {
      "application/vnd.jupyter.widget-view+json": {
       "model_id": "460eb8d46c6f4b43aa295d84214b4574",
       "version_major": 2,
       "version_minor": 0
      },
      "text/plain": [
       "HBox(children=(IntProgress(value=0, description='Epoch', max=1), HTML(value='')))"
      ]
     },
     "metadata": {},
     "output_type": "display_data"
    },
    {
     "name": "stdout",
     "output_type": "stream",
     "text": [
      " 81%|████████  | 1758/2166 [00:33<00:07, 53.23it/s, loss=7.79]"
     ]
    },
    {
     "data": {
      "image/png": "[encoded data removed]",
      "text/plain": [
       "<Figure size 432x288 with 1 Axes>"
      ]
     },
     "metadata": {},
     "output_type": "display_data"
    },
    {
     "name": "stdout",
     "output_type": "stream",
     "text": [
      "\r",
      " 81%|████████  | 1758/2166 [00:50<00:11, 35.16it/s, loss=7.79]"
     ]
    }
   ],
   "source": [
    "lrf=learn.lr_find()\n",
    "learn.sched.plot()"
   ]
  },
  {
   "cell_type": "code",
   "execution_count": 3,
   "metadata": {},
   "outputs": [],
   "source": [
    "lr = 0.01"
   ]
  },
  {
   "cell_type": "code",
   "execution_count": 9,
   "metadata": {
    "deletable": false,
    "editable": false,
    "run_control": {
     "frozen": true
    },
    "scrolled": false
   },
   "outputs": [
    {
     "data": {
      "application/vnd.jupyter.widget-view+json": {
       "model_id": "b154bb6e9c24461695c06fd0f9ee1f51",
       "version_major": 2,
       "version_minor": 0
      },
      "text/plain": [
       "HBox(children=(IntProgress(value=0, description='Epoch', max=1), HTML(value='')))"
      ]
     },
     "metadata": {},
     "output_type": "display_data"
    },
    {
     "name": "stdout",
     "output_type": "stream",
     "text": [
      "  3%|▎         | 74/2166 [00:01<00:34, 61.47it/s, loss=6.11]\n",
      "epoch      trn_loss   val_loss   accuracy                     \n",
      "    0      1.291542   0.909985   0.7975    \n",
      "\n"
     ]
    },
    {
     "data": {
      "text/plain": [
       "[array([0.90999]), 0.7975]"
      ]
     },
     "execution_count": 9,
     "metadata": {},
     "output_type": "execute_result"
    }
   ],
   "source": [
    "learn.fit(lr, n_cycle=1, cycle_len=1)"
   ]
  },
  {
   "cell_type": "markdown",
   "metadata": {},
   "source": [
    "Thankfully, the reduced problem isn't overfitting to a small set of labels.\n",
    "Overfitting was happening probably because I am using a model trained on 1000 label ImageNet and haven't added any intermediate hidden layers before the 1500 softmax output layer. "
   ]
  },
  {
   "cell_type": "code",
   "execution_count": 10,
   "metadata": {
    "deletable": false,
    "editable": false,
    "run_control": {
     "frozen": true
    },
    "scrolled": false
   },
   "outputs": [
    {
     "data": {
      "application/vnd.jupyter.widget-view+json": {
       "model_id": "aa7297465785498583a37e847763b45a",
       "version_major": 2,
       "version_minor": 0
      },
      "text/plain": [
       "HBox(children=(IntProgress(value=0, description='Epoch', max=2), HTML(value='')))"
      ]
     },
     "metadata": {},
     "output_type": "display_data"
    },
    {
     "name": "stdout",
     "output_type": "stream",
     "text": [
      "epoch      trn_loss   val_loss   accuracy                      \n",
      "    0      0.960109   0.655792   0.844583  \n",
      "    1      0.801268   0.596457   0.857708                      \n",
      "\n"
     ]
    },
    {
     "data": {
      "text/plain": [
       "[array([0.59646]), 0.8577083333333333]"
      ]
     },
     "execution_count": 10,
     "metadata": {},
     "output_type": "execute_result"
    }
   ],
   "source": [
    "learn.fit(lr, n_cycle=1, cycle_len=2)"
   ]
  },
  {
   "cell_type": "code",
   "execution_count": 7,
   "metadata": {
    "deletable": false,
    "editable": false,
    "run_control": {
     "frozen": true
    }
   },
   "outputs": [
    {
     "data": {
      "application/vnd.jupyter.widget-view+json": {
       "model_id": "ef92b621e8c545c08281f0a946230189",
       "version_major": 2,
       "version_minor": 0
      },
      "text/plain": [
       "HBox(children=(IntProgress(value=0, description='Epoch', max=1), HTML(value='')))"
      ]
     },
     "metadata": {},
     "output_type": "display_data"
    },
    {
     "name": "stdout",
     "output_type": "stream",
     "text": [
      "epoch      trn_loss   val_loss   accuracy                     \n",
      "    0      1.288282   0.905318   0.797083  \n",
      "\n"
     ]
    },
    {
     "data": {
      "application/vnd.jupyter.widget-view+json": {
       "model_id": "817a7a0a46e74a17b863d482e28e226d",
       "version_major": 2,
       "version_minor": 0
      },
      "text/plain": [
       "HBox(children=(IntProgress(value=0, description='Epoch', max=2), HTML(value='')))"
      ]
     },
     "metadata": {},
     "output_type": "display_data"
    },
    {
     "name": "stdout",
     "output_type": "stream",
     "text": [
      "epoch      trn_loss   val_loss   accuracy                      \n",
      "    0      0.996555   0.657762   0.841458  \n",
      "    1      0.852488   0.590216   0.856042                      \n",
      "\n"
     ]
    },
    {
     "data": {
      "text/plain": [
       "[array([0.59022]), 0.8560416666666667]"
      ]
     },
     "execution_count": 7,
     "metadata": {},
     "output_type": "execute_result"
    }
   ],
   "source": [
    "learn.fit(lr, n_cycle=1, cycle_len=1)\n",
    "learn.fit(lr, n_cycle=1, cycle_len=2)"
   ]
  },
  {
   "cell_type": "code",
   "execution_count": 4,
   "metadata": {},
   "outputs": [],
   "source": [
    "#The Above one is freezed as it shows time taken for the job 1st time\n",
    "\n",
    "tfms = tfms_from_model(arch, sz, aug_tfms=transforms_side_on, max_zoom=1.1)\n",
    "data = ImageClassifierData.from_paths(PATH, tfms=tfms, bs=bs, num_workers=8)\n",
    "learn = ConvLearner.pretrained(arch, data, precompute=False)"
   ]
  },
  {
   "cell_type": "code",
   "execution_count": 5,
   "metadata": {},
   "outputs": [],
   "source": [
    "learn.precompute=False\n",
    "learn.unfreeze()\n",
    "lr=np.array([lr/9, lr/3, lr])\n",
    "\n",
    "#as VM was running of GPU Memory, I am reducing the batch size here.\n",
    "data = ImageClassifierData.from_paths(PATH, tfms=tfms, bs=40, num_workers=8)\n",
    "learn.set_data(data)"
   ]
  },
  {
   "cell_type": "code",
   "execution_count": 8,
   "metadata": {
    "deletable": false,
    "editable": false,
    "run_control": {
     "frozen": true
    },
    "scrolled": true
   },
   "outputs": [
    {
     "data": {
      "application/vnd.jupyter.widget-view+json": {
       "model_id": "6b7cde3162804423b8aa598774923152",
       "version_major": 2,
       "version_minor": 0
      },
      "text/plain": [
       "HBox(children=(IntProgress(value=0, description='Epoch', max=3), HTML(value='')))"
      ]
     },
     "metadata": {},
     "output_type": "display_data"
    },
    {
     "name": "stdout",
     "output_type": "stream",
     "text": [
      "epoch      trn_loss   val_loss   accuracy                      \n",
      "    0      1.009469   0.566821   0.862292  \n",
      "    1      0.890992   0.528609   0.872083                      \n",
      "    2      0.854627   0.513109   0.87125                       \n",
      "\n"
     ]
    }
   ],
   "source": [
    "learn.fit(lr, 3, cycle_len=1)\n",
    "learn.save(f\"model_reduced_{sz}_1\")"
   ]
  },
  {
   "cell_type": "code",
   "execution_count": 6,
   "metadata": {},
   "outputs": [],
   "source": [
    "#Loading the previously saved weights.\n",
    "#Helps with not having to run the above steps after every changes.\n",
    "learn.load(f\"model_reduced_{sz}_1\")"
   ]
  },
  {
   "cell_type": "code",
   "execution_count": 8,
   "metadata": {},
   "outputs": [
    {
     "data": {
      "text/plain": [
       "Sequential(\n",
       "  (0): Conv2d(3, 64, kernel_size=(7, 7), stride=(2, 2), padding=(3, 3), bias=False)\n",
       "  (1): BatchNorm2d(64, eps=1e-05, momentum=0.1, affine=True)\n",
       "  (2): ReLU()\n",
       "  (3): MaxPool2d(kernel_size=(3, 3), stride=(2, 2), padding=(1, 1), dilation=(1, 1), ceil_mode=False)\n",
       "  (4): Sequential(\n",
       "    (0): Sequential(\n",
       "      (0): LambdaMap(\n",
       "        (0): Sequential(\n",
       "          (0): Sequential(\n",
       "            (0): Conv2d(64, 128, kernel_size=(1, 1), stride=(1, 1), bias=False)\n",
       "            (1): BatchNorm2d(128, eps=1e-05, momentum=0.1, affine=True)\n",
       "            (2): ReLU()\n",
       "            (3): Conv2d(128, 128, kernel_size=(3, 3), stride=(1, 1), padding=(1, 1), groups=32, bias=False)\n",
       "            (4): BatchNorm2d(128, eps=1e-05, momentum=0.1, affine=True)\n",
       "            (5): ReLU()\n",
       "          )\n",
       "          (1): Conv2d(128, 256, kernel_size=(1, 1), stride=(1, 1), bias=False)\n",
       "          (2): BatchNorm2d(256, eps=1e-05, momentum=0.1, affine=True)\n",
       "        )\n",
       "        (1): Sequential(\n",
       "          (0): Conv2d(64, 256, kernel_size=(1, 1), stride=(1, 1), bias=False)\n",
       "          (1): BatchNorm2d(256, eps=1e-05, momentum=0.1, affine=True)\n",
       "        )\n",
       "      )\n",
       "      (1): LambdaReduce(\n",
       "      )\n",
       "      (2): ReLU()\n",
       "    )\n",
       "    (1): Sequential(\n",
       "      (0): LambdaMap(\n",
       "        (0): Sequential(\n",
       "          (0): Sequential(\n",
       "            (0): Conv2d(256, 128, kernel_size=(1, 1), stride=(1, 1), bias=False)\n",
       "            (1): BatchNorm2d(128, eps=1e-05, momentum=0.1, affine=True)\n",
       "            (2): ReLU()\n",
       "            (3): Conv2d(128, 128, kernel_size=(3, 3), stride=(1, 1), padding=(1, 1), groups=32, bias=False)\n",
       "            (4): BatchNorm2d(128, eps=1e-05, momentum=0.1, affine=True)\n",
       "            (5): ReLU()\n",
       "          )\n",
       "          (1): Conv2d(128, 256, kernel_size=(1, 1), stride=(1, 1), bias=False)\n",
       "          (2): BatchNorm2d(256, eps=1e-05, momentum=0.1, affine=True)\n",
       "        )\n",
       "        (1): Lambda(\n",
       "        )\n",
       "      )\n",
       "      (1): LambdaReduce(\n",
       "      )\n",
       "      (2): ReLU()\n",
       "    )\n",
       "    (2): Sequential(\n",
       "      (0): LambdaMap(\n",
       "        (0): Sequential(\n",
       "          (0): Sequential(\n",
       "            (0): Conv2d(256, 128, kernel_size=(1, 1), stride=(1, 1), bias=False)\n",
       "            (1): BatchNorm2d(128, eps=1e-05, momentum=0.1, affine=True)\n",
       "            (2): ReLU()\n",
       "            (3): Conv2d(128, 128, kernel_size=(3, 3), stride=(1, 1), padding=(1, 1), groups=32, bias=False)\n",
       "            (4): BatchNorm2d(128, eps=1e-05, momentum=0.1, affine=True)\n",
       "            (5): ReLU()\n",
       "          )\n",
       "          (1): Conv2d(128, 256, kernel_size=(1, 1), stride=(1, 1), bias=False)\n",
       "          (2): BatchNorm2d(256, eps=1e-05, momentum=0.1, affine=True)\n",
       "        )\n",
       "        (1): Lambda(\n",
       "        )\n",
       "      )\n",
       "      (1): LambdaReduce(\n",
       "      )\n",
       "      (2): ReLU()\n",
       "    )\n",
       "  )\n",
       "  (5): Sequential(\n",
       "    (0): Sequential(\n",
       "      (0): LambdaMap(\n",
       "        (0): Sequential(\n",
       "          (0): Sequential(\n",
       "            (0): Conv2d(256, 256, kernel_size=(1, 1), stride=(1, 1), bias=False)\n",
       "            (1): BatchNorm2d(256, eps=1e-05, momentum=0.1, affine=True)\n",
       "            (2): ReLU()\n",
       "            (3): Conv2d(256, 256, kernel_size=(3, 3), stride=(2, 2), padding=(1, 1), groups=32, bias=False)\n",
       "            (4): BatchNorm2d(256, eps=1e-05, momentum=0.1, affine=True)\n",
       "            (5): ReLU()\n",
       "          )\n",
       "          (1): Conv2d(256, 512, kernel_size=(1, 1), stride=(1, 1), bias=False)\n",
       "          (2): BatchNorm2d(512, eps=1e-05, momentum=0.1, affine=True)\n",
       "        )\n",
       "        (1): Sequential(\n",
       "          (0): Conv2d(256, 512, kernel_size=(1, 1), stride=(2, 2), bias=False)\n",
       "          (1): BatchNorm2d(512, eps=1e-05, momentum=0.1, affine=True)\n",
       "        )\n",
       "      )\n",
       "      (1): LambdaReduce(\n",
       "      )\n",
       "      (2): ReLU()\n",
       "    )\n",
       "    (1): Sequential(\n",
       "      (0): LambdaMap(\n",
       "        (0): Sequential(\n",
       "          (0): Sequential(\n",
       "            (0): Conv2d(512, 256, kernel_size=(1, 1), stride=(1, 1), bias=False)\n",
       "            (1): BatchNorm2d(256, eps=1e-05, momentum=0.1, affine=True)\n",
       "            (2): ReLU()\n",
       "            (3): Conv2d(256, 256, kernel_size=(3, 3), stride=(1, 1), padding=(1, 1), groups=32, bias=False)\n",
       "            (4): BatchNorm2d(256, eps=1e-05, momentum=0.1, affine=True)\n",
       "            (5): ReLU()\n",
       "          )\n",
       "          (1): Conv2d(256, 512, kernel_size=(1, 1), stride=(1, 1), bias=False)\n",
       "          (2): BatchNorm2d(512, eps=1e-05, momentum=0.1, affine=True)\n",
       "        )\n",
       "        (1): Lambda(\n",
       "        )\n",
       "      )\n",
       "      (1): LambdaReduce(\n",
       "      )\n",
       "      (2): ReLU()\n",
       "    )\n",
       "    (2): Sequential(\n",
       "      (0): LambdaMap(\n",
       "        (0): Sequential(\n",
       "          (0): Sequential(\n",
       "            (0): Conv2d(512, 256, kernel_size=(1, 1), stride=(1, 1), bias=False)\n",
       "            (1): BatchNorm2d(256, eps=1e-05, momentum=0.1, affine=True)\n",
       "            (2): ReLU()\n",
       "            (3): Conv2d(256, 256, kernel_size=(3, 3), stride=(1, 1), padding=(1, 1), groups=32, bias=False)\n",
       "            (4): BatchNorm2d(256, eps=1e-05, momentum=0.1, affine=True)\n",
       "            (5): ReLU()\n",
       "          )\n",
       "          (1): Conv2d(256, 512, kernel_size=(1, 1), stride=(1, 1), bias=False)\n",
       "          (2): BatchNorm2d(512, eps=1e-05, momentum=0.1, affine=True)\n",
       "        )\n",
       "        (1): Lambda(\n",
       "        )\n",
       "      )\n",
       "      (1): LambdaReduce(\n",
       "      )\n",
       "      (2): ReLU()\n",
       "    )\n",
       "    (3): Sequential(\n",
       "      (0): LambdaMap(\n",
       "        (0): Sequential(\n",
       "          (0): Sequential(\n",
       "            (0): Conv2d(512, 256, kernel_size=(1, 1), stride=(1, 1), bias=False)\n",
       "            (1): BatchNorm2d(256, eps=1e-05, momentum=0.1, affine=True)\n",
       "            (2): ReLU()\n",
       "            (3): Conv2d(256, 256, kernel_size=(3, 3), stride=(1, 1), padding=(1, 1), groups=32, bias=False)\n",
       "            (4): BatchNorm2d(256, eps=1e-05, momentum=0.1, affine=True)\n",
       "            (5): ReLU()\n",
       "          )\n",
       "          (1): Conv2d(256, 512, kernel_size=(1, 1), stride=(1, 1), bias=False)\n",
       "          (2): BatchNorm2d(512, eps=1e-05, momentum=0.1, affine=True)\n",
       "        )\n",
       "        (1): Lambda(\n",
       "        )\n",
       "      )\n",
       "      (1): LambdaReduce(\n",
       "      )\n",
       "      (2): ReLU()\n",
       "    )\n",
       "  )\n",
       "  (6): Sequential(\n",
       "    (0): Sequential(\n",
       "      (0): LambdaMap(\n",
       "        (0): Sequential(\n",
       "          (0): Sequential(\n",
       "            (0): Conv2d(512, 512, kernel_size=(1, 1), stride=(1, 1), bias=False)\n",
       "            (1): BatchNorm2d(512, eps=1e-05, momentum=0.1, affine=True)\n",
       "            (2): ReLU()\n",
       "            (3): Conv2d(512, 512, kernel_size=(3, 3), stride=(2, 2), padding=(1, 1), groups=32, bias=False)\n",
       "            (4): BatchNorm2d(512, eps=1e-05, momentum=0.1, affine=True)\n",
       "            (5): ReLU()\n",
       "          )\n",
       "          (1): Conv2d(512, 1024, kernel_size=(1, 1), stride=(1, 1), bias=False)\n",
       "          (2): BatchNorm2d(1024, eps=1e-05, momentum=0.1, affine=True)\n",
       "        )\n",
       "        (1): Sequential(\n",
       "          (0): Conv2d(512, 1024, kernel_size=(1, 1), stride=(2, 2), bias=False)\n",
       "          (1): BatchNorm2d(1024, eps=1e-05, momentum=0.1, affine=True)\n",
       "        )\n",
       "      )\n",
       "      (1): LambdaReduce(\n",
       "      )\n",
       "      (2): ReLU()\n",
       "    )\n",
       "    (1): Sequential(\n",
       "      (0): LambdaMap(\n",
       "        (0): Sequential(\n",
       "          (0): Sequential(\n",
       "            (0): Conv2d(1024, 512, kernel_size=(1, 1), stride=(1, 1), bias=False)\n",
       "            (1): BatchNorm2d(512, eps=1e-05, momentum=0.1, affine=True)\n",
       "            (2): ReLU()\n",
       "            (3): Conv2d(512, 512, kernel_size=(3, 3), stride=(1, 1), padding=(1, 1), groups=32, bias=False)\n",
       "            (4): BatchNorm2d(512, eps=1e-05, momentum=0.1, affine=True)\n",
       "            (5): ReLU()\n",
       "          )\n",
       "          (1): Conv2d(512, 1024, kernel_size=(1, 1), stride=(1, 1), bias=False)\n",
       "          (2): BatchNorm2d(1024, eps=1e-05, momentum=0.1, affine=True)\n",
       "        )\n",
       "        (1): Lambda(\n",
       "        )\n",
       "      )\n",
       "      (1): LambdaReduce(\n",
       "      )\n",
       "      (2): ReLU()\n",
       "    )\n",
       "    (2): Sequential(\n",
       "      (0): LambdaMap(\n",
       "        (0): Sequential(\n",
       "          (0): Sequential(\n",
       "            (0): Conv2d(1024, 512, kernel_size=(1, 1), stride=(1, 1), bias=False)\n",
       "            (1): BatchNorm2d(512, eps=1e-05, momentum=0.1, affine=True)\n",
       "            (2): ReLU()\n",
       "            (3): Conv2d(512, 512, kernel_size=(3, 3), stride=(1, 1), padding=(1, 1), groups=32, bias=False)\n",
       "            (4): BatchNorm2d(512, eps=1e-05, momentum=0.1, affine=True)\n",
       "            (5): ReLU()\n",
       "          )\n",
       "          (1): Conv2d(512, 1024, kernel_size=(1, 1), stride=(1, 1), bias=False)\n",
       "          (2): BatchNorm2d(1024, eps=1e-05, momentum=0.1, affine=True)\n",
       "        )\n",
       "        (1): Lambda(\n",
       "        )\n",
       "      )\n",
       "      (1): LambdaReduce(\n",
       "      )\n",
       "      (2): ReLU()\n",
       "    )\n",
       "    (3): Sequential(\n",
       "      (0): LambdaMap(\n",
       "        (0): Sequential(\n",
       "          (0): Sequential(\n",
       "            (0): Conv2d(1024, 512, kernel_size=(1, 1), stride=(1, 1), bias=False)\n",
       "            (1): BatchNorm2d(512, eps=1e-05, momentum=0.1, affine=True)\n",
       "            (2): ReLU()\n",
       "            (3): Conv2d(512, 512, kernel_size=(3, 3), stride=(1, 1), padding=(1, 1), groups=32, bias=False)\n",
       "            (4): BatchNorm2d(512, eps=1e-05, momentum=0.1, affine=True)\n",
       "            (5): ReLU()\n",
       "          )\n",
       "          (1): Conv2d(512, 1024, kernel_size=(1, 1), stride=(1, 1), bias=False)\n",
       "          (2): BatchNorm2d(1024, eps=1e-05, momentum=0.1, affine=True)\n",
       "        )\n",
       "        (1): Lambda(\n",
       "        )\n",
       "      )\n",
       "      (1): LambdaReduce(\n",
       "      )\n",
       "      (2): ReLU()\n",
       "    )\n",
       "    (4): Sequential(\n",
       "      (0): LambdaMap(\n",
       "        (0): Sequential(\n",
       "          (0): Sequential(\n",
       "            (0): Conv2d(1024, 512, kernel_size=(1, 1), stride=(1, 1), bias=False)\n",
       "            (1): BatchNorm2d(512, eps=1e-05, momentum=0.1, affine=True)\n",
       "            (2): ReLU()\n",
       "            (3): Conv2d(512, 512, kernel_size=(3, 3), stride=(1, 1), padding=(1, 1), groups=32, bias=False)\n",
       "            (4): BatchNorm2d(512, eps=1e-05, momentum=0.1, affine=True)\n",
       "            (5): ReLU()\n",
       "          )\n",
       "          (1): Conv2d(512, 1024, kernel_size=(1, 1), stride=(1, 1), bias=False)\n",
       "          (2): BatchNorm2d(1024, eps=1e-05, momentum=0.1, affine=True)\n",
       "        )\n",
       "        (1): Lambda(\n",
       "        )\n",
       "      )\n",
       "      (1): LambdaReduce(\n",
       "      )\n",
       "      (2): ReLU()\n",
       "    )\n",
       "    (5): Sequential(\n",
       "      (0): LambdaMap(\n",
       "        (0): Sequential(\n",
       "          (0): Sequential(\n",
       "            (0): Conv2d(1024, 512, kernel_size=(1, 1), stride=(1, 1), bias=False)\n",
       "            (1): BatchNorm2d(512, eps=1e-05, momentum=0.1, affine=True)\n",
       "            (2): ReLU()\n",
       "            (3): Conv2d(512, 512, kernel_size=(3, 3), stride=(1, 1), padding=(1, 1), groups=32, bias=False)\n",
       "            (4): BatchNorm2d(512, eps=1e-05, momentum=0.1, affine=True)\n",
       "            (5): ReLU()\n",
       "          )\n",
       "          (1): Conv2d(512, 1024, kernel_size=(1, 1), stride=(1, 1), bias=False)\n",
       "          (2): BatchNorm2d(1024, eps=1e-05, momentum=0.1, affine=True)\n",
       "        )\n",
       "        (1): Lambda(\n",
       "        )\n",
       "      )\n",
       "      (1): LambdaReduce(\n",
       "      )\n",
       "      (2): ReLU()\n",
       "    )\n",
       "  )\n",
       "  (7): Sequential(\n",
       "    (0): Sequential(\n",
       "      (0): LambdaMap(\n",
       "        (0): Sequential(\n",
       "          (0): Sequential(\n",
       "            (0): Conv2d(1024, 1024, kernel_size=(1, 1), stride=(1, 1), bias=False)\n",
       "            (1): BatchNorm2d(1024, eps=1e-05, momentum=0.1, affine=True)\n",
       "            (2): ReLU()\n",
       "            (3): Conv2d(1024, 1024, kernel_size=(3, 3), stride=(2, 2), padding=(1, 1), groups=32, bias=False)\n",
       "            (4): BatchNorm2d(1024, eps=1e-05, momentum=0.1, affine=True)\n",
       "            (5): ReLU()\n",
       "          )\n",
       "          (1): Conv2d(1024, 2048, kernel_size=(1, 1), stride=(1, 1), bias=False)\n",
       "          (2): BatchNorm2d(2048, eps=1e-05, momentum=0.1, affine=True)\n",
       "        )\n",
       "        (1): Sequential(\n",
       "          (0): Conv2d(1024, 2048, kernel_size=(1, 1), stride=(2, 2), bias=False)\n",
       "          (1): BatchNorm2d(2048, eps=1e-05, momentum=0.1, affine=True)\n",
       "        )\n",
       "      )\n",
       "      (1): LambdaReduce(\n",
       "      )\n",
       "      (2): ReLU()\n",
       "    )\n",
       "    (1): Sequential(\n",
       "      (0): LambdaMap(\n",
       "        (0): Sequential(\n",
       "          (0): Sequential(\n",
       "            (0): Conv2d(2048, 1024, kernel_size=(1, 1), stride=(1, 1), bias=False)\n",
       "            (1): BatchNorm2d(1024, eps=1e-05, momentum=0.1, affine=True)\n",
       "            (2): ReLU()\n",
       "            (3): Conv2d(1024, 1024, kernel_size=(3, 3), stride=(1, 1), padding=(1, 1), groups=32, bias=False)\n",
       "            (4): BatchNorm2d(1024, eps=1e-05, momentum=0.1, affine=True)\n",
       "            (5): ReLU()\n",
       "          )\n",
       "          (1): Conv2d(1024, 2048, kernel_size=(1, 1), stride=(1, 1), bias=False)\n",
       "          (2): BatchNorm2d(2048, eps=1e-05, momentum=0.1, affine=True)\n",
       "        )\n",
       "        (1): Lambda(\n",
       "        )\n",
       "      )\n",
       "      (1): LambdaReduce(\n",
       "      )\n",
       "      (2): ReLU()\n",
       "    )\n",
       "    (2): Sequential(\n",
       "      (0): LambdaMap(\n",
       "        (0): Sequential(\n",
       "          (0): Sequential(\n",
       "            (0): Conv2d(2048, 1024, kernel_size=(1, 1), stride=(1, 1), bias=False)\n",
       "            (1): BatchNorm2d(1024, eps=1e-05, momentum=0.1, affine=True)\n",
       "            (2): ReLU()\n",
       "            (3): Conv2d(1024, 1024, kernel_size=(3, 3), stride=(1, 1), padding=(1, 1), groups=32, bias=False)\n",
       "            (4): BatchNorm2d(1024, eps=1e-05, momentum=0.1, affine=True)\n",
       "            (5): ReLU()\n",
       "          )\n",
       "          (1): Conv2d(1024, 2048, kernel_size=(1, 1), stride=(1, 1), bias=False)\n",
       "          (2): BatchNorm2d(2048, eps=1e-05, momentum=0.1, affine=True)\n",
       "        )\n",
       "        (1): Lambda(\n",
       "        )\n",
       "      )\n",
       "      (1): LambdaReduce(\n",
       "      )\n",
       "      (2): ReLU()\n",
       "    )\n",
       "  )\n",
       "  (8): AdaptiveConcatPool2d(\n",
       "    (ap): AdaptiveAvgPool2d(output_size=(1, 1))\n",
       "    (mp): AdaptiveMaxPool2d(output_size=(1, 1))\n",
       "  )\n",
       "  (9): Flatten(\n",
       "  )\n",
       "  (10): BatchNorm1d(4096, eps=1e-05, momentum=0.1, affine=True)\n",
       "  (11): Dropout(p=0.25)\n",
       "  (12): Linear(in_features=4096, out_features=512, bias=True)\n",
       "  (13): ReLU()\n",
       "  (14): BatchNorm1d(512, eps=1e-05, momentum=0.1, affine=True)\n",
       "  (15): Dropout(p=0.5)\n",
       "  (16): Linear(in_features=512, out_features=240, bias=True)\n",
       "  (17): LogSoftmax()\n",
       ")"
      ]
     },
     "execution_count": 8,
     "metadata": {},
     "output_type": "execute_result"
    }
   ],
   "source": [
    "learn"
   ]
  },
  {
   "cell_type": "code",
   "execution_count": 8,
   "metadata": {},
   "outputs": [
    {
     "data": {
      "text/plain": [
       "array([  0,   0,   0, ..., 239, 239, 239])"
      ]
     },
     "execution_count": 8,
     "metadata": {},
     "output_type": "execute_result"
    }
   ],
   "source": [
    "data.val_y\n"
   ]
  },
  {
   "cell_type": "code",
   "execution_count": 16,
   "metadata": {},
   "outputs": [
    {
     "data": {
      "text/plain": [
       "['10005',\n",
       " '10026',\n",
       " '10028',\n",
       " '10033',\n",
       " '10045',\n",
       " '10067',\n",
       " '10125',\n",
       " '10166',\n",
       " '10184',\n",
       " '10282',\n",
       " '1031',\n",
       " '10313',\n",
       " '10378',\n",
       " '10432',\n",
       " '1046',\n",
       " '10496',\n",
       " '10511',\n",
       " '10522',\n",
       " '10577',\n",
       " '10600',\n",
       " '10644',\n",
       " '10688',\n",
       " '10900',\n",
       " '10932',\n",
       " '11037',\n",
       " '11073',\n",
       " '11139',\n",
       " '11183',\n",
       " '11249',\n",
       " '11254',\n",
       " '11288',\n",
       " '11356',\n",
       " '11371',\n",
       " '11536',\n",
       " '11643',\n",
       " '11674',\n",
       " '11676',\n",
       " '11784',\n",
       " '11856',\n",
       " '12063',\n",
       " '12075',\n",
       " '12090',\n",
       " '1213',\n",
       " '12171',\n",
       " '12172',\n",
       " '12220',\n",
       " '12258',\n",
       " '1238',\n",
       " '12464',\n",
       " '12519',\n",
       " '1256',\n",
       " '12647',\n",
       " '12676',\n",
       " '12718',\n",
       " '12752',\n",
       " '1276',\n",
       " '12896',\n",
       " '12936',\n",
       " '12937',\n",
       " '12965',\n",
       " '12966',\n",
       " '12972',\n",
       " '1310',\n",
       " '13124',\n",
       " '13170',\n",
       " '13176',\n",
       " '13224',\n",
       " '13332',\n",
       " '13378',\n",
       " '13444',\n",
       " '13471',\n",
       " '13475',\n",
       " '13526',\n",
       " '13532',\n",
       " '13594',\n",
       " '13653',\n",
       " '13873',\n",
       " '13875',\n",
       " '13876',\n",
       " '13887',\n",
       " '1393',\n",
       " '14012',\n",
       " '1403',\n",
       " '14111',\n",
       " '14544',\n",
       " '14627',\n",
       " '14703',\n",
       " '1472',\n",
       " '14785',\n",
       " '14902',\n",
       " '152',\n",
       " '1546',\n",
       " '1553',\n",
       " '1602',\n",
       " '1604',\n",
       " '165',\n",
       " '1834',\n",
       " '1847',\n",
       " '1878',\n",
       " '1895',\n",
       " '1926',\n",
       " '1946',\n",
       " '2044',\n",
       " '2061',\n",
       " '2080',\n",
       " '2126',\n",
       " '2145',\n",
       " '2228',\n",
       " '2241',\n",
       " '2246',\n",
       " '2268',\n",
       " '233',\n",
       " '2330',\n",
       " '2338',\n",
       " '2339',\n",
       " '2341',\n",
       " '2444',\n",
       " '2449',\n",
       " '253',\n",
       " '2665',\n",
       " '2743',\n",
       " '2802',\n",
       " '2870',\n",
       " '2940',\n",
       " '2942',\n",
       " '2949',\n",
       " '3034',\n",
       " '3065',\n",
       " '3130',\n",
       " '3283',\n",
       " '3426',\n",
       " '3457',\n",
       " '3496',\n",
       " '3497',\n",
       " '3518',\n",
       " '3544',\n",
       " '3611',\n",
       " '3695',\n",
       " '3804',\n",
       " '3829',\n",
       " '384',\n",
       " '3898',\n",
       " '3924',\n",
       " '3987',\n",
       " '4085',\n",
       " '4190',\n",
       " '428',\n",
       " '4300',\n",
       " '4327',\n",
       " '4330',\n",
       " '4340',\n",
       " '4352',\n",
       " '4644',\n",
       " '4793',\n",
       " '4936',\n",
       " '4949',\n",
       " '4954',\n",
       " '4981',\n",
       " '4987',\n",
       " '5046',\n",
       " '515',\n",
       " '5163',\n",
       " '5166',\n",
       " '5203',\n",
       " '5206',\n",
       " '5367',\n",
       " '5376',\n",
       " '5380',\n",
       " '5421',\n",
       " '5460',\n",
       " '5475',\n",
       " '5554',\n",
       " '5618',\n",
       " '5755',\n",
       " '5880',\n",
       " '5955',\n",
       " '6051',\n",
       " '6125',\n",
       " '6231',\n",
       " '626',\n",
       " '6347',\n",
       " '6476',\n",
       " '6597',\n",
       " '6599',\n",
       " '6651',\n",
       " '6665',\n",
       " '6696',\n",
       " '6846',\n",
       " '6973',\n",
       " '7000',\n",
       " '7008',\n",
       " '7041',\n",
       " '7092',\n",
       " '7121',\n",
       " '7125',\n",
       " '7130',\n",
       " '7172',\n",
       " '7218',\n",
       " '7416',\n",
       " '7420',\n",
       " '7429',\n",
       " '762',\n",
       " '7661',\n",
       " '7678',\n",
       " '7764',\n",
       " '7840',\n",
       " '793',\n",
       " '7992',\n",
       " '8029',\n",
       " '8035',\n",
       " '8063',\n",
       " '8143',\n",
       " '8161',\n",
       " '8169',\n",
       " '8218',\n",
       " '823',\n",
       " '8274',\n",
       " '8417',\n",
       " '8429',\n",
       " '8679',\n",
       " '878',\n",
       " '8855',\n",
       " '9029',\n",
       " '9135',\n",
       " '9193',\n",
       " '9196',\n",
       " '9240',\n",
       " '9296',\n",
       " '9308',\n",
       " '9412',\n",
       " '9434',\n",
       " '960',\n",
       " '9605',\n",
       " '9633',\n",
       " '9642',\n",
       " '9737',\n",
       " '9738',\n",
       " '9779',\n",
       " '9935',\n",
       " '9999']"
      ]
     },
     "execution_count": 16,
     "metadata": {},
     "output_type": "execute_result"
    }
   ],
   "source": [
    "data.classes"
   ]
  },
  {
   "cell_type": "code",
   "execution_count": 10,
   "metadata": {},
   "outputs": [
    {
     "data": {
      "text/plain": [
       "(4800, 240)"
      ]
     },
     "execution_count": 10,
     "metadata": {},
     "output_type": "execute_result"
    }
   ],
   "source": [
    "# this gives prediction for validation set. Predictions are in log scale\n",
    "log_preds = learn.predict()\n",
    "log_preds.shape"
   ]
  },
  {
   "cell_type": "code",
   "execution_count": 12,
   "metadata": {
    "scrolled": true
   },
   "outputs": [
    {
     "name": "stdout",
     "output_type": "stream",
     "text": [
      "                                             \r"
     ]
    }
   ],
   "source": [
    "log_preds,y = learn.TTA()\n",
    "probs = np.mean(np.exp(log_preds),0)"
   ]
  },
  {
   "cell_type": "code",
   "execution_count": 21,
   "metadata": {},
   "outputs": [
    {
     "data": {
      "text/plain": [
       "array([  0,   0,   0, ..., 239, 239, 239])"
      ]
     },
     "execution_count": 21,
     "metadata": {},
     "output_type": "execute_result"
    }
   ],
   "source": [
    "y=data.val_y\n",
    "y"
   ]
  },
  {
   "cell_type": "code",
   "execution_count": 17,
   "metadata": {
    "scrolled": true
   },
   "outputs": [],
   "source": [
    "def hot_encode(y):\n",
    "    output = []\n",
    "    for label in y:\n",
    "        pred = [1 if head==label else 0 for head in data.classes]\n",
    "        output.append(pred)\n",
    "    return(output)"
   ]
  },
  {
   "cell_type": "code",
   "execution_count": 22,
   "metadata": {},
   "outputs": [
    {
     "data": {
      "text/plain": [
       "(4800, 240)"
      ]
     },
     "execution_count": 22,
     "metadata": {},
     "output_type": "execute_result"
    }
   ],
   "source": [
    "y_encoded=hot_encode(y)\n",
    "np.shape(y_encoded)"
   ]
  },
  {
   "cell_type": "code",
   "execution_count": 42,
   "metadata": {},
   "outputs": [],
   "source": [
    "def check_accuracy(probs, y):\n",
    "    preds = []\n",
    "    accuracy = []\n",
    "    for i, prob in enumerate(probs):\n",
    "        pred = np.argmax(prob)\n",
    "        if pred==y[i]:\n",
    "            accuracy.append(1)\n",
    "        else: accuracy.append(0)\n",
    "        preds.append(pred)\n",
    "    print(np.mean(accuracy))\n",
    "    return(preds)"
   ]
  },
  {
   "cell_type": "code",
   "execution_count": 43,
   "metadata": {},
   "outputs": [
    {
     "name": "stdout",
     "output_type": "stream",
     "text": [
      "0.8860416666666666\n"
     ]
    }
   ],
   "source": [
    "preds=check_accuracy(probs,y)"
   ]
  }
 ],
 "metadata": {
  "colab": {
   "collapsed_sections": [
    "gX4qAYJLoBs8",
    "XNs7zY9APqfI",
    "H7Y97zTktxOY",
    "SBzhGAububOJ"
   ],
   "default_view": {},
   "name": "Landmark_Recog.ipynb",
   "provenance": [],
   "version": "0.3.2",
   "views": {}
  },
  "kernelspec": {
   "display_name": "Python 3",
   "language": "python",
   "name": "python3"
  },
  "language_info": {
   "codemirror_mode": {
    "name": "ipython",
    "version": 3
   },
   "file_extension": ".py",
   "mimetype": "text/x-python",
   "name": "python",
   "nbconvert_exporter": "python",
   "pygments_lexer": "ipython3",
   "version": "3.6.5"
  }
 },
 "nbformat": 4,
 "nbformat_minor": 1
}
