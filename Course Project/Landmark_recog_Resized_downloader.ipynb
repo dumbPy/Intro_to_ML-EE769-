{
  "nbformat": 4,
  "nbformat_minor": 0,
  "metadata": {
    "colab": {
      "name": "Landmark_recog_Resized downloader.ipynb",
      "version": "0.3.2",
      "views": {},
      "default_view": {},
      "provenance": [
        {
          "file_id": "1cQIOzcTx4Z6XBEbNhxwJ466wE8J37NMv",
          "timestamp": 1524943805114
        }
      ],
      "collapsed_sections": []
    },
    "kernelspec": {
      "name": "python3",
      "display_name": "Python 3"
    }
  },
  "cells": [
    {
      "metadata": {
        "id": "175xt6mpE-tq",
        "colab_type": "text"
      },
      "cell_type": "markdown",
      "source": [
        "# Kaggle Image Recognition Challenge\n",
        "# Data Downloading Notebook"
      ]
    },
    {
      "metadata": {
        "id": "fYJaohBtn0T6",
        "colab_type": "text"
      },
      "cell_type": "markdown",
      "source": [
        "# Additional Setup for Google Colab"
      ]
    },
    {
      "metadata": {
        "id": "gX4qAYJLoBs8",
        "colab_type": "text"
      },
      "cell_type": "markdown",
      "source": [
        "###Installing Pytorch"
      ]
    },
    {
      "metadata": {
        "id": "9SaTesf4sDlG",
        "colab_type": "code",
        "colab": {
          "autoexec": {
            "startup": false,
            "wait_interval": 0
          },
          "base_uri": "https://localhost:8080/",
          "height": 449
        },
        "outputId": "3366db2d-21f8-475c-b00a-4e512b4edffd",
        "executionInfo": {
          "status": "ok",
          "timestamp": 1524956313911,
          "user_tz": -330,
          "elapsed": 54254,
          "user": {
            "displayName": "Sufiyan Adhikari",
            "photoUrl": "//lh3.googleusercontent.com/-5v7VMxmmv1Q/AAAAAAAAAAI/AAAAAAAAAWE/402P87Q3Mm8/s50-c-k-no/photo.jpg",
            "userId": "109884950391033451317"
          }
        }
      },
      "cell_type": "code",
      "source": [
        "#!pip install http://download.pytorch.org/whl/cu80/torch-0.3.0.post4-cp36-cp36m-linux_x86_64.whl && pip install torchvision\n",
        "!pip install http://download.pytorch.org/whl/cu75/torch-0.3.0.post4-cp36-cp36m-linux_x86_64.whl  && pip install torchvision"
      ],
      "execution_count": 0,
      "outputs": [
        {
          "output_type": "stream",
          "text": [
            "Looking in indexes: https://pypi.org/simple, https://legacy.pypi.org/simple\n",
            "Collecting torch==0.3.0.post4 from http://download.pytorch.org/whl/cu75/torch-0.3.0.post4-cp36-cp36m-linux_x86_64.whl\n",
            "\u001b[?25l  Downloading http://download.pytorch.org/whl/cu75/torch-0.3.0.post4-cp36-cp36m-linux_x86_64.whl (397.4MB)\n",
            "\u001b[K    100% |████████████████████████████████| 397.4MB 46.6MB/s \n",
            "\u001b[?25hRequirement already satisfied: pyyaml in /usr/local/lib/python3.6/dist-packages (from torch==0.3.0.post4) (3.12)\n",
            "Requirement already satisfied: numpy in /usr/local/lib/python3.6/dist-packages (from torch==0.3.0.post4) (1.14.2)\n",
            "Installing collected packages: torch\n",
            "Successfully installed torch-0.3.0.post4\n",
            "Looking in indexes: https://pypi.org/simple, https://legacy.pypi.org/simple\n",
            "Collecting torchvision\n",
            "\u001b[?25l  Downloading https://files.pythonhosted.org/packages/ca/0d/f00b2885711e08bd71242ebe7b96561e6f6d01fdb4b9dcf4d37e2e13c5e1/torchvision-0.2.1-py2.py3-none-any.whl (54kB)\n",
            "\u001b[K    100% |████████████████████████████████| 61kB 2.1MB/s \n",
            "\u001b[?25hRequirement already satisfied: torch in /usr/local/lib/python3.6/dist-packages (from torchvision) (0.3.0.post4)\n",
            "Requirement already satisfied: numpy in /usr/local/lib/python3.6/dist-packages (from torchvision) (1.14.2)\n",
            "Collecting pillow>=4.1.1 (from torchvision)\n",
            "\u001b[?25l  Downloading https://files.pythonhosted.org/packages/5f/4b/8b54ab9d37b93998c81b364557dff9f61972c0f650efa0ceaf470b392740/Pillow-5.1.0-cp36-cp36m-manylinux1_x86_64.whl (2.0MB)\n",
            "\u001b[K    100% |████████████████████████████████| 2.0MB 14.0MB/s \n",
            "\u001b[?25hRequirement already satisfied: six in /usr/local/lib/python3.6/dist-packages (from torchvision) (1.11.0)\n",
            "Requirement already satisfied: pyyaml in /usr/local/lib/python3.6/dist-packages (from torch->torchvision) (3.12)\n",
            "Installing collected packages: pillow, torchvision\n",
            "  Found existing installation: Pillow 4.0.0\n",
            "    Uninstalling Pillow-4.0.0:\n",
            "      Successfully uninstalled Pillow-4.0.0\n",
            "Successfully installed pillow-5.1.0 torchvision-0.2.1\n"
          ],
          "name": "stdout"
        }
      ]
    },
    {
      "metadata": {
        "id": "XNs7zY9APqfI",
        "colab_type": "text"
      },
      "cell_type": "markdown",
      "source": [
        "###Workaround for an issue with PIL"
      ]
    },
    {
      "metadata": {
        "id": "CatNta1jP0zR",
        "colab_type": "text"
      },
      "cell_type": "markdown",
      "source": [
        "Please refer this [link](http://forums.fast.ai/t/attributeerror-module-pil-image-has-no-attribute-register-extensions/10689/3) for information related to this issue and workaround."
      ]
    },
    {
      "metadata": {
        "id": "oBNSuHHsQG2R",
        "colab_type": "code",
        "colab": {
          "autoexec": {
            "startup": false,
            "wait_interval": 0
          },
          "base_uri": "https://localhost:8080/",
          "height": 503
        },
        "outputId": "ca4facd2-3720-407a-c472-056e11e82907",
        "executionInfo": {
          "status": "ok",
          "timestamp": 1524956328438,
          "user_tz": -330,
          "elapsed": 14502,
          "user": {
            "displayName": "Sufiyan Adhikari",
            "photoUrl": "//lh3.googleusercontent.com/-5v7VMxmmv1Q/AAAAAAAAAAI/AAAAAAAAAWE/402P87Q3Mm8/s50-c-k-no/photo.jpg",
            "userId": "109884950391033451317"
          }
        }
      },
      "cell_type": "code",
      "source": [
        "!pip install Pillow==4.0.0\n",
        "!pip install PIL\n",
        "!pip install image"
      ],
      "execution_count": 0,
      "outputs": [
        {
          "output_type": "stream",
          "text": [
            "Looking in indexes: https://pypi.org/simple, https://legacy.pypi.org/simple\r\n",
            "Collecting Pillow==4.0.0\n",
            "\u001b[?25l  Downloading https://files.pythonhosted.org/packages/37/e8/b3fbf87b0188d22246678f8cd61e23e31caa1769ebc06f1664e2e5fe8a17/Pillow-4.0.0-cp36-cp36m-manylinux1_x86_64.whl (5.6MB)\n",
            "\u001b[K    100% |████████████████████████████████| 5.6MB 6.6MB/s \n",
            "\u001b[?25hRequirement already satisfied: olefile in /usr/local/lib/python3.6/dist-packages (from Pillow==4.0.0) (0.45.1)\n",
            "\u001b[31mtorchvision 0.2.1 has requirement pillow>=4.1.1, but you'll have pillow 4.0.0 which is incompatible.\u001b[0m\n",
            "Installing collected packages: Pillow\n",
            "  Found existing installation: Pillow 5.1.0\n",
            "    Uninstalling Pillow-5.1.0:\n",
            "      Successfully uninstalled Pillow-5.1.0\n",
            "Successfully installed Pillow-4.0.0\n",
            "Looking in indexes: https://pypi.org/simple, https://legacy.pypi.org/simple\n",
            "Collecting PIL\n",
            "\u001b[31m  Could not find a version that satisfies the requirement PIL (from versions: )\u001b[0m\n",
            "\u001b[31mNo matching distribution found for PIL\u001b[0m\n",
            "Looking in indexes: https://pypi.org/simple, https://legacy.pypi.org/simple\n",
            "Collecting image\n",
            "  Downloading https://files.pythonhosted.org/packages/38/b6/ddc5025c0c2884cd0182820b42bdfa99d73b41bd8c4c306afac8dbfc151b/image-1.5.20-py2.py3-none-any.whl\n",
            "Requirement already satisfied: pillow in /usr/local/lib/python3.6/dist-packages (from image) (4.0.0)\n",
            "Collecting django (from image)\n",
            "\u001b[?25l  Downloading https://files.pythonhosted.org/packages/89/f9/94c20658f0cdecc2b6607811e2c0bb042408a51f589e5ad0cb0eac3236a1/Django-2.0.4-py3-none-any.whl (7.1MB)\n",
            "\u001b[K    100% |████████████████████████████████| 7.1MB 3.9MB/s \n",
            "\u001b[?25hRequirement already satisfied: olefile in /usr/local/lib/python3.6/dist-packages (from pillow->image) (0.45.1)\n",
            "Requirement already satisfied: pytz in /usr/local/lib/python3.6/dist-packages (from django->image) (2018.4)\n",
            "\u001b[31mtorchvision 0.2.1 has requirement pillow>=4.1.1, but you'll have pillow 4.0.0 which is incompatible.\u001b[0m\n",
            "Installing collected packages: django, image\n",
            "Successfully installed django-2.0.4 image-1.5.20\n"
          ],
          "name": "stdout"
        }
      ]
    },
    {
      "metadata": {
        "id": "H7Y97zTktxOY",
        "colab_type": "text"
      },
      "cell_type": "markdown",
      "source": [
        "###Installing fastai"
      ]
    },
    {
      "metadata": {
        "id": "WPjt9Otkt4Pq",
        "colab_type": "code",
        "colab": {
          "autoexec": {
            "startup": false,
            "wait_interval": 0
          },
          "base_uri": "https://localhost:8080/",
          "height": 3637
        },
        "outputId": "49643881-6fcd-4edf-e65f-e6430ca46d4f",
        "executionInfo": {
          "status": "ok",
          "timestamp": 1524956435536,
          "user_tz": -330,
          "elapsed": 107054,
          "user": {
            "displayName": "Sufiyan Adhikari",
            "photoUrl": "//lh3.googleusercontent.com/-5v7VMxmmv1Q/AAAAAAAAAAI/AAAAAAAAAWE/402P87Q3Mm8/s50-c-k-no/photo.jpg",
            "userId": "109884950391033451317"
          }
        }
      },
      "cell_type": "code",
      "source": [
        "!pip install fastai"
      ],
      "execution_count": 0,
      "outputs": [
        {
          "output_type": "stream",
          "text": [
            "Looking in indexes: https://pypi.org/simple, https://legacy.pypi.org/simple\n",
            "Collecting fastai\n",
            "\u001b[?25l  Downloading https://files.pythonhosted.org/packages/fb/7e/047b29a6d769b343d00b52c120757a5f71e0ef353b08d8b857a2a8735ad0/fastai-0.6.tar.gz (429kB)\n",
            "\u001b[K    100% |████████████████████████████████| 430kB 5.1MB/s \n",
            "\u001b[?25hCollecting awscli (from fastai)\n",
            "\u001b[?25l  Downloading https://files.pythonhosted.org/packages/26/a5/981fcedb0cba5cd167382878c92956229d14f0ac6846c71f2cd87906d474/awscli-1.15.10-py2.py3-none-any.whl (1.3MB)\n",
            "\u001b[K    100% |████████████████████████████████| 1.3MB 6.9MB/s \n",
            "\u001b[?25hCollecting bcolz (from fastai)\n",
            "\u001b[?25l  Downloading https://files.pythonhosted.org/packages/5c/4e/23942de9d5c0fb16f10335fa83e52b431bcb8c0d4a8419c9ac206268c279/bcolz-1.2.1.tar.gz (1.5MB)\n",
            "\u001b[K    100% |████████████████████████████████| 1.5MB 8.1MB/s \n",
            "\u001b[?25hRequirement already satisfied: bleach in /usr/local/lib/python3.6/dist-packages (from fastai) (1.5.0)\n",
            "Requirement already satisfied: certifi in /usr/local/lib/python3.6/dist-packages (from fastai) (2018.4.16)\n",
            "Requirement already satisfied: cycler in /usr/local/lib/python3.6/dist-packages (from fastai) (0.10.0)\n",
            "Requirement already satisfied: decorator in /usr/local/lib/python3.6/dist-packages (from fastai) (4.3.0)\n",
            "Requirement already satisfied: entrypoints in /usr/local/lib/python3.6/dist-packages (from fastai) (0.2.3)\n",
            "Collecting feather-format (from fastai)\n",
            "  Downloading https://files.pythonhosted.org/packages/08/55/940b97cc6f19a19f5dab9efef2f68a0ce43a7632f858b272391f0b851a7e/feather-format-0.4.0.tar.gz\n",
            "Collecting graphviz (from fastai)\n",
            "  Downloading https://files.pythonhosted.org/packages/84/44/21a7fdd50841aaaef224b943f7d10df87e476e181bb926ccf859bcb53d48/graphviz-0.8.3-py2.py3-none-any.whl\n",
            "Requirement already satisfied: html5lib in /usr/local/lib/python3.6/dist-packages (from fastai) (0.9999999)\n",
            "Requirement already satisfied: ipykernel in /usr/local/lib/python3.6/dist-packages (from fastai) (4.6.1)\n",
            "Requirement already satisfied: ipython in /usr/local/lib/python3.6/dist-packages (from fastai) (5.5.0)\n",
            "Requirement already satisfied: ipython-genutils in /usr/local/lib/python3.6/dist-packages (from fastai) (0.2.0)\n",
            "Collecting ipywidgets (from fastai)\n",
            "\u001b[?25l  Downloading https://files.pythonhosted.org/packages/7d/24/fabc09ad81c6071159a4d12d5bfbddcbea69bd9e3b16c3250ef300c0285f/ipywidgets-7.2.1-py2.py3-none-any.whl (106kB)\n",
            "\u001b[K    100% |████████████████████████████████| 112kB 14.8MB/s \n",
            "\u001b[?25hCollecting isoweek (from fastai)\n",
            "  Downloading https://files.pythonhosted.org/packages/c2/d4/fe7e2637975c476734fcbf53776e650a29680194eb0dd21dbdc020ca92de/isoweek-1.3.3-py2.py3-none-any.whl\n",
            "Collecting jedi (from fastai)\n",
            "\u001b[?25l  Downloading https://files.pythonhosted.org/packages/e7/42/074192a165622e645ed4aeade63e76e56b3496a044569b3c6cae3a918352/jedi-0.12.0-py2.py3-none-any.whl (172kB)\n",
            "\u001b[K    100% |████████████████████████████████| 174kB 15.7MB/s \n",
            "\u001b[?25hRequirement already satisfied: Jinja2 in /usr/local/lib/python3.6/dist-packages (from fastai) (2.10)\n",
            "Requirement already satisfied: jsonschema in /usr/local/lib/python3.6/dist-packages (from fastai) (2.6.0)\n",
            "Collecting jupyter (from fastai)\n",
            "  Downloading https://files.pythonhosted.org/packages/83/df/0f5dd132200728a86190397e1ea87cd76244e42d39ec5e88efd25b2abd7e/jupyter-1.0.0-py2.py3-none-any.whl\n",
            "Requirement already satisfied: jupyter-client in /usr/local/lib/python3.6/dist-packages (from fastai) (5.2.3)\n",
            "Collecting jupyter-console (from fastai)\n",
            "  Downloading https://files.pythonhosted.org/packages/77/82/6469cd7fccf7958cbe5dce2e623f1e3c5e27f1bb1ad36d90519bc2d5d370/jupyter_console-5.2.0-py2.py3-none-any.whl\n",
            "Collecting jupyter_contrib_nbextensions (from fastai)\n",
            "\u001b[?25l  Downloading https://files.pythonhosted.org/packages/d2/f1/57cd4d05d7f070e662844a925d6f6d726ecaf93d8cc2d7b56a66c765fb42/jupyter_contrib_nbextensions-0.5.0-py2.py3-none-any.whl (20.9MB)\n",
            "\u001b[K    60% |███████████████████▌            | 12.7MB 33.4MB/s eta 0:00:01"
          ],
          "name": "stdout"
        },
        {
          "output_type": "stream",
          "text": [
            "\u001b[K    100% |████████████████████████████████| 20.9MB 1.9MB/s \n",
            "\u001b[?25hRequirement already satisfied: jupyter-core in /usr/local/lib/python3.6/dist-packages (from fastai) (4.4.0)\n",
            "Collecting kaggle-cli (from fastai)\n",
            "  Downloading https://files.pythonhosted.org/packages/67/61/710d02460bc4367ffd1f5e71cd9c031fb278f78aa0e8e32ca9dd99a2add8/kaggle-cli-0.12.13.tar.gz\n",
            "Requirement already satisfied: MarkupSafe in /usr/local/lib/python3.6/dist-packages (from fastai) (1.0)\n",
            "Requirement already satisfied: matplotlib in /usr/local/lib/python3.6/dist-packages (from fastai) (2.1.2)\n",
            "Requirement already satisfied: mistune in /usr/local/lib/python3.6/dist-packages (from fastai) (0.8.3)\n",
            "Requirement already satisfied: nbconvert in /usr/local/lib/python3.6/dist-packages (from fastai) (5.3.1)\n",
            "Requirement already satisfied: nbformat in /usr/local/lib/python3.6/dist-packages (from fastai) (4.4.0)\n",
            "Requirement already satisfied: notebook in /usr/local/lib/python3.6/dist-packages (from fastai) (5.2.2)\n",
            "Requirement already satisfied: numpy in /usr/local/lib/python3.6/dist-packages (from fastai) (1.14.2)\n",
            "Requirement already satisfied: olefile in /usr/local/lib/python3.6/dist-packages (from fastai) (0.45.1)\n",
            "Requirement already satisfied: opencv-python in /usr/local/lib/python3.6/dist-packages (from fastai) (3.4.0.12)\n",
            "Requirement already satisfied: pandas in /usr/local/lib/python3.6/dist-packages (from fastai) (0.22.0)\n",
            "Collecting pandas_summary (from fastai)\n",
            "  Downloading https://files.pythonhosted.org/packages/3d/a7/0364272be0c6561c45d67edec8a7bf0532d56b830438168f9078f7720f63/pandas-summary-0.0.41.tar.gz\n",
            "Requirement already satisfied: pandocfilters in /usr/local/lib/python3.6/dist-packages (from fastai) (1.4.2)\n",
            "Requirement already satisfied: pexpect in /usr/local/lib/python3.6/dist-packages (from fastai) (4.5.0)\n",
            "Requirement already satisfied: pickleshare in /usr/local/lib/python3.6/dist-packages (from fastai) (0.7.4)\n",
            "Requirement already satisfied: Pillow in /usr/local/lib/python3.6/dist-packages (from fastai) (4.0.0)\n",
            "Collecting plotnine (from fastai)\n",
            "\u001b[?25l  Downloading https://files.pythonhosted.org/packages/3a/68/cf39dfde4e9fd886703621e3393cd8103cb48d5ecc95b8f048ec148e53a6/plotnine-0.3.0-py2.py3-none-any.whl (3.4MB)\n",
            "\u001b[K    100% |████████████████████████████████| 3.4MB 9.2MB/s \n",
            "\u001b[?25hRequirement already satisfied: prompt-toolkit in /usr/local/lib/python3.6/dist-packages (from fastai) (1.0.15)\n",
            "Requirement already satisfied: ptyprocess in /usr/local/lib/python3.6/dist-packages (from fastai) (0.5.2)\n",
            "Requirement already satisfied: Pygments in /usr/local/lib/python3.6/dist-packages (from fastai) (2.1.3)\n",
            "Requirement already satisfied: pyparsing in /usr/local/lib/python3.6/dist-packages (from fastai) (2.2.0)\n",
            "Requirement already satisfied: python-dateutil in /usr/local/lib/python3.6/dist-packages (from fastai) (2.5.3)\n",
            "Requirement already satisfied: pytz in /usr/local/lib/python3.6/dist-packages (from fastai) (2018.4)\n",
            "Requirement already satisfied: PyYAML in /usr/local/lib/python3.6/dist-packages (from fastai) (3.12)\n",
            "Requirement already satisfied: pyzmq in /usr/local/lib/python3.6/dist-packages (from fastai) (16.0.4)\n",
            "Collecting qtconsole (from fastai)\n",
            "\u001b[?25l  Downloading https://files.pythonhosted.org/packages/90/ff/047e0dca2627b162866920e7aa93f04523c0ae81e5c67060eec85701992d/qtconsole-4.3.1-py2.py3-none-any.whl (108kB)\n",
            "\u001b[K    100% |████████████████████████████████| 112kB 22.5MB/s \n",
            "\u001b[?25hRequirement already satisfied: scipy in /usr/local/lib/python3.6/dist-packages (from fastai) (0.19.1)\n",
            "Requirement already satisfied: seaborn in /usr/local/lib/python3.6/dist-packages (from fastai) (0.7.1)\n",
            "Requirement already satisfied: simplegeneric in /usr/local/lib/python3.6/dist-packages (from fastai) (0.8.1)\n",
            "Requirement already satisfied: six in /usr/local/lib/python3.6/dist-packages (from fastai) (1.11.0)\n",
            "Collecting sklearn_pandas (from fastai)\n",
            "  Downloading https://files.pythonhosted.org/packages/c5/9e/42d7bcddb09a3ff52d0c60c810ba5d0fded28abbe320c85bbf7368192956/sklearn_pandas-1.6.0-py2.py3-none-any.whl\n",
            "Requirement already satisfied: terminado in /usr/local/lib/python3.6/dist-packages (from fastai) (0.8.1)\n",
            "Requirement already satisfied: testpath in /usr/local/lib/python3.6/dist-packages (from fastai) (0.3.1)\n",
            "Collecting torchtext (from fastai)\n",
            "\u001b[?25l  Downloading https://files.pythonhosted.org/packages/78/90/474d5944d43001a6e72b9aaed5c3e4f77516fbef2317002da2096fd8b5ea/torchtext-0.2.3.tar.gz (42kB)\n",
            "\u001b[K    100% |████████████████████████████████| 51kB 15.7MB/s \n",
            "\u001b[?25hRequirement already satisfied: tornado in /usr/local/lib/python3.6/dist-packages (from fastai) (4.5.3)\n",
            "Collecting tqdm (from fastai)\n",
            "\u001b[?25l  Downloading https://files.pythonhosted.org/packages/c2/d4/bf1d99216672eef50392c009a8d0f282c4b643e4f764c962ff7b611ebce4/tqdm-4.23.1-py2.py3-none-any.whl (42kB)\n",
            "\u001b[K    100% |████████████████████████████████| 51kB 16.3MB/s \n",
            "\u001b[?25hRequirement already satisfied: traitlets in /usr/local/lib/python3.6/dist-packages (from fastai) (4.3.2)\n",
            "Requirement already satisfied: wcwidth in /usr/local/lib/python3.6/dist-packages (from fastai) (0.1.7)\n",
            "Requirement already satisfied: webencodings in /usr/local/lib/python3.6/dist-packages (from fastai) (0.5.1)\n",
            "Collecting widgetsnbextension (from fastai)\n",
            "\u001b[?25l  Downloading https://files.pythonhosted.org/packages/ff/fa/64acc09fc845a6b2dc0724d6f3f81e829b778ed5e9a7559567b4f19a3f4b/widgetsnbextension-3.2.1-py2.py3-none-any.whl (2.2MB)\n",
            "\u001b[K    100% |████████████████████████████████| 2.2MB 12.1MB/s \n",
            "\u001b[?25hCollecting colorama<=0.3.7,>=0.2.5 (from awscli->fastai)\n"
          ],
          "name": "stdout"
        },
        {
          "output_type": "stream",
          "text": [
            "  Downloading https://files.pythonhosted.org/packages/b7/8e/ddb32ddaabd431813e180ca224e844bab8ad42fbb47ee07553f0ec44cd86/colorama-0.3.7-py2.py3-none-any.whl\n",
            "Collecting docutils>=0.10 (from awscli->fastai)\n",
            "\u001b[?25l  Downloading https://files.pythonhosted.org/packages/36/fa/08e9e6e0e3cbd1d362c3bbee8d01d0aedb2155c4ac112b19ef3cae8eed8d/docutils-0.14-py3-none-any.whl (543kB)\n",
            "\u001b[K    100% |████████████████████████████████| 552kB 20.5MB/s \n",
            "\u001b[?25hRequirement already satisfied: rsa<=3.5.0,>=3.1.2 in /usr/local/lib/python3.6/dist-packages (from awscli->fastai) (3.4.2)\n",
            "Collecting botocore==1.10.10 (from awscli->fastai)\n",
            "\u001b[?25l  Downloading https://files.pythonhosted.org/packages/77/c9/a40ebce24bbab4c7986fccdac9dade097385ad2feae73dcc47d31a1b4dc8/botocore-1.10.10-py2.py3-none-any.whl (4.2MB)\n",
            "\u001b[K    100% |████████████████████████████████| 4.2MB 7.8MB/s \n",
            "\u001b[?25hCollecting s3transfer<0.2.0,>=0.1.12 (from awscli->fastai)\n",
            "\u001b[?25l  Downloading https://files.pythonhosted.org/packages/d7/14/2a0004d487464d120c9fb85313a75cd3d71a7506955be458eebfe19a6b1d/s3transfer-0.1.13-py2.py3-none-any.whl (59kB)\n",
            "\u001b[K    100% |████████████████████████████████| 61kB 7.0MB/s \n",
            "\u001b[?25hCollecting pyarrow>=0.4.0 (from feather-format->fastai)\n",
            "\u001b[?25l  Downloading https://files.pythonhosted.org/packages/fe/27/576e6c979bfa5f63070f809c930aa85d6198b91d17a64866234597ba861f/pyarrow-0.9.0-cp36-cp36m-manylinux1_x86_64.whl (13.7MB)\n",
            "\u001b[K    100% |████████████████████████████████| 13.7MB 3.0MB/s \n",
            "\u001b[?25hRequirement already satisfied: setuptools>=18.5 in /usr/local/lib/python3.6/dist-packages (from ipython->fastai) (39.0.1)\n",
            "Collecting parso>=0.2.0 (from jedi->fastai)\n",
            "\u001b[?25l  Downloading https://files.pythonhosted.org/packages/63/69/0c383765d192006330bfaae27a2c5d0933fb4760c5aacd933b8b19391693/parso-0.2.0-py2.py3-none-any.whl (90kB)\n",
            "\u001b[K    100% |████████████████████████████████| 92kB 20.2MB/s \n",
            "\u001b[?25hCollecting jupyter-nbextensions-configurator>=0.4.0 (from jupyter_contrib_nbextensions->fastai)\n",
            "\u001b[?25l  Downloading https://files.pythonhosted.org/packages/d1/d8/6bf103e0eafd17caef39c37ff70b8d61bfb21cc8cd91c81ba51755421a34/jupyter_nbextensions_configurator-0.4.0-py2.py3-none-any.whl (466kB)\n",
            "\u001b[K    100% |████████████████████████████████| 471kB 18.9MB/s \n",
            "\u001b[?25hCollecting jupyter-latex-envs>=1.3.8 (from jupyter_contrib_nbextensions->fastai)\n",
            "\u001b[?25l  Downloading https://files.pythonhosted.org/packages/98/db/ef83fb7a8dd71a1c38d8cc5484bb5226dcd8dd996483d6ad3d944670c57b/jupyter_latex_envs-1.4.4.tar.gz (855kB)\n",
            "\u001b[K    100% |████████████████████████████████| 860kB 18.1MB/s \n",
            "\u001b[?25hCollecting jupyter-contrib-core>=0.3.3 (from jupyter_contrib_nbextensions->fastai)\n",
            "  Downloading https://files.pythonhosted.org/packages/e6/8f/04a752a8b66a66e7092c035e5d87d2502ac7ec07f9fb6059059b6c0dc272/jupyter_contrib_core-0.3.3-py2.py3-none-any.whl\n",
            "Collecting lxml (from jupyter_contrib_nbextensions->fastai)\n",
            "\u001b[?25l  Downloading https://files.pythonhosted.org/packages/a7/b9/ccf46cea0f698b40bca2a9c1a44039c336fe1988b82de4f7353be7a8396a/lxml-4.2.1-cp36-cp36m-manylinux1_x86_64.whl (5.6MB)\n",
            "\u001b[K    100% |████████████████████████████████| 5.7MB 6.5MB/s \n",
            "\u001b[?25hCollecting jupyter-highlight-selected-word>=0.1.1 (from jupyter_contrib_nbextensions->fastai)\n",
            "  Downloading https://files.pythonhosted.org/packages/50/d7/19ab7cfd60bf268d2abbacc52d4295a40f52d74dfc0d938e4761ee5e598b/jupyter_highlight_selected_word-0.2.0-py2.py3-none-any.whl\n",
            "Collecting cliff<2.9,>=2.8.0 (from kaggle-cli->fastai)\n",
            "\u001b[?25l  Downloading https://files.pythonhosted.org/packages/ee/e8/140ad9b5826920a8b85c187095e7725b87b913fc40243aa66dd04e9d82d6/cliff-2.8.1.tar.gz (73kB)\n",
            "\u001b[K    100% |████████████████████████████████| 81kB 17.3MB/s \n",
            "\u001b[?25hCollecting MechanicalSoup<0.9,>=0.7.0 (from kaggle-cli->fastai)\n",
            "  Downloading https://files.pythonhosted.org/packages/5c/2e/f63ed26b51e36efa4cc22cad18187fcb0a253f756d548c96bb931f13de98/MechanicalSoup-0.8.0-py2.py3-none-any.whl\n",
            "Collecting cssselect<1.1,>=1.0.1 (from kaggle-cli->fastai)\n",
            "  Downloading https://files.pythonhosted.org/packages/7b/44/25b7283e50585f0b4156960691d951b05d061abf4a714078393e51929b30/cssselect-1.0.3-py2.py3-none-any.whl\n",
            "Collecting configparser (from kaggle-cli->fastai)\n",
            "  Downloading https://files.pythonhosted.org/packages/7c/69/c2ce7e91c89dc073eb1aa74c0621c3eefbffe8216b3f9af9d3885265c01c/configparser-3.5.0.tar.gz\n"
          ],
          "name": "stdout"
        },
        {
          "output_type": "stream",
          "text": [
            "Collecting progressbar2<3.35,>=3.34.3 (from kaggle-cli->fastai)\n",
            "  Downloading https://files.pythonhosted.org/packages/87/31/b984e17bcc7491c1baeda3906fe3abc14cb5cd5dbd046ab46d9fc7a2edfd/progressbar2-3.34.3-py2.py3-none-any.whl\n",
            "Requirement already satisfied: beautifulsoup4<4.7,>=4.6.0 in /usr/local/lib/python3.6/dist-packages (from kaggle-cli->fastai) (4.6.0)\n",
            "Collecting mizani>=0.4.1 (from plotnine->fastai)\n",
            "\u001b[?25l  Downloading https://files.pythonhosted.org/packages/52/01/8a3b4c6e45749674a1e5241174b4b63cd6435125e124bec275f3e02c96ac/mizani-0.4.6-py2.py3-none-any.whl (65kB)\n",
            "\u001b[K    100% |████████████████████████████████| 71kB 18.2MB/s \n",
            "\u001b[?25hRequirement already satisfied: patsy>=0.4.1 in /usr/local/lib/python3.6/dist-packages (from plotnine->fastai) (0.5.0)\n",
            "Requirement already satisfied: statsmodels>=0.8.0 in /usr/local/lib/python3.6/dist-packages (from plotnine->fastai) (0.8.0)\n",
            "Requirement already satisfied: scikit-learn>=0.15.0 in /usr/local/lib/python3.6/dist-packages (from sklearn_pandas->fastai) (0.19.1)\n",
            "Requirement already satisfied: requests in /usr/local/lib/python3.6/dist-packages (from torchtext->fastai) (2.18.4)\n",
            "Requirement already satisfied: pyasn1>=0.1.3 in /usr/local/lib/python3.6/dist-packages (from rsa<=3.5.0,>=3.1.2->awscli->fastai) (0.4.2)\n",
            "Collecting jmespath<1.0.0,>=0.7.1 (from botocore==1.10.10->awscli->fastai)\n",
            "  Downloading https://files.pythonhosted.org/packages/b7/31/05c8d001f7f87f0f07289a5fc0fc3832e9a57f2dbd4d3b0fee70e0d51365/jmespath-0.9.3-py2.py3-none-any.whl\n",
            "Collecting pbr!=2.1.0,>=2.0.0 (from cliff<2.9,>=2.8.0->kaggle-cli->fastai)\n",
            "\u001b[33m  Cache entry deserialization failed, entry ignored\u001b[0m\n",
            "\u001b[33m  Cache entry deserialization failed, entry ignored\u001b[0m\n",
            "\u001b[?25l  Downloading https://files.pythonhosted.org/packages/e1/ba/f95e3ec83f93919b1437028e989cf3fa5ff4f5cae4a1f62255f71deddb5b/pbr-4.0.2-py2.py3-none-any.whl (98kB)\n",
            "\u001b[K    100% |████████████████████████████████| 102kB 19.8MB/s \n",
            "\u001b[?25hCollecting cmd2>=0.6.7 (from cliff<2.9,>=2.8.0->kaggle-cli->fastai)\n",
            "\u001b[?25l  Downloading https://files.pythonhosted.org/packages/ee/02/faa35704449a68f18db39ee9a047e32c8b569e672daadfef3501259fe6bb/cmd2-0.8.5-py2.py3-none-any.whl (51kB)\n",
            "\u001b[K    100% |████████████████████████████████| 61kB 18.6MB/s \n",
            "\u001b[?25hCollecting PrettyTable<0.8,>=0.7.1 (from cliff<2.9,>=2.8.0->kaggle-cli->fastai)\n",
            "  Downloading https://files.pythonhosted.org/packages/ef/30/4b0746848746ed5941f052479e7c23d2b56d174b82f4fd34a25e389831f5/prettytable-0.7.2.tar.bz2\n",
            "Collecting stevedore>=1.20.0 (from cliff<2.9,>=2.8.0->kaggle-cli->fastai)\n",
            "  Downloading https://files.pythonhosted.org/packages/17/6b/3b7d6d08b2ab3e5ef09e01c9f7b3b590ee135f289bb94553419e40922c25/stevedore-1.28.0-py2.py3-none-any.whl\n",
            "Collecting python-utils>=2.1.0 (from progressbar2<3.35,>=3.34.3->kaggle-cli->fastai)\n",
            "  Downloading https://files.pythonhosted.org/packages/eb/a0/19119d8b7c05be49baf6c593f11c432d571b70d805f2fe94c0585e55e4c8/python_utils-2.3.0-py2.py3-none-any.whl\n",
            "Collecting palettable (from mizani>=0.4.1->plotnine->fastai)\n",
            "\u001b[?25l  Downloading https://files.pythonhosted.org/packages/ba/cc/54b3ebfc5d3369e242c600ed49dcdcd3f53a9ac46b082da274386859c821/palettable-3.1.0-py2.py3-none-any.whl (78kB)\n",
            "\u001b[K    100% |████████████████████████████████| 81kB 18.5MB/s \n",
            "\u001b[?25hRequirement already satisfied: urllib3<1.23,>=1.21.1 in /usr/local/lib/python3.6/dist-packages (from requests->torchtext->fastai) (1.22)\n",
            "Requirement already satisfied: idna<2.7,>=2.5 in /usr/local/lib/python3.6/dist-packages (from requests->torchtext->fastai) (2.6)\n",
            "Requirement already satisfied: chardet<3.1.0,>=3.0.2 in /usr/local/lib/python3.6/dist-packages (from requests->torchtext->fastai) (3.0.4)\n",
            "Collecting pyperclip (from cmd2>=0.6.7->cliff<2.9,>=2.8.0->kaggle-cli->fastai)\n",
            "  Downloading https://files.pythonhosted.org/packages/5b/06/86e3c6a55cacef0e4ec7c25379ff7fcd1a88fd939ecefd442b535c792fa4/pyperclip-1.6.0.tar.gz\n",
            "Building wheels for collected packages: fastai, bcolz, feather-format, kaggle-cli, pandas-summary, torchtext, jupyter-latex-envs, cliff, configparser, PrettyTable, pyperclip\n",
            "  Running setup.py bdist_wheel for fastai ... \u001b[?25l-\b \b\\\b \bdone\n",
            "\u001b[?25h  Stored in directory: /content/.cache/pip/wheels/98/2b/88/fe4cfe5bfa9cfea91cdfd2fe205f88746bf103f7b2994dffba\n",
            "  Running setup.py bdist_wheel for bcolz ... \u001b[?25l-\b \b\\\b \b|\b \b/\b \b-\b \b\\\b \b|"
          ],
          "name": "stdout"
        },
        {
          "output_type": "stream",
          "text": [
            "\b \b/\b \b-\b \b\\\b \b|\b \b/\b \b-\b \b\\\b \b|\b \b/\b \b-\b \b\\\b \b|\b \b/\b \b-\b \b\\\b \b|\b \b/\b \b-\b \b\\\b \b|\b \b/\b \b-\b \b\\\b \b|\b \b/\b \b-\b \b\\\b \b|\b \b/\b \b-\b \b\\\b \b|\b \b/\b \b-\b \b\\\b \b|\b \b/\b \b-\b \b\\\b \b|\b \b/\b \b-\b \b\\\b \b|\b \b/\b \b-\b \b\\\b \b|\b \b/\b \b-\b \b\\\b \b|\b \b/\b \b-\b \b\\\b \b|\b \bdone\n",
            "\u001b[?25h  Stored in directory: /content/.cache/pip/wheels/9f/78/26/fb8c0acb91a100dc8914bf236c4eaa4b207cb876893c40b745\n",
            "  Running setup.py bdist_wheel for feather-format ... \u001b[?25l-\b \b\\\b \bdone\n",
            "\u001b[?25h  Stored in directory: /content/.cache/pip/wheels/85/7d/12/2dfa5c0195f921ac935f5e8f27deada74972edc0ae9988a9c1\n",
            "  Running setup.py bdist_wheel for kaggle-cli ... \u001b[?25l-\b \b\\\b \bdone\n",
            "\u001b[?25h  Stored in directory: /content/.cache/pip/wheels/d5/bb/10/c1dd1b08c7433c943cb55c46367ae3f891415e8a37300ff8a7\n",
            "  Running setup.py bdist_wheel for pandas-summary ... \u001b[?25l-\b \bdone\n",
            "\u001b[?25h  Stored in directory: /content/.cache/pip/wheels/86/a9/6b/36b727a9ec687dac08bd3d0501cddd7b1a223943513eb04a03\n",
            "  Running setup.py bdist_wheel for torchtext ... \u001b[?25l-\b \b\\\b \bdone\n",
            "\u001b[?25h  Stored in directory: /content/.cache/pip/wheels/42/a6/f4/b267328bde6bb680094a0c173e8e5627ccc99543abded97204\n",
            "  Running setup.py bdist_wheel for jupyter-latex-envs ... \u001b[?25l-\b \b\\\b \b|\b \bdone\n",
            "\u001b[?25h  Stored in directory: /content/.cache/pip/wheels/65/c1/0f/b90b6d7032c79ee40181fdadb72b2ef9a186f02269d6c52f02\n",
            "  Running setup.py bdist_wheel for cliff ... \u001b[?25l-\b \b\\\b \bdone\n",
            "\u001b[?25h  Stored in directory: /content/.cache/pip/wheels/50/00/6d/d4aeb5ccdd47dd76800592b26f943e4959bc705b2d4e6e54e1\n",
            "  Running setup.py bdist_wheel for configparser ... \u001b[?25l-\b \bdone\n",
            "\u001b[?25h  Stored in directory: /content/.cache/pip/wheels/a3/61/79/424ef897a2f3b14684a7de5d89e8600b460b89663e6ce9d17c\n",
            "  Running setup.py bdist_wheel for PrettyTable ... \u001b[?25l-\b \bdone\n",
            "\u001b[?25h  Stored in directory: /content/.cache/pip/wheels/80/34/1c/3967380d9676d162cb59513bd9dc862d0584e045a162095606\n",
            "  Running setup.py bdist_wheel for pyperclip ... \u001b[?25l-\b \bdone\n",
            "\u001b[?25h  Stored in directory: /content/.cache/pip/wheels/a7/68/ef/ab1ef01625334f10a979e9fe5ef79e1c4fd4cdf4b710a0067b\n",
            "Successfully built fastai bcolz feather-format kaggle-cli pandas-summary torchtext jupyter-latex-envs cliff configparser PrettyTable pyperclip\n",
            "\u001b[31mtorchvision 0.2.1 has requirement pillow>=4.1.1, but you'll have pillow 4.0.0 which is incompatible.\u001b[0m\n",
            "\u001b[31mkaggle-cli 0.12.13 has requirement lxml<4.1,>=4.0.0, but you'll have lxml 4.2.1 which is incompatible.\u001b[0m\n",
            "\u001b[31mplotnine 0.3.0 has requirement scipy>=1.0.0, but you'll have scipy 0.19.1 which is incompatible.\u001b[0m\n",
            "Installing collected packages: colorama, docutils, jmespath, botocore, s3transfer, awscli, bcolz, pyarrow, feather-format, graphviz, widgetsnbextension, ipywidgets, isoweek, parso, jedi, jupyter-console, qtconsole, jupyter, jupyter-contrib-core, jupyter-nbextensions-configurator, jupyter-latex-envs, lxml, jupyter-highlight-selected-word, jupyter-contrib-nbextensions, pbr, pyperclip, cmd2, PrettyTable, stevedore, cliff, MechanicalSoup, cssselect, configparser, python-utils, progressbar2, kaggle-cli, pandas-summary, palettable, mizani, plotnine, sklearn-pandas, tqdm, torchtext, fastai\n",
            "Successfully installed MechanicalSoup-0.8.0 PrettyTable-0.7.2 awscli-1.15.10 bcolz-1.2.1 botocore-1.10.10 cliff-2.8.1 cmd2-0.8.5 colorama-0.3.7 configparser-3.5.0 cssselect-1.0.3 docutils-0.14 fastai-0.6 feather-format-0.4.0 graphviz-0.8.3 ipywidgets-7.2.1 isoweek-1.3.3 jedi-0.12.0 jmespath-0.9.3 jupyter-1.0.0 jupyter-console-5.2.0 jupyter-contrib-core-0.3.3 jupyter-contrib-nbextensions-0.5.0 jupyter-highlight-selected-word-0.2.0 jupyter-latex-envs-1.4.4 jupyter-nbextensions-configurator-0.4.0 kaggle-cli-0.12.13 lxml-4.2.1 mizani-0.4.6 palettable-3.1.0 pandas-summary-0.0.41 parso-0.2.0 pbr-4.0.2 plotnine-0.3.0 progressbar2-3.34.3 pyarrow-0.9.0 pyperclip-1.6.0 python-utils-2.3.0 qtconsole-4.3.1 s3transfer-0.1.13 sklearn-pandas-1.6.0 stevedore-1.28.0 torchtext-0.2.3 tqdm-4.23.1 widgetsnbextension-3.2.1\n"
          ],
          "name": "stdout"
        }
      ]
    },
    {
      "metadata": {
        "id": "SBzhGAububOJ",
        "colab_type": "text"
      },
      "cell_type": "markdown",
      "source": [
        "###Installing libSM"
      ]
    },
    {
      "metadata": {
        "id": "SXTrf1d8uf7I",
        "colab_type": "text"
      },
      "cell_type": "markdown",
      "source": [
        "The import of fastai is will throw an error that this library is missing. So, Installing the same."
      ]
    },
    {
      "metadata": {
        "id": "Mz4epgjBup5b",
        "colab_type": "code",
        "colab": {
          "autoexec": {
            "startup": false,
            "wait_interval": 0
          },
          "base_uri": "https://localhost:8080/",
          "height": 395
        },
        "outputId": "fd3fe25f-70f2-48a4-f471-bd650f495ee4",
        "executionInfo": {
          "status": "ok",
          "timestamp": 1524956441884,
          "user_tz": -330,
          "elapsed": 6316,
          "user": {
            "displayName": "Sufiyan Adhikari",
            "photoUrl": "//lh3.googleusercontent.com/-5v7VMxmmv1Q/AAAAAAAAAAI/AAAAAAAAAWE/402P87Q3Mm8/s50-c-k-no/photo.jpg",
            "userId": "109884950391033451317"
          }
        }
      },
      "cell_type": "code",
      "source": [
        "!apt update && apt install -y libsm6 libxext6"
      ],
      "execution_count": 0,
      "outputs": [
        {
          "output_type": "stream",
          "text": [
            "Get:1 http://security.ubuntu.com/ubuntu artful-security InRelease [83.2 kB]\n",
            "Hit:2 http://archive.ubuntu.com/ubuntu artful InRelease\n",
            "Get:3 http://archive.ubuntu.com/ubuntu artful-updates InRelease [88.7 kB]\n",
            "Get:4 http://security.ubuntu.com/ubuntu artful-security/main amd64 Packages [198 kB]\n",
            "Get:5 http://security.ubuntu.com/ubuntu artful-security/universe amd64 Packages [74.3 kB]\n",
            "Get:6 http://archive.ubuntu.com/ubuntu artful-backports InRelease [74.6 kB]\n",
            "Get:7 http://archive.ubuntu.com/ubuntu artful-updates/universe amd64 Packages [136 kB]\n",
            "Get:8 http://archive.ubuntu.com/ubuntu artful-updates/main amd64 Packages [323 kB]\n",
            "Get:9 http://archive.ubuntu.com/ubuntu artful-backports/universe amd64 Packages [4,359 B]\n",
            "Get:10 http://archive.ubuntu.com/ubuntu artful-backports/main amd64 Packages [1,462 B]\n",
            "Fetched 983 kB in 1s (685 kB/s)\n",
            "Reading package lists... Done\n",
            "Building dependency tree       \n",
            "Reading state information... Done\n",
            "4 packages can be upgraded. Run 'apt list --upgradable' to see them.\n",
            "Reading package lists... Done\n",
            "Building dependency tree       \n",
            "Reading state information... Done\n",
            "libsm6 is already the newest version (2:1.2.2-1).\n",
            "libxext6 is already the newest version (2:1.3.3-1).\n",
            "0 upgraded, 0 newly installed, 0 to remove and 4 not upgraded.\n"
          ],
          "name": "stdout"
        }
      ]
    },
    {
      "metadata": {
        "id": "ntxdOjHTZkzc",
        "colab_type": "text"
      },
      "cell_type": "markdown",
      "source": [
        "# Downloading Kaggle Data CSV\n",
        "The Train data is highly skewed according to [this](http://forums.fast.ai/t/how-to-download-data-for-lesson-2-from-kaggle-for-planet-competition/7684) forum.  \n",
        "Hence We will be sampling the data Initially to limit the max photos of any landmark to *max_photos*  \n",
        "And we will also take multiple copies of photos for landmarks with very small amount of photos.  "
      ]
    },
    {
      "metadata": {
        "id": "QQ3MYLak_yko",
        "colab_type": "text"
      },
      "cell_type": "markdown",
      "source": [
        "### We Asume that the photos are downloaded to the Google Cloud Bucket Beforehand by [THIS]() notebook"
      ]
    },
    {
      "metadata": {
        "id": "-RzBdCi0ZqE9",
        "colab_type": "code",
        "colab": {
          "autoexec": {
            "startup": false,
            "wait_interval": 0
          },
          "base_uri": "https://localhost:8080/",
          "height": 719
        },
        "outputId": "31426b70-3f9a-480d-c8ae-00ec22e3232c",
        "executionInfo": {
          "status": "ok",
          "timestamp": 1524957031936,
          "user_tz": -330,
          "elapsed": 21654,
          "user": {
            "displayName": "Sufiyan Adhikari",
            "photoUrl": "//lh3.googleusercontent.com/-5v7VMxmmv1Q/AAAAAAAAAAI/AAAAAAAAAWE/402P87Q3Mm8/s50-c-k-no/photo.jpg",
            "userId": "109884950391033451317"
          }
        }
      },
      "cell_type": "code",
      "source": [
        "import os\n",
        "!pip install kaggle-cli\n",
        "username = input(\"Enter Kaggle Username: \")\n",
        "import getpass\n",
        "password = getpass.getpass(\"Enter Kagle Password : \")\n",
        "!kg config -u {username} -p {password} -c landmark-recognition-challenge\n",
        "HOME = os.getenv(\"HOME\")\n",
        "os.makedirs(f'{HOME}/data', exist_ok=True)\n",
        "os.chdir(f'{HOME}/data')\n",
        "!kg download\n",
        "import os\n",
        "if not os.path.exists(\"train.csv\"):\n",
        "    !unzip -q sample_submission.csv.zip && unzip -q test.csv.zip && unzip -q train.csv.zip\n",
        "!ls\n",
        "os.chdir(HOME)"
      ],
      "execution_count": 0,
      "outputs": [
        {
          "output_type": "stream",
          "text": [
            "Looking in indexes: https://pypi.org/simple, https://legacy.pypi.org/simple\r\n",
            "Requirement already satisfied: kaggle-cli in /usr/local/lib/python3.6/dist-packages (0.12.13)\r\n",
            "Requirement already satisfied: cliff<2.9,>=2.8.0 in /usr/local/lib/python3.6/dist-packages (from kaggle-cli) (2.8.1)\r\n",
            "Requirement already satisfied: progressbar2<3.35,>=3.34.3 in /usr/local/lib/python3.6/dist-packages (from kaggle-cli) (3.34.3)\n",
            "Requirement already satisfied: beautifulsoup4<4.7,>=4.6.0 in /usr/local/lib/python3.6/dist-packages (from kaggle-cli) (4.6.0)\n",
            "Requirement already satisfied: cssselect<1.1,>=1.0.1 in /usr/local/lib/python3.6/dist-packages (from kaggle-cli) (1.0.3)\n",
            "Requirement already satisfied: configparser in /usr/local/lib/python3.6/dist-packages (from kaggle-cli) (3.5.0)\n",
            "Requirement already satisfied: MechanicalSoup<0.9,>=0.7.0 in /usr/local/lib/python3.6/dist-packages (from kaggle-cli) (0.8.0)\n",
            "Requirement already satisfied: lxml<4.1,>=4.0.0 in /usr/local/lib/python3.6/dist-packages (from kaggle-cli) (4.0.0)\n",
            "Requirement already satisfied: cmd2>=0.6.7 in /usr/local/lib/python3.6/dist-packages (from cliff<2.9,>=2.8.0->kaggle-cli) (0.8.5)\n",
            "Requirement already satisfied: PrettyTable<0.8,>=0.7.1 in /usr/local/lib/python3.6/dist-packages (from cliff<2.9,>=2.8.0->kaggle-cli) (0.7.2)\n",
            "Requirement already satisfied: pyparsing>=2.1.0 in /usr/local/lib/python3.6/dist-packages (from cliff<2.9,>=2.8.0->kaggle-cli) (2.2.0)\n",
            "Requirement already satisfied: stevedore>=1.20.0 in /usr/local/lib/python3.6/dist-packages (from cliff<2.9,>=2.8.0->kaggle-cli) (1.28.0)\n",
            "Requirement already satisfied: PyYAML>=3.10.0 in /usr/local/lib/python3.6/dist-packages (from cliff<2.9,>=2.8.0->kaggle-cli) (3.12)\n",
            "Requirement already satisfied: six>=1.9.0 in /usr/local/lib/python3.6/dist-packages (from cliff<2.9,>=2.8.0->kaggle-cli) (1.11.0)\n",
            "Requirement already satisfied: pbr!=2.1.0,>=2.0.0 in /usr/local/lib/python3.6/dist-packages (from cliff<2.9,>=2.8.0->kaggle-cli) (4.0.2)\n",
            "Requirement already satisfied: python-utils>=2.1.0 in /usr/local/lib/python3.6/dist-packages (from progressbar2<3.35,>=3.34.3->kaggle-cli) (2.3.0)\n",
            "Requirement already satisfied: requests>=2.0 in /usr/local/lib/python3.6/dist-packages (from MechanicalSoup<0.9,>=0.7.0->kaggle-cli) (2.18.4)\n",
            "Requirement already satisfied: wcwidth; sys_platform != \"win32\" in /usr/local/lib/python3.6/dist-packages (from cmd2>=0.6.7->cliff<2.9,>=2.8.0->kaggle-cli) (0.1.7)\n",
            "Requirement already satisfied: pyperclip in /usr/local/lib/python3.6/dist-packages (from cmd2>=0.6.7->cliff<2.9,>=2.8.0->kaggle-cli) (1.6.0)\n",
            "Requirement already satisfied: certifi>=2017.4.17 in /usr/local/lib/python3.6/dist-packages (from requests>=2.0->MechanicalSoup<0.9,>=0.7.0->kaggle-cli) (2018.4.16)\n",
            "Requirement already satisfied: urllib3<1.23,>=1.21.1 in /usr/local/lib/python3.6/dist-packages (from requests>=2.0->MechanicalSoup<0.9,>=0.7.0->kaggle-cli) (1.22)\n",
            "Requirement already satisfied: chardet<3.1.0,>=3.0.2 in /usr/local/lib/python3.6/dist-packages (from requests>=2.0->MechanicalSoup<0.9,>=0.7.0->kaggle-cli) (3.0.4)\n",
            "Requirement already satisfied: idna<2.7,>=2.5 in /usr/local/lib/python3.6/dist-packages (from requests>=2.0->MechanicalSoup<0.9,>=0.7.0->kaggle-cli) (2.6)\n",
            "\u001b[31mtorchvision 0.2.1 has requirement pillow>=4.1.1, but you'll have pillow 4.0.0 which is incompatible.\u001b[0m\n",
            "\u001b[31mplotnine 0.3.0 has requirement scipy>=1.0.0, but you'll have scipy 0.19.1 which is incompatible.\u001b[0m\n",
            "Enter Kaggle Username: dumbPy\n",
            "Enter Kagle Password : ··········\n",
            "downloading https://www.kaggle.com/c/landmark-recognition-challenge/download/test.csv.zip\n",
            "\n",
            "test.csv.zip already downloaded !\n",
            "downloading https://www.kaggle.com/c/landmark-recognition-challenge/download/train.csv.zip\n",
            "\n",
            "train.csv.zip already downloaded !\n",
            "downloading https://www.kaggle.com/c/landmark-recognition-challenge/download/sample_submission.csv.zip\n",
            "\n",
            "sample_submission.csv.zip already downloaded !\n",
            "sample_submission.csv\t   test.csv\t train.csv\n",
            "sample_submission.csv.zip  test.csv.zip  train.csv.zip\n"
          ],
          "name": "stdout"
        }
      ]
    },
    {
      "metadata": {
        "id": "lZ2hxBSimgm0",
        "colab_type": "code",
        "colab": {
          "autoexec": {
            "startup": false,
            "wait_interval": 0
          },
          "base_uri": "https://localhost:8080/",
          "height": 204
        },
        "outputId": "15128a7e-5543-42f8-fef2-4c6e3da4e7d9",
        "executionInfo": {
          "status": "ok",
          "timestamp": 1524957045541,
          "user_tz": -330,
          "elapsed": 4138,
          "user": {
            "displayName": "Sufiyan Adhikari",
            "photoUrl": "//lh3.googleusercontent.com/-5v7VMxmmv1Q/AAAAAAAAAAI/AAAAAAAAAWE/402P87Q3Mm8/s50-c-k-no/photo.jpg",
            "userId": "109884950391033451317"
          }
        }
      },
      "cell_type": "code",
      "source": [
        "import pandas as pd\n",
        "train = pd.read_csv(\"data/train.csv\")\n",
        "train.head()"
      ],
      "execution_count": 0,
      "outputs": [
        {
          "output_type": "execute_result",
          "data": {
            "text/html": [
              "<div>\n",
              "<style scoped>\n",
              "    .dataframe tbody tr th:only-of-type {\n",
              "        vertical-align: middle;\n",
              "    }\n",
              "\n",
              "    .dataframe tbody tr th {\n",
              "        vertical-align: top;\n",
              "    }\n",
              "\n",
              "    .dataframe thead th {\n",
              "        text-align: right;\n",
              "    }\n",
              "</style>\n",
              "<table border=\"1\" class=\"dataframe\">\n",
              "  <thead>\n",
              "    <tr style=\"text-align: right;\">\n",
              "      <th></th>\n",
              "      <th>id</th>\n",
              "      <th>url</th>\n",
              "      <th>landmark_id</th>\n",
              "    </tr>\n",
              "  </thead>\n",
              "  <tbody>\n",
              "    <tr>\n",
              "      <th>0</th>\n",
              "      <td>cacf8152e2d2ae60</td>\n",
              "      <td>http://static.panoramio.com/photos/original/70...</td>\n",
              "      <td>4676</td>\n",
              "    </tr>\n",
              "    <tr>\n",
              "      <th>1</th>\n",
              "      <td>0a58358a2afd3e4e</td>\n",
              "      <td>http://lh6.ggpht.com/-igpT6wu0mIA/ROV8HnUuABI/...</td>\n",
              "      <td>6651</td>\n",
              "    </tr>\n",
              "    <tr>\n",
              "      <th>2</th>\n",
              "      <td>6b2bb500b6a38aa0</td>\n",
              "      <td>http://lh6.ggpht.com/-vKr5G5MEusk/SR6r6SJi6mI/...</td>\n",
              "      <td>11284</td>\n",
              "    </tr>\n",
              "    <tr>\n",
              "      <th>3</th>\n",
              "      <td>b399f09dee9c3c67</td>\n",
              "      <td>https://lh3.googleusercontent.com/-LOW2cjAqubA...</td>\n",
              "      <td>8429</td>\n",
              "    </tr>\n",
              "    <tr>\n",
              "      <th>4</th>\n",
              "      <td>19ace29d77a5be66</td>\n",
              "      <td>https://lh5.googleusercontent.com/-tnmSXwQcWL8...</td>\n",
              "      <td>6231</td>\n",
              "    </tr>\n",
              "  </tbody>\n",
              "</table>\n",
              "</div>"
            ],
            "text/plain": [
              "                 id                                                url  \\\n",
              "0  cacf8152e2d2ae60  http://static.panoramio.com/photos/original/70...   \n",
              "1  0a58358a2afd3e4e  http://lh6.ggpht.com/-igpT6wu0mIA/ROV8HnUuABI/...   \n",
              "2  6b2bb500b6a38aa0  http://lh6.ggpht.com/-vKr5G5MEusk/SR6r6SJi6mI/...   \n",
              "3  b399f09dee9c3c67  https://lh3.googleusercontent.com/-LOW2cjAqubA...   \n",
              "4  19ace29d77a5be66  https://lh5.googleusercontent.com/-tnmSXwQcWL8...   \n",
              "\n",
              "   landmark_id  \n",
              "0         4676  \n",
              "1         6651  \n",
              "2        11284  \n",
              "3         8429  \n",
              "4         6231  "
            ]
          },
          "metadata": {
            "tags": []
          },
          "execution_count": 7
        }
      ]
    },
    {
      "metadata": {
        "id": "S-jHFwFSOUmK",
        "colab_type": "code",
        "colab": {
          "autoexec": {
            "startup": false,
            "wait_interval": 0
          }
        }
      },
      "cell_type": "code",
      "source": [
        ""
      ],
      "execution_count": 0,
      "outputs": []
    },
    {
      "metadata": {
        "id": "y04vv9GRBSio",
        "colab_type": "code",
        "colab": {
          "autoexec": {
            "startup": false,
            "wait_interval": 0
          },
          "base_uri": "https://localhost:8080/",
          "height": 35
        },
        "outputId": "a0483a44-bd62-4447-ab49-0783730cb860",
        "executionInfo": {
          "status": "ok",
          "timestamp": 1524957047997,
          "user_tz": -330,
          "elapsed": 1158,
          "user": {
            "displayName": "Sufiyan Adhikari",
            "photoUrl": "//lh3.googleusercontent.com/-5v7VMxmmv1Q/AAAAAAAAAAI/AAAAAAAAAWE/402P87Q3Mm8/s50-c-k-no/photo.jpg",
            "userId": "109884950391033451317"
          }
        }
      },
      "cell_type": "code",
      "source": [
        "os.getenv(\"HOME\")"
      ],
      "execution_count": 0,
      "outputs": [
        {
          "output_type": "execute_result",
          "data": {
            "text/plain": [
              "'/content'"
            ]
          },
          "metadata": {
            "tags": []
          },
          "execution_count": 8
        }
      ]
    },
    {
      "metadata": {
        "id": "dYi4MPc7KpTG",
        "colab_type": "code",
        "colab": {
          "autoexec": {
            "startup": false,
            "wait_interval": 0
          },
          "base_uri": "https://localhost:8080/",
          "height": 2530
        },
        "outputId": "daa70e08-a842-4c8b-f599-604692d1a429",
        "executionInfo": {
          "status": "error",
          "timestamp": 1524957209359,
          "user_tz": -330,
          "elapsed": 54952,
          "user": {
            "displayName": "Sufiyan Adhikari",
            "photoUrl": "//lh3.googleusercontent.com/-5v7VMxmmv1Q/AAAAAAAAAAI/AAAAAAAAAWE/402P87Q3Mm8/s50-c-k-no/photo.jpg",
            "userId": "109884950391033451317"
          }
        }
      },
      "cell_type": "code",
      "source": [
        "HOME = os.getenv(\"HOME\")\n",
        "DATA = f'{HOME}/data/'\n",
        "output_dirs = [f'{DATA}train', f'{DATA}test']\n",
        "files = [f'{DATA}train.csv', f'{DATA}test.csv']\n",
        "\n",
        "\n",
        "import sys, os, multiprocessing, csv\n",
        "from urllib import request, error\n",
        "from PIL import Image\n",
        "from io import BytesIO\n",
        "import tqdm\n",
        "from functools import partial\n",
        "missing_file_index = []\n",
        "def parse_data(data_file):\n",
        "    csvfile = open(data_file, 'r')\n",
        "    csvreader = csv.reader(csvfile)\n",
        "    key_url_list = [line[:2] for line in csvreader]\n",
        "    return key_url_list[1:]  # Chop off header\n",
        "\n",
        "\n",
        "def download_image(key_url, out_dir):\n",
        "    \n",
        "    (key, url) = key_url\n",
        "    filename = os.path.join(out_dir, '{}.jpg'.format(key))\n",
        "\n",
        "    if os.path.exists(filename):\n",
        "        #print('Image {} already exists. Skipping download.'.format(filename))\n",
        "        return 0\n",
        "\n",
        "    try:\n",
        "        if url[-6:-1] == 's1600': url = url[0:-6] + 's299/'\n",
        "        response = request.urlopen(url)\n",
        "        image_data = response.read()\n",
        "    except:\n",
        "        #print('Warning: Could not download image {} from {}'.format(key, url))\n",
        "        missing_file_index.append(key)\n",
        "        return 1\n",
        "\n",
        "    try:\n",
        "        pil_image = Image.open(BytesIO(image_data))\n",
        "    except:\n",
        "        #print('Warning: Failed to parse image {}'.format(key))\n",
        "        return 1\n",
        "\n",
        "    try:\n",
        "        pil_image_rgb = pil_image.convert('RGB')\n",
        "    except:\n",
        "        #print('Warning: Failed to convert image {} to RGB'.format(key))\n",
        "        return 1\n",
        "\n",
        "    try:\n",
        "        pil_image_rgb.save(filename, format='JPEG')\n",
        "    except:\n",
        "        #print('Warning: Failed to save image {}'.format(filename))\n",
        "        return 1\n",
        "    \n",
        "    return 0\n",
        "\n",
        "\n",
        "\n",
        "def loader(data_file, out_dir):\n",
        "    if not os.path.exists(out_dir):\n",
        "        os.mkdir(out_dir)\n",
        "    \n",
        "    key_url_list = parse_data(data_file)\n",
        "    pool = multiprocessing.Pool(processes=os.cpu_count())  # Num of CPUs\n",
        "    failures = sum(tqdm.tqdm(pool.imap_unordered(partial(download_image, out_dir=out_dir), key_url_list), total=len(key_url_list)))\n",
        "    print('Total number of download failures:', failures)\n",
        "    pool.close()\n",
        "    pool.terminate()\n",
        "\n",
        "    \n",
        "for i in [0, 1]:\n",
        "    loader(data_file=files[i], out_dir=output_dirs[i])\n",
        "\n",
        "# arg1 : data_file.csv\n",
        "# arg2 : output_dir"
      ],
      "execution_count": 0,
      "outputs": [
        {
          "output_type": "stream",
          "text": [
            "\n",
            "  0%|          | 0/1225029 [00:00<?, ?it/s]\u001b[A\n",
            "  0%|          | 63/1225029 [00:00<1:19:41, 256.17it/s]\u001b[A\n",
            "  0%|          | 81/1225029 [00:00<2:24:38, 141.15it/s]\u001b[A\n",
            "  0%|          | 95/1225029 [00:00<2:56:31, 115.65it/s]\u001b[A\n",
            "  0%|          | 108/1225029 [00:01<5:54:22, 57.61it/s]\u001b[A\n",
            "  0%|          | 118/1225029 [00:01<5:27:43, 62.29it/s]\u001b[A\n",
            "  0%|          | 666/1225029 [00:02<1:01:32, 331.60it/s]\u001b[A\n",
            "  0%|          | 836/1225029 [00:02<56:42, 359.78it/s]  \u001b[A\n",
            "  0%|          | 971/1225029 [00:02<51:37, 395.19it/s]\u001b[A\n",
            "  0%|          | 1222/1225029 [00:02<42:17, 482.25it/s]\u001b[A\n",
            "  0%|          | 1407/1225029 [00:02<38:18, 532.36it/s]\u001b[A\n",
            "  0%|          | 1750/1225029 [00:02<32:04, 635.55it/s]\u001b[A\n",
            "  0%|          | 1959/1225029 [00:02<30:40, 664.41it/s]\u001b[A\n",
            "  0%|          | 2137/1225029 [00:03<29:52, 682.24it/s]\u001b[A\n",
            "  0%|          | 2341/1225029 [00:03<27:55, 729.93it/s]\u001b[A\n",
            "  0%|          | 2666/1225029 [00:03<25:15, 806.50it/s]\u001b[A\n",
            "  0%|          | 2882/1225029 [00:03<24:26, 833.40it/s]\u001b[A\n",
            "  0%|          | 3175/1225029 [00:03<22:59, 885.82it/s]\u001b[A\n",
            "  0%|          | 3584/1225029 [00:03<20:58, 970.19it/s]\u001b[A\n",
            "  0%|          | 4036/1225029 [00:03<19:24, 1048.67it/s]\u001b[A\n",
            "  0%|          | 4354/1225029 [00:03<18:41, 1088.52it/s]\u001b[A\n",
            "  0%|          | 4620/1225029 [00:05<26:00, 781.84it/s] \u001b[A\n",
            "  0%|          | 4810/1225029 [00:07<32:58, 616.74it/s]\u001b[A\n",
            "  0%|          | 4946/1225029 [00:07<32:25, 627.01it/s]\u001b[A\n",
            "  0%|          | 5156/1225029 [00:08<31:37, 642.72it/s]\u001b[A\n",
            "  0%|          | 5306/1225029 [00:08<31:06, 653.56it/s]\u001b[A\n",
            "  0%|          | 5451/1225029 [00:08<30:59, 655.79it/s]\u001b[A\n",
            "  0%|          | 5578/1225029 [00:10<36:46, 552.67it/s]\u001b[A\n",
            "  0%|          | 5669/1225029 [00:10<37:02, 548.68it/s]\u001b[A\n",
            "  0%|          | 5749/1225029 [00:10<37:25, 543.04it/s]\u001b[A\n",
            "  1%|          | 6142/1225029 [00:10<35:07, 578.39it/s]\u001b[A\n",
            "  1%|          | 6622/1225029 [00:10<32:55, 616.64it/s]\u001b[A\n",
            "  1%|          | 6936/1225029 [00:10<31:56, 635.57it/s]\u001b[A\n"
          ],
          "name": "stderr"
        },
        {
          "output_type": "stream",
          "text": [
            "  1%|          | 7180/1225029 [00:11<32:29, 624.69it/s]\u001b[A\n",
            "  1%|          | 7364/1225029 [00:12<33:57, 597.76it/s]\u001b[A\n",
            "  1%|          | 7499/1225029 [00:13<35:59, 563.79it/s]\u001b[A\n",
            "  1%|          | 7598/1225029 [00:15<40:42, 498.52it/s]\u001b[A\n",
            "  1%|          | 7669/1225029 [00:15<42:06, 481.88it/s]\u001b[A\n",
            "  1%|          | 7723/1225029 [00:27<1:12:55, 278.23it/s]\u001b[A\n",
            "  1%|          | 7724/1225029 [00:28<1:13:48, 274.85it/s]\u001b[A\n",
            "  1%|          | 7725/1225029 [00:28<1:14:50, 271.07it/s]\u001b[A\n",
            "  1%|          | 7726/1225029 [00:28<1:15:32, 268.58it/s]\u001b[A\n",
            "  1%|          | 7727/1225029 [00:29<1:16:26, 265.41it/s]\u001b[A\n",
            "  1%|          | 7728/1225029 [00:29<1:17:16, 262.55it/s]\u001b[A\n",
            "  1%|          | 7729/1225029 [00:29<1:18:09, 259.58it/s]\u001b[A\n",
            "  1%|          | 7730/1225029 [00:30<1:18:48, 257.42it/s]\u001b[A\n",
            "  1%|          | 7731/1225029 [00:30<1:19:42, 254.51it/s]\u001b[A\n",
            "  1%|          | 7732/1225029 [00:30<1:20:24, 252.31it/s]\u001b[A\n",
            "  1%|          | 7733/1225029 [00:31<1:21:21, 249.34it/s]\u001b[A\n",
            "  1%|          | 7734/1225029 [00:31<1:22:09, 246.92it/s]\u001b[A\n",
            "  1%|          | 7735/1225029 [00:31<1:23:02, 244.32it/s]\u001b[A\n",
            "  1%|          | 7736/1225029 [00:31<1:23:11, 243.89it/s]\u001b[A\n",
            "  1%|          | 7751/1225029 [00:31<1:23:34, 242.74it/s]\u001b[A\n",
            "  1%|          | 7755/1225029 [00:33<1:26:53, 233.50it/s]\u001b[A\n",
            "  1%|          | 7758/1225029 [00:33<1:28:50, 228.34it/s]\u001b[A\n",
            "  1%|          | 7760/1225029 [00:34<1:29:55, 225.61it/s]\u001b[A\n",
            "  1%|          | 7762/1225029 [00:34<1:30:43, 223.62it/s]\u001b[A\n",
            "  1%|          | 7764/1225029 [00:37<1:38:19, 206.32it/s]\u001b[A\n",
            "  1%|          | 7782/1225029 [00:37<1:38:58, 204.98it/s]\u001b[A\n",
            "  1%|          | 7785/1225029 [00:38<1:40:33, 201.73it/s]\u001b[A\n",
            "  1%|          | 7788/1225029 [00:39<1:41:57, 198.96it/s]\u001b[A\n",
            "  1%|          | 7790/1225029 [00:39<1:43:26, 196.11it/s]\u001b[A\n",
            "  1%|          | 7792/1225029 [00:40<1:44:32, 194.05it/s]\u001b[A\n",
            "  1%|          | 7794/1225029 [00:40<1:44:58, 193.24it/s]\u001b[A\n",
            "  1%|          | 7796/1225029 [00:40<1:45:45, 191.83it/s]\u001b[A\n",
            "  1%|          | 7798/1225029 [00:40<1:46:05, 191.23it/s]\u001b[A"
          ],
          "name": "stderr"
        },
        {
          "output_type": "stream",
          "text": [
            "\n",
            "  1%|          | 7800/1225029 [00:41<1:46:46, 189.99it/s]\u001b[A\n",
            "  1%|          | 7801/1225029 [00:41<1:47:12, 189.24it/s]\u001b[A\n",
            "  1%|          | 7802/1225029 [00:41<1:47:35, 188.56it/s]\u001b[A\n",
            "  1%|          | 7804/1225029 [00:41<1:48:08, 187.60it/s]\u001b[A\n",
            "  1%|          | 7806/1225029 [00:41<1:48:39, 186.71it/s]\u001b[A\n",
            "  1%|          | 7808/1225029 [00:42<1:49:13, 185.73it/s]\u001b[A\n",
            "  1%|          | 7809/1225029 [00:42<1:49:38, 185.03it/s]\u001b[A\n",
            "  1%|          | 7811/1225029 [00:42<1:50:02, 184.37it/s]\u001b[A\n",
            "  1%|          | 7812/1225029 [00:42<1:50:18, 183.90it/s]\u001b[A\n",
            "  1%|          | 7813/1225029 [00:42<1:50:44, 183.20it/s]\u001b[A\n",
            "  1%|          | 7815/1225029 [00:42<1:51:09, 182.49it/s]\u001b[A\n",
            "  1%|          | 7817/1225029 [00:43<1:51:48, 181.45it/s]\u001b[A\n",
            "  1%|          | 7818/1225029 [00:43<1:52:06, 180.96it/s]\u001b[A\n",
            "  1%|          | 7820/1225029 [00:43<1:52:32, 180.27it/s]\u001b[A\n",
            "  1%|          | 7821/1225029 [00:43<1:53:00, 179.52it/s]\u001b[A\n",
            "  1%|          | 7822/1225029 [00:43<1:53:21, 178.96it/s]\u001b[A\n",
            "  1%|          | 7824/1225029 [00:43<1:53:48, 178.26it/s]\u001b[A\n",
            "  1%|          | 7826/1225029 [00:44<1:54:21, 177.39it/s]\u001b[A\n",
            "  1%|          | 7827/1225029 [00:44<1:54:49, 176.68it/s]\u001b[A\n",
            "  1%|          | 7828/1225029 [00:44<1:55:12, 176.08it/s]\u001b[A\n",
            "  1%|          | 7829/1225029 [00:44<1:55:38, 175.44it/s]\u001b[A\n",
            "  1%|          | 7830/1225029 [00:44<1:55:59, 174.90it/s]\u001b[A"
          ],
          "name": "stderr"
        },
        {
          "output_type": "error",
          "ename": "KeyboardInterrupt",
          "evalue": "ignored",
          "traceback": [
            "\u001b[0;31m---------------------------------------------------------------------------\u001b[0m",
            "\u001b[0;31mIndexError\u001b[0m                                Traceback (most recent call last)",
            "\u001b[0;32m/usr/lib/python3.6/multiprocessing/pool.py\u001b[0m in \u001b[0;36mnext\u001b[0;34m(self, timeout)\u001b[0m\n\u001b[1;32m    719\u001b[0m             \u001b[0;32mtry\u001b[0m\u001b[0;34m:\u001b[0m\u001b[0;34m\u001b[0m\u001b[0m\n\u001b[0;32m--> 720\u001b[0;31m                 \u001b[0mitem\u001b[0m \u001b[0;34m=\u001b[0m \u001b[0mself\u001b[0m\u001b[0;34m.\u001b[0m\u001b[0m_items\u001b[0m\u001b[0;34m.\u001b[0m\u001b[0mpopleft\u001b[0m\u001b[0;34m(\u001b[0m\u001b[0;34m)\u001b[0m\u001b[0;34m\u001b[0m\u001b[0m\n\u001b[0m\u001b[1;32m    721\u001b[0m             \u001b[0;32mexcept\u001b[0m \u001b[0mIndexError\u001b[0m\u001b[0;34m:\u001b[0m\u001b[0;34m\u001b[0m\u001b[0m\n",
            "\u001b[0;31mIndexError\u001b[0m: pop from an empty deque",
            "\nDuring handling of the above exception, another exception occurred:\n",
            "\u001b[0;31mKeyboardInterrupt\u001b[0m                         Traceback (most recent call last)",
            "\u001b[0;32m<ipython-input-11-2714c5beea50>\u001b[0m in \u001b[0;36m<module>\u001b[0;34m()\u001b[0m\n\u001b[1;32m     72\u001b[0m \u001b[0;34m\u001b[0m\u001b[0m\n\u001b[1;32m     73\u001b[0m \u001b[0;32mfor\u001b[0m \u001b[0mi\u001b[0m \u001b[0;32min\u001b[0m \u001b[0;34m[\u001b[0m\u001b[0;36m0\u001b[0m\u001b[0;34m,\u001b[0m \u001b[0;36m1\u001b[0m\u001b[0;34m]\u001b[0m\u001b[0;34m:\u001b[0m\u001b[0;34m\u001b[0m\u001b[0m\n\u001b[0;32m---> 74\u001b[0;31m     \u001b[0mloader\u001b[0m\u001b[0;34m(\u001b[0m\u001b[0mdata_file\u001b[0m\u001b[0;34m=\u001b[0m\u001b[0mfiles\u001b[0m\u001b[0;34m[\u001b[0m\u001b[0mi\u001b[0m\u001b[0;34m]\u001b[0m\u001b[0;34m,\u001b[0m \u001b[0mout_dir\u001b[0m\u001b[0;34m=\u001b[0m\u001b[0moutput_dirs\u001b[0m\u001b[0;34m[\u001b[0m\u001b[0mi\u001b[0m\u001b[0;34m]\u001b[0m\u001b[0;34m)\u001b[0m\u001b[0;34m\u001b[0m\u001b[0m\n\u001b[0m\u001b[1;32m     75\u001b[0m \u001b[0;34m\u001b[0m\u001b[0m\n\u001b[1;32m     76\u001b[0m \u001b[0;31m# arg1 : data_file.csv\u001b[0m\u001b[0;34m\u001b[0m\u001b[0;34m\u001b[0m\u001b[0m\n",
            "\u001b[0;32m<ipython-input-11-2714c5beea50>\u001b[0m in \u001b[0;36mloader\u001b[0;34m(data_file, out_dir)\u001b[0m\n\u001b[1;32m     65\u001b[0m     \u001b[0mkey_url_list\u001b[0m \u001b[0;34m=\u001b[0m \u001b[0mparse_data\u001b[0m\u001b[0;34m(\u001b[0m\u001b[0mdata_file\u001b[0m\u001b[0;34m)\u001b[0m\u001b[0;34m\u001b[0m\u001b[0m\n\u001b[1;32m     66\u001b[0m     \u001b[0mpool\u001b[0m \u001b[0;34m=\u001b[0m \u001b[0mmultiprocessing\u001b[0m\u001b[0;34m.\u001b[0m\u001b[0mPool\u001b[0m\u001b[0;34m(\u001b[0m\u001b[0mprocesses\u001b[0m\u001b[0;34m=\u001b[0m\u001b[0mos\u001b[0m\u001b[0;34m.\u001b[0m\u001b[0mcpu_count\u001b[0m\u001b[0;34m(\u001b[0m\u001b[0;34m)\u001b[0m\u001b[0;34m)\u001b[0m  \u001b[0;31m# Num of CPUs\u001b[0m\u001b[0;34m\u001b[0m\u001b[0m\n\u001b[0;32m---> 67\u001b[0;31m     \u001b[0mfailures\u001b[0m \u001b[0;34m=\u001b[0m \u001b[0msum\u001b[0m\u001b[0;34m(\u001b[0m\u001b[0mtqdm\u001b[0m\u001b[0;34m.\u001b[0m\u001b[0mtqdm\u001b[0m\u001b[0;34m(\u001b[0m\u001b[0mpool\u001b[0m\u001b[0;34m.\u001b[0m\u001b[0mimap_unordered\u001b[0m\u001b[0;34m(\u001b[0m\u001b[0mpartial\u001b[0m\u001b[0;34m(\u001b[0m\u001b[0mdownload_image\u001b[0m\u001b[0;34m,\u001b[0m \u001b[0mout_dir\u001b[0m\u001b[0;34m=\u001b[0m\u001b[0mout_dir\u001b[0m\u001b[0;34m)\u001b[0m\u001b[0;34m,\u001b[0m \u001b[0mkey_url_list\u001b[0m\u001b[0;34m)\u001b[0m\u001b[0;34m,\u001b[0m \u001b[0mtotal\u001b[0m\u001b[0;34m=\u001b[0m\u001b[0mlen\u001b[0m\u001b[0;34m(\u001b[0m\u001b[0mkey_url_list\u001b[0m\u001b[0;34m)\u001b[0m\u001b[0;34m)\u001b[0m\u001b[0;34m)\u001b[0m\u001b[0;34m\u001b[0m\u001b[0m\n\u001b[0m\u001b[1;32m     68\u001b[0m     \u001b[0mprint\u001b[0m\u001b[0;34m(\u001b[0m\u001b[0;34m'Total number of download failures:'\u001b[0m\u001b[0;34m,\u001b[0m \u001b[0mfailures\u001b[0m\u001b[0;34m)\u001b[0m\u001b[0;34m\u001b[0m\u001b[0m\n\u001b[1;32m     69\u001b[0m     \u001b[0mpool\u001b[0m\u001b[0;34m.\u001b[0m\u001b[0mclose\u001b[0m\u001b[0;34m(\u001b[0m\u001b[0;34m)\u001b[0m\u001b[0;34m\u001b[0m\u001b[0m\n",
            "\u001b[0;32m/usr/local/lib/python3.6/dist-packages/tqdm/_tqdm.py\u001b[0m in \u001b[0;36m__iter__\u001b[0;34m(self)\u001b[0m\n\u001b[1;32m    938\u001b[0m \"\"\", fp_write=getattr(self.fp, 'write', sys.stderr.write))\n\u001b[1;32m    939\u001b[0m \u001b[0;34m\u001b[0m\u001b[0m\n\u001b[0;32m--> 940\u001b[0;31m             \u001b[0;32mfor\u001b[0m \u001b[0mobj\u001b[0m \u001b[0;32min\u001b[0m \u001b[0miterable\u001b[0m\u001b[0;34m:\u001b[0m\u001b[0;34m\u001b[0m\u001b[0m\n\u001b[0m\u001b[1;32m    941\u001b[0m                 \u001b[0;32myield\u001b[0m \u001b[0mobj\u001b[0m\u001b[0;34m\u001b[0m\u001b[0m\n\u001b[1;32m    942\u001b[0m                 \u001b[0;31m# Update and possibly print the progressbar.\u001b[0m\u001b[0;34m\u001b[0m\u001b[0;34m\u001b[0m\u001b[0m\n",
            "\u001b[0;32m/usr/lib/python3.6/multiprocessing/pool.py\u001b[0m in \u001b[0;36mnext\u001b[0;34m(self, timeout)\u001b[0m\n\u001b[1;32m    722\u001b[0m                 \u001b[0;32mif\u001b[0m \u001b[0mself\u001b[0m\u001b[0;34m.\u001b[0m\u001b[0m_index\u001b[0m \u001b[0;34m==\u001b[0m \u001b[0mself\u001b[0m\u001b[0;34m.\u001b[0m\u001b[0m_length\u001b[0m\u001b[0;34m:\u001b[0m\u001b[0;34m\u001b[0m\u001b[0m\n\u001b[1;32m    723\u001b[0m                     \u001b[0;32mraise\u001b[0m \u001b[0mStopIteration\u001b[0m\u001b[0;34m\u001b[0m\u001b[0m\n\u001b[0;32m--> 724\u001b[0;31m                 \u001b[0mself\u001b[0m\u001b[0;34m.\u001b[0m\u001b[0m_cond\u001b[0m\u001b[0;34m.\u001b[0m\u001b[0mwait\u001b[0m\u001b[0;34m(\u001b[0m\u001b[0mtimeout\u001b[0m\u001b[0;34m)\u001b[0m\u001b[0;34m\u001b[0m\u001b[0m\n\u001b[0m\u001b[1;32m    725\u001b[0m                 \u001b[0;32mtry\u001b[0m\u001b[0;34m:\u001b[0m\u001b[0;34m\u001b[0m\u001b[0m\n\u001b[1;32m    726\u001b[0m                     \u001b[0mitem\u001b[0m \u001b[0;34m=\u001b[0m \u001b[0mself\u001b[0m\u001b[0;34m.\u001b[0m\u001b[0m_items\u001b[0m\u001b[0;34m.\u001b[0m\u001b[0mpopleft\u001b[0m\u001b[0;34m(\u001b[0m\u001b[0;34m)\u001b[0m\u001b[0;34m\u001b[0m\u001b[0m\n",
            "\u001b[0;32m/usr/lib/python3.6/threading.py\u001b[0m in \u001b[0;36mwait\u001b[0;34m(self, timeout)\u001b[0m\n\u001b[1;32m    293\u001b[0m         \u001b[0;32mtry\u001b[0m\u001b[0;34m:\u001b[0m    \u001b[0;31m# restore state no matter what (e.g., KeyboardInterrupt)\u001b[0m\u001b[0;34m\u001b[0m\u001b[0m\n\u001b[1;32m    294\u001b[0m             \u001b[0;32mif\u001b[0m \u001b[0mtimeout\u001b[0m \u001b[0;32mis\u001b[0m \u001b[0;32mNone\u001b[0m\u001b[0;34m:\u001b[0m\u001b[0;34m\u001b[0m\u001b[0m\n\u001b[0;32m--> 295\u001b[0;31m                 \u001b[0mwaiter\u001b[0m\u001b[0;34m.\u001b[0m\u001b[0macquire\u001b[0m\u001b[0;34m(\u001b[0m\u001b[0;34m)\u001b[0m\u001b[0;34m\u001b[0m\u001b[0m\n\u001b[0m\u001b[1;32m    296\u001b[0m                 \u001b[0mgotit\u001b[0m \u001b[0;34m=\u001b[0m \u001b[0;32mTrue\u001b[0m\u001b[0;34m\u001b[0m\u001b[0m\n\u001b[1;32m    297\u001b[0m             \u001b[0;32melse\u001b[0m\u001b[0;34m:\u001b[0m\u001b[0;34m\u001b[0m\u001b[0m\n",
            "\u001b[0;31mKeyboardInterrupt\u001b[0m: "
          ]
        }
      ]
    },
    {
      "metadata": {
        "id": "Ms-8mJqwhys4",
        "colab_type": "code",
        "colab": {
          "autoexec": {
            "startup": false,
            "wait_interval": 0
          },
          "base_uri": "https://localhost:8080/",
          "height": 35
        },
        "outputId": "2635562a-b509-4d94-cdec-f6c92cfb167e",
        "executionInfo": {
          "status": "ok",
          "timestamp": 1524957218711,
          "user_tz": -330,
          "elapsed": 2343,
          "user": {
            "displayName": "Sufiyan Adhikari",
            "photoUrl": "//lh3.googleusercontent.com/-5v7VMxmmv1Q/AAAAAAAAAAI/AAAAAAAAAWE/402P87Q3Mm8/s50-c-k-no/photo.jpg",
            "userId": "109884950391033451317"
          }
        }
      },
      "cell_type": "code",
      "source": [
        "!ls\n"
      ],
      "execution_count": 0,
      "outputs": [
        {
          "output_type": "stream",
          "text": [
            "data  datalab\r\n"
          ],
          "name": "stdout"
        }
      ]
    },
    {
      "metadata": {
        "id": "vTbsOgH2PuJ1",
        "colab_type": "code",
        "colab": {
          "autoexec": {
            "startup": false,
            "wait_interval": 0
          },
          "base_uri": "https://localhost:8080/",
          "height": 1205
        },
        "outputId": "ba47a309-6d37-4217-de76-939a7362aaf0",
        "executionInfo": {
          "status": "ok",
          "timestamp": 1524957317647,
          "user_tz": -330,
          "elapsed": 2381,
          "user": {
            "displayName": "Sufiyan Adhikari",
            "photoUrl": "//lh3.googleusercontent.com/-5v7VMxmmv1Q/AAAAAAAAAAI/AAAAAAAAAWE/402P87Q3Mm8/s50-c-k-no/photo.jpg",
            "userId": "109884950391033451317"
          }
        }
      },
      "cell_type": "code",
      "source": [
        "\n",
        "!ls"
      ],
      "execution_count": 0,
      "outputs": [
        {
          "output_type": "stream",
          "text": [
            "005228985d3ada8f.jpg  48adda14fc415680.jpg  a5649dc16058d87d.jpg\r\n",
            "022c76cdf5590484.jpg  48ea1fb83aeeb751.jpg  a58ac294e0278f08.jpg\r\n",
            "0346ae4a18186351.jpg  4a6fd336ec2bb90a.jpg  a929086eb601e450.jpg\r\n",
            "0377d4b815737438.jpg  4aa03c2a3e8f5fde.jpg  aabaf00550f97efd.jpg\r\n",
            "03be82e979e86871.jpg  4cf2e4eac039ea80.jpg  ab13907475fa47c8.jpg\r\n",
            "04e323239562ae48.jpg  5387f15c604c465f.jpg  b430d27776327787.jpg\r\n",
            "05a91bcbc8413778.jpg  53c1dfb80abdd76e.jpg  b57ba9e173bd45a9.jpg\r\n",
            "06518ba6c212929e.jpg  54598858132255a6.jpg  b665b86b96c1ad8c.jpg\r\n",
            "0867da69ec8b0813.jpg  5674ce23d54e4b37.jpg  b6788f821b649e1f.jpg\r\n",
            "0b62993300a90784.jpg  567998dc16f7c26c.jpg  b7594557569479c8.jpg\r\n",
            "0c6a6b7f8d3e6b93.jpg  5a0d8266f4dfa694.jpg  b8bb811f404fe7f3.jpg\r\n",
            "0d3fe70a6773f10c.jpg  5bfae367e94b691f.jpg  b91e437e5c141e03.jpg\r\n",
            "0d4666f25177ca9a.jpg  5c8c99db43565e94.jpg  bdf93114cf75c099.jpg\r\n",
            "105fce2545443ea2.jpg  5f24b4807ab9240d.jpg  be381a2cf6f6ec66.jpg\r\n",
            "1064998c65fe94f8.jpg  602ac62e6bdd739f.jpg  be76d810397002da.jpg\r\n",
            "108dbfb4a6ad3f04.jpg  613201b11bc279af.jpg  c03b37ee5fc0e7c0.jpg\r\n",
            "10f69b722e6602a7.jpg  62c3f4b69ae6af32.jpg  c131f820c269084e.jpg\r\n",
            "129da671925b2e51.jpg  62f0576694628f82.jpg  c1d00408f794232d.jpg\r\n",
            "13a839c5f3b0dd9e.jpg  633ac924af504195.jpg  c2869914a634e78b.jpg\r\n",
            "146d4e54d87cb085.jpg  67db5348e69e4c2a.jpg  c2950bf59e46f8bc.jpg\r\n",
            "14a10fd06bb64ae6.jpg  68a62fb288bc51b4.jpg  c41aaf93fe35c496.jpg\r\n",
            "15836c054add470f.jpg  68ba6fb1dc6de56a.jpg  c439a3697d613fad.jpg\r\n",
            "16a6a33bc5bdaaac.jpg  698d73d37585cc97.jpg  c55f237f1281e540.jpg\r\n",
            "17b7e368714e4647.jpg  6a3a74575fb0d7e7.jpg  c7fbc4b9abda9e67.jpg\r\n",
            "17d92201ec9ce215.jpg  6a4024e034398fde.jpg  c8f06671b881ed49.jpg\r\n",
            "19fd80b60a06bba7.jpg  6bd6e29241ea8ff1.jpg  ca1e259ccf492fe5.jpg\r\n",
            "1af243c2cbdb6cd2.jpg  6ce7afcfed6402ad.jpg  ca30dab8910acbdb.jpg\r\n",
            "1b292c57c29c3dcd.jpg  6e29cb4308184ccd.jpg  cb0f7f82dd9f1464.jpg\r\n",
            "1cdf075bd84c1b2a.jpg  6ef4cb4dd0e7dd47.jpg  cf3701c9cb8b339a.jpg\r\n",
            "1d3d274d251d65fd.jpg  71a0ab4096f0c19d.jpg  d090ba3b115b7fbc.jpg\r\n",
            "1ee68940f91cdd57.jpg  77e58e5c33797a75.jpg  d0f78b71109dcb5e.jpg\r\n",
            "20eddae12fa7f41d.jpg  781ecf733a32721e.jpg  d1f4f614a5956ec1.jpg\r\n",
            "21f01b9e57b4ff3b.jpg  796ddcfcef92e437.jpg  d2017a9bf4c2be06.jpg\r\n",
            "2200c4de910e7b83.jpg  7982df55ab63c235.jpg  d20a89b22e16795d.jpg\r\n",
            "224f6b97a3a2f19b.jpg  7a04098babc84948.jpg  d20ac6f552f4bc8d.jpg\r\n",
            "23d51e799b88621d.jpg  7ac1b5ffc6acfe97.jpg  d2545666bc8e6465.jpg\r\n",
            "2606ae1b9792a3bd.jpg  7af5596bcff7ac67.jpg  d3f5676f6b3f0947.jpg\r\n",
            "27b200b42a781f93.jpg  7da257308b07fa3f.jpg  d413ff915b381590.jpg\r\n",
            "27b63649913a53b3.jpg  7fb253e5746d3811.jpg  d8e2c97c5e9fb29c.jpg\r\n",
            "28789d8550c14c57.jpg  80ff32ca3a1c0a89.jpg  d8f3829bc7d6c1e8.jpg\r\n",
            "2971512bd9c80e38.jpg  8290f05f81b5147d.jpg  d9d6e69b6fe82ddf.jpg\r\n",
            "2a8b2b521013c15f.jpg  84b058683caa877d.jpg  da7a979360edcb58.jpg\r\n",
            "2bd19e107517ff1d.jpg  8592a9a2b8cba61a.jpg  dcb257f3fbc97cef.jpg\r\n",
            "2befce8c0a586fe1.jpg  85c68539a8e4cdc0.jpg  dce34c9c61991d8c.jpg\r\n",
            "2c30ec16f7e019d5.jpg  863166a01e1ad6ae.jpg  dd2a9081624dd076.jpg\r\n",
            "2d0ada27ff1bd465.jpg  87350b8769fb142a.jpg  de255ae5bd0be9b9.jpg\r\n",
            "2dd09f142100c27b.jpg  87d747730cc0d0f2.jpg  de386e4abd5d49e9.jpg\r\n",
            "2ed8cfbe2d6559e0.jpg  8ac72d8a75550f35.jpg  dffb556738719298.jpg\r\n",
            "313a975ba0c1274a.jpg  8b35ad755d374682.jpg  e12df0c460790ee1.jpg\r\n",
            "31cc56417605b1bc.jpg  8cb5f85419942b11.jpg  e31d66655feba40a.jpg\r\n",
            "32235d4620c49a8b.jpg  92f293f30a724b9f.jpg  e7469b8e417cd3a5.jpg\r\n",
            "32439dab6ff22307.jpg  9362c00a7e8c0842.jpg  e97102fd9a212545.jpg\r\n",
            "326285d5fad58edf.jpg  9483f803362c90a8.jpg  ec98043f6a3ac1a0.jpg\r\n",
            "3328495559afdcbf.jpg  94db809311f38ec0.jpg  ee96c18ea40eced3.jpg\r\n",
            "353f2edb7e926914.jpg  9592dda24a019498.jpg  efb1b71eb743593a.jpg\r\n",
            "37dbc65efa0ec1f4.jpg  99beb77e5798d95c.jpg  f33cd980bcede989.jpg\r\n",
            "398b6fbc768c2bd6.jpg  99c7b0e10d00ec51.jpg  f45a71e580cd1ba7.jpg\r\n",
            "3a398f1aa98f232c.jpg  9bf9a2163a57ab84.jpg  f4b87dbcc268ed35.jpg\r\n",
            "3c9ddc92f21979ee.jpg  9c3187025bf844cf.jpg  f4bc68838e7016ff.jpg\r\n",
            "4019da67ff718a86.jpg  9c441a3a73f97d36.jpg  f83909b5ebc68138.jpg\r\n",
            "40c8b86444655e5f.jpg  9da0ae3043846eba.jpg  f8d370573395ccb1.jpg\r\n",
            "4196d90f1b5b697f.jpg  9fdd528418c938d4.jpg  f9e5bb2804795720.jpg\r\n",
            "431606d2a6dff0f6.jpg  9fe4a85143d9f2ba.jpg  fbff6bcc42bbcd0b.jpg\r\n",
            "45be6d9e1619f010.jpg  a033ac51c5d8bba7.jpg  ff1c83b4ca59edad.jpg\r\n",
            "471a4f1e6efae58b.jpg  a0a20325f14350ec.jpg\r\n",
            "47375bb6b638f66e.jpg  a54f838cbcaeee3b.jpg\r\n"
          ],
          "name": "stdout"
        }
      ]
    },
    {
      "metadata": {
        "id": "9h2cBTm_iRJ6",
        "colab_type": "code",
        "colab": {
          "autoexec": {
            "startup": false,
            "wait_interval": 0
          }
        }
      },
      "cell_type": "code",
      "source": [
        ""
      ],
      "execution_count": 0,
      "outputs": []
    }
  ]
}